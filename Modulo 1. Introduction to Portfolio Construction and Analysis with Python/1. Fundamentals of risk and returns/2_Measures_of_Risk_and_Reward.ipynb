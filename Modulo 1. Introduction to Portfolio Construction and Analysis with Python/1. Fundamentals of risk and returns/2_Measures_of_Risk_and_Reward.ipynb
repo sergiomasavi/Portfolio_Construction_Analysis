{
 "cells": [
  {
   "cell_type": "markdown",
   "id": "64c7f74c",
   "metadata": {
    "toc": true
   },
   "source": [
    "<h1>Table of Contents<span class=\"tocSkip\"></span></h1>\n",
    "<div class=\"toc\"><ul class=\"toc-item\"><li><span><a href=\"#Librerías\" data-toc-modified-id=\"Librerías-1\"><span class=\"toc-item-num\">1&nbsp;&nbsp;</span>Librerías</a></span></li><li><span><a href=\"#Teoría\" data-toc-modified-id=\"Teoría-2\"><span class=\"toc-item-num\">2&nbsp;&nbsp;</span>Teoría</a></span><ul class=\"toc-item\"><li><span><a href=\"#La-volatilidad\" data-toc-modified-id=\"La-volatilidad-2.1\"><span class=\"toc-item-num\">2.1&nbsp;&nbsp;</span>La volatilidad</a></span></li><li><span><a href=\"#Anualización-del-nivel-de-riesgo\" data-toc-modified-id=\"Anualización-del-nivel-de-riesgo-2.2\"><span class=\"toc-item-num\">2.2&nbsp;&nbsp;</span>Anualización del nivel de riesgo</a></span></li><li><span><a href=\"#Métricas-para-ajustar-el-rendimiento-al-riesgo\" data-toc-modified-id=\"Métricas-para-ajustar-el-rendimiento-al-riesgo-2.3\"><span class=\"toc-item-num\">2.3&nbsp;&nbsp;</span>Métricas para ajustar el rendimiento al riesgo</a></span></li></ul></li><li><span><a href=\"#Práctica\" data-toc-modified-id=\"Práctica-3\"><span class=\"toc-item-num\">3&nbsp;&nbsp;</span>Práctica</a></span><ul class=\"toc-item\"><li><span><a href=\"#Cargar-precios\" data-toc-modified-id=\"Cargar-precios-3.1\"><span class=\"toc-item-num\">3.1&nbsp;&nbsp;</span>Cargar precios</a></span></li><li><span><a href=\"#Calcular-rendimientos\" data-toc-modified-id=\"Calcular-rendimientos-3.2\"><span class=\"toc-item-num\">3.2&nbsp;&nbsp;</span>Calcular rendimientos</a></span></li><li><span><a href=\"#Nivel-de-riesgo\" data-toc-modified-id=\"Nivel-de-riesgo-3.3\"><span class=\"toc-item-num\">3.3&nbsp;&nbsp;</span>Nivel de riesgo</a></span></li><li><span><a href=\"#Anualización-de-la-volatilidad\" data-toc-modified-id=\"Anualización-de-la-volatilidad-3.4\"><span class=\"toc-item-num\">3.4&nbsp;&nbsp;</span>Anualización de la volatilidad</a></span></li><li><span><a href=\"#Métricas-para-ajustar-el-rendimiento-al-riesgo\" data-toc-modified-id=\"Métricas-para-ajustar-el-rendimiento-al-riesgo-3.5\"><span class=\"toc-item-num\">3.5&nbsp;&nbsp;</span>Métricas para ajustar el rendimiento al riesgo</a></span></li></ul></li></ul></div>"
   ]
  },
  {
   "cell_type": "markdown",
   "id": "6fd7caf1",
   "metadata": {},
   "source": [
    "## Librerías"
   ]
  },
  {
   "cell_type": "code",
   "execution_count": 1,
   "id": "c10ef983",
   "metadata": {
    "ExecuteTime": {
     "end_time": "2021-08-23T09:37:45.042942Z",
     "start_time": "2021-08-23T09:37:44.534060Z"
    }
   },
   "outputs": [],
   "source": [
    "import empyrical as em\n",
    "import pandas as pd\n",
    "from datetime import datetime\n",
    "import numpy as np\n",
    "from matplotlib import pyplot as plt"
   ]
  },
  {
   "cell_type": "markdown",
   "id": "82d77fe5",
   "metadata": {},
   "source": [
    "## Teoría"
   ]
  },
  {
   "cell_type": "markdown",
   "id": "f089699f",
   "metadata": {},
   "source": [
    "### La volatilidad\n",
    "\n",
    "Un aspecto más importante que los retornos, en cierto sentido, es la volatilidad. Así que vamos a empezar de nuevo, con la misma serie de retorno que vimos antes, tenemos la serie azul y la serie naranja. Un mayor valor de volatilidad significa que los retornos se están desviando del valor medio más a menudo y más significativamente que en valores bajos de volatilidad. \n",
    "\n",
    "Una vez conocidos los rendimientos en un conjunto de operaciones el siguiente paso es  calcular el riesgo o  volatilidad (desviación estándar) que puede realizarse con la función __.std()__ de pandas obteniendo de esta forma  una medida de riesgo. \n",
    "\n",
    "__Formulación.__\n",
    "\n",
    "La desviación estándar trata de medir la dispersión de los retornos, es decir, hasta qué punto se desvían de la media.\n",
    "Para ello, en primer lugar se calcula la varianza como el valor promedio de la distancia al cuadrado de las desviaciones respecto a la media. De esta forma las desviaciones obtenidas $(R_{i} - R_{mean})$ miden el la distancia que cada retorno tiene respecto la media, es decir, el spread, obteniendo valores positivos y negativos. Para poder tener una medida que represente la distancia se elevan al cuadrado las desviaciones. Una vez se calcula las disviaciones al cuadrado se promedia dicho valor obteniendo lo que se conoce como varianza. \n",
    "\n",
    "Una vez calculada la varianza, para poder compararlo con los propios retornos, generalmente, se utiliza como medida de volatilidad la raíz cuadrada de la varianza, es decir, la desviación típica. Mayor es la volatilidad significa mayor desviación de los retornos respecto a la media.\n",
    "\n",
    "La ecuación utilizada para calcular la volatilidad poblacional es:\n",
    "\n",
    "\\begin{align}\n",
    "\\sigma_{R} = \\sqrt{\\frac{1}{N}\\sum^{N}_{i=1}{(R_{i} - R_{mean})^{2}}}\n",
    "\\end{align}\n",
    "\n",
    "\n",
    "La desviación típica de las muestras de una distribución método (numpy.std()) se calcula como:\n",
    "\\begin{align}\n",
    "\\sigma_{R} = \\sqrt{\\frac{1}{N-1}\\sum^{N}_{i=1}{(R_{i} - R_{mean})^{2}}}\n",
    "\\end{align}"
   ]
  },
  {
   "cell_type": "markdown",
   "id": "c3594c72",
   "metadata": {},
   "source": [
    "\n",
    "### Anualización del nivel de riesgo\n",
    "\n",
    "De la misma forma que sucede con los retornos, para poder comparar las voltailidades en series con distinta granualidad es necesario la anualización de las mismas.\n",
    "\n",
    "Por ejemplo, con retornos diarios sin aplicar la anualización de la volatilidad se notará en mayor medida la volatilidad porque se tiene una mayor cantidad de puntos en los datos datos. Sin embargo, cuando los retornos se obtienen con una granualidad mensual se tiene un menor número de puntos intermedios y el valor obtenido no se podrá comparar con el obtenido con una granulanidad distinta. \n",
    "\n",
    "La forma en que anualiza la volatilidad es multiplicar la volatilidad que obtiene de los datos (Ej. diarios) por el número de períodos dentro de un año (Ej.días al año; 252). \n",
    "\n",
    "__Formulación.__\n",
    "\n",
    "\\begin{align}\n",
    "\\sigma_{ann} = \\sigma_{p}\\sqrt{p}\n",
    "\\end{align}\n",
    "\n",
    "__Ejemplo 1.__\n",
    "\n",
    "Si se tiene una volatilidad de 0.1% calculada con datos diarios, para anualizar se toma ese 0.1% y se multiplica por la raiz cuadrada de 252 obteniendo una volatilidad anual de 0.001, y tú multiplicaste por la raíz cuadrada de 252, y eso te da 15,8%. \n",
    "\n",
    "__Ejemplo 2.__\n",
    "\n",
    "Supongamos que se trabaja con datos mensuales. Para obtener la volatilidad anualizada se toma la volatilidad calculada en mensualmente y se multiplicada por la raíz cuadrada de 12. \n",
    "\n",
    "__Pregunta. La volatilidad anualizada es siempre mayor que la volatilidad mensual. ¿Verdadero o falso?__\n",
    "\n",
    "Es cierto. Como se multiplica la volatilidad mensual por la raíz cuadrada de 12, el resultado siempre será mayor que la volatilidad mensual."
   ]
  },
  {
   "cell_type": "markdown",
   "id": "982a3ac8",
   "metadata": {},
   "source": [
    "\n",
    "### Métricas para ajustar el rendimiento al riesgo\n",
    "\n",
    "Una vez conocido como es posible calcular los retornos y el riesgo, es necesario conocer algún tipo de método para comparar los retornos con un nivel de riesgo diferente. \n",
    "\n",
    "\n",
    "Por ejemplo, en el siguiente gráfico está representado los retornos desde 1926 a 2018 de dos carteras diferentes de EEUU. \n",
    "\n",
    "<img src=\"images/MedidasRiesgoAjustadoEjemplo.png\" width=\"400\" height=\"200\">\n",
    "\n",
    "Como se puede observar el activo azul son retornos mucho más volátiles, concretamente, la volatilidad anualizada es del 36.8% con un rendimiento más alto del 17.2%. Por otro lado, el activo naranja obtuvo un rendimiento del 9.5% durante ese mismo período anualizado pero con una volatilidad mucho menor del 18.7%. Entonces, ¿cómo se comparan los dos activos? \n",
    "\n",
    "Una posibilidad de comparación es simplemente calcular la proporción, es decir, ¿cuánto rendimiento se obtuvo por unidad de riesgo? A esta relación se le conoce como __la relación de retorno del riesgo__. \n",
    "\n",
    "\\begin{align}\n",
    "R_{return,risk} = \\frac{return}{risk}\n",
    "\\end{align}\n",
    "\n",
    "Utilizando la relación de retorno del riesgo se obtiene que el activo azul obtuvo un valor de 0.47 mientras que el naranja de 0.5 que indica que, aunque el activo naranja obtuvieron rendimientos más bajos presentan un mejor retorno por unidad de volatilidad.\n",
    "\n",
    "\n",
    "Sin embargo, para obtener una métrica más exacta Pero voy a sugerir un ajuste que tienes que hacer para obtener una imagen aún mejor.  \n",
    "Si acabas de hacer el cálculo muy simple que dije, esa es la relación entre retorno y riesgo. Parece que las gorras pequeñas te dieron alrededor de 0.47, las gorras grandes te dieron alrededor de 0.50, podría sugerir que aunque las gorras grandes te dieron rendimientos más bajos. En realidad te dieron un mejor retorno por unidad de volatilidad, ¿verdad? Así que podrías pensar, de acuerdo, bueno, tal vez las gorras pequeñas no eran tan geniales después de todo.\n",
    "\n",
    "Por lo tanto, la idea es que no se debe mirar el retorno, si no que es más recomendable observar el exceso de rendimiento por unidad de volatilidad, es decir,  el exceso de rendimiento sobre lo que se podría haber conseguido sin volatilidad. Al valor que se puede obtener sin volatilidad se le conoce como __la tasa libre de riesgo__. \n",
    "\n",
    "La tasa libre de riesgo es básicamente el rendimiento que se obtiene con riesgo prácticamente nulo. Si se conoce el valor de dicha tasa (Ej. 3%) es posible calcular __la relación entre el rendimiento excesivo sobre la tasa libre de riesgo por volatilidad__ conocido como el __Sharpe Ratio__. \n",
    "\n",
    "\\begin{align}\n",
    "Sharpe Ratio (P) = \\frac{R_{p} - R_{f}}{\\sigma_{p}}\n",
    "\\end{align}\n",
    "\n",
    "La diferencia $(R_{p} - R_{f})$ también se denomina como retorno __exceso de rentabilidad__ o __retorno sobre la tasa libre de riesgo.__\n",
    "\n",
    "El Sharpe ratio es una de las métricas más significativas en el análisis de portfolios. En el ejemplo anterior (activos azul y naranja) sería:\n",
    "\n",
    "- Activo Azul (Small Cap Stocks). $Sharpe Ratio = (17.2 - 3)/36.8 = 0.39$ \n",
    "- Activo Naranja (Large Cap Stocks). $Sharpe Ratio = (9.5 - 3)/0.35 = 0.35$ "
   ]
  },
  {
   "cell_type": "markdown",
   "id": "7d970e1e",
   "metadata": {},
   "source": [
    "## Práctica"
   ]
  },
  {
   "cell_type": "markdown",
   "id": "89754a4b",
   "metadata": {},
   "source": [
    "### Cargar precios"
   ]
  },
  {
   "cell_type": "code",
   "execution_count": 2,
   "id": "cf07b486",
   "metadata": {
    "ExecuteTime": {
     "end_time": "2021-08-23T09:37:50.338907Z",
     "start_time": "2021-08-23T09:37:50.278063Z"
    }
   },
   "outputs": [
    {
     "data": {
      "text/html": [
       "<div>\n",
       "<style scoped>\n",
       "    .dataframe tbody tr th:only-of-type {\n",
       "        vertical-align: middle;\n",
       "    }\n",
       "\n",
       "    .dataframe tbody tr th {\n",
       "        vertical-align: top;\n",
       "    }\n",
       "\n",
       "    .dataframe thead th {\n",
       "        text-align: right;\n",
       "    }\n",
       "</style>\n",
       "<table border=\"1\" class=\"dataframe\">\n",
       "  <thead>\n",
       "    <tr style=\"text-align: right;\">\n",
       "      <th></th>\n",
       "      <th>BLUE</th>\n",
       "      <th>ORANGE</th>\n",
       "    </tr>\n",
       "  </thead>\n",
       "  <tbody>\n",
       "    <tr>\n",
       "      <th>0</th>\n",
       "      <td>8.7000</td>\n",
       "      <td>10.6600</td>\n",
       "    </tr>\n",
       "    <tr>\n",
       "      <th>1</th>\n",
       "      <td>8.9055</td>\n",
       "      <td>11.0828</td>\n",
       "    </tr>\n",
       "    <tr>\n",
       "      <th>2</th>\n",
       "      <td>8.7113</td>\n",
       "      <td>10.7100</td>\n",
       "    </tr>\n",
       "    <tr>\n",
       "      <th>3</th>\n",
       "      <td>8.4346</td>\n",
       "      <td>11.5907</td>\n",
       "    </tr>\n",
       "    <tr>\n",
       "      <th>4</th>\n",
       "      <td>8.7254</td>\n",
       "      <td>12.1070</td>\n",
       "    </tr>\n",
       "    <tr>\n",
       "      <th>5</th>\n",
       "      <td>9.0551</td>\n",
       "      <td>11.7876</td>\n",
       "    </tr>\n",
       "    <tr>\n",
       "      <th>6</th>\n",
       "      <td>8.9514</td>\n",
       "      <td>11.2078</td>\n",
       "    </tr>\n",
       "    <tr>\n",
       "      <th>7</th>\n",
       "      <td>9.2439</td>\n",
       "      <td>12.5192</td>\n",
       "    </tr>\n",
       "    <tr>\n",
       "      <th>8</th>\n",
       "      <td>9.1276</td>\n",
       "      <td>13.3624</td>\n",
       "    </tr>\n",
       "    <tr>\n",
       "      <th>9</th>\n",
       "      <td>9.3976</td>\n",
       "      <td>14.4080</td>\n",
       "    </tr>\n",
       "    <tr>\n",
       "      <th>10</th>\n",
       "      <td>9.4554</td>\n",
       "      <td>11.9837</td>\n",
       "    </tr>\n",
       "    <tr>\n",
       "      <th>11</th>\n",
       "      <td>9.5704</td>\n",
       "      <td>12.2718</td>\n",
       "    </tr>\n",
       "    <tr>\n",
       "      <th>12</th>\n",
       "      <td>9.7728</td>\n",
       "      <td>11.5892</td>\n",
       "    </tr>\n",
       "  </tbody>\n",
       "</table>\n",
       "</div>"
      ],
      "text/plain": [
       "      BLUE   ORANGE\n",
       "0   8.7000  10.6600\n",
       "1   8.9055  11.0828\n",
       "2   8.7113  10.7100\n",
       "3   8.4346  11.5907\n",
       "4   8.7254  12.1070\n",
       "5   9.0551  11.7876\n",
       "6   8.9514  11.2078\n",
       "7   9.2439  12.5192\n",
       "8   9.1276  13.3624\n",
       "9   9.3976  14.4080\n",
       "10  9.4554  11.9837\n",
       "11  9.5704  12.2718\n",
       "12  9.7728  11.5892"
      ]
     },
     "execution_count": 2,
     "metadata": {},
     "output_type": "execute_result"
    }
   ],
   "source": [
    "df_prices = pd.read_csv('../data/sample_prices.csv')\n",
    "df_prices"
   ]
  },
  {
   "cell_type": "markdown",
   "id": "49c31041",
   "metadata": {},
   "source": [
    "### Calcular rendimientos"
   ]
  },
  {
   "cell_type": "code",
   "execution_count": 3,
   "id": "06484e4d",
   "metadata": {
    "ExecuteTime": {
     "end_time": "2021-08-23T09:37:51.118558Z",
     "start_time": "2021-08-23T09:37:51.095392Z"
    }
   },
   "outputs": [
    {
     "data": {
      "text/html": [
       "<div>\n",
       "<style scoped>\n",
       "    .dataframe tbody tr th:only-of-type {\n",
       "        vertical-align: middle;\n",
       "    }\n",
       "\n",
       "    .dataframe tbody tr th {\n",
       "        vertical-align: top;\n",
       "    }\n",
       "\n",
       "    .dataframe thead th {\n",
       "        text-align: right;\n",
       "    }\n",
       "</style>\n",
       "<table border=\"1\" class=\"dataframe\">\n",
       "  <thead>\n",
       "    <tr style=\"text-align: right;\">\n",
       "      <th></th>\n",
       "      <th>BLUE</th>\n",
       "      <th>ORANGE</th>\n",
       "    </tr>\n",
       "  </thead>\n",
       "  <tbody>\n",
       "    <tr>\n",
       "      <th>1</th>\n",
       "      <td>0.023621</td>\n",
       "      <td>0.039662</td>\n",
       "    </tr>\n",
       "    <tr>\n",
       "      <th>2</th>\n",
       "      <td>-0.021807</td>\n",
       "      <td>-0.033638</td>\n",
       "    </tr>\n",
       "    <tr>\n",
       "      <th>3</th>\n",
       "      <td>-0.031763</td>\n",
       "      <td>0.082232</td>\n",
       "    </tr>\n",
       "    <tr>\n",
       "      <th>4</th>\n",
       "      <td>0.034477</td>\n",
       "      <td>0.044544</td>\n",
       "    </tr>\n",
       "    <tr>\n",
       "      <th>5</th>\n",
       "      <td>0.037786</td>\n",
       "      <td>-0.026381</td>\n",
       "    </tr>\n",
       "    <tr>\n",
       "      <th>6</th>\n",
       "      <td>-0.011452</td>\n",
       "      <td>-0.049187</td>\n",
       "    </tr>\n",
       "    <tr>\n",
       "      <th>7</th>\n",
       "      <td>0.032676</td>\n",
       "      <td>0.117008</td>\n",
       "    </tr>\n",
       "    <tr>\n",
       "      <th>8</th>\n",
       "      <td>-0.012581</td>\n",
       "      <td>0.067353</td>\n",
       "    </tr>\n",
       "    <tr>\n",
       "      <th>9</th>\n",
       "      <td>0.029581</td>\n",
       "      <td>0.078249</td>\n",
       "    </tr>\n",
       "    <tr>\n",
       "      <th>10</th>\n",
       "      <td>0.006151</td>\n",
       "      <td>-0.168261</td>\n",
       "    </tr>\n",
       "    <tr>\n",
       "      <th>11</th>\n",
       "      <td>0.012162</td>\n",
       "      <td>0.024041</td>\n",
       "    </tr>\n",
       "    <tr>\n",
       "      <th>12</th>\n",
       "      <td>0.021149</td>\n",
       "      <td>-0.055623</td>\n",
       "    </tr>\n",
       "  </tbody>\n",
       "</table>\n",
       "</div>"
      ],
      "text/plain": [
       "        BLUE    ORANGE\n",
       "1   0.023621  0.039662\n",
       "2  -0.021807 -0.033638\n",
       "3  -0.031763  0.082232\n",
       "4   0.034477  0.044544\n",
       "5   0.037786 -0.026381\n",
       "6  -0.011452 -0.049187\n",
       "7   0.032676  0.117008\n",
       "8  -0.012581  0.067353\n",
       "9   0.029581  0.078249\n",
       "10  0.006151 -0.168261\n",
       "11  0.012162  0.024041\n",
       "12  0.021149 -0.055623"
      ]
     },
     "execution_count": 3,
     "metadata": {},
     "output_type": "execute_result"
    }
   ],
   "source": [
    "df_returns = df_prices.pct_change().dropna(axis=0)\n",
    "df_returns"
   ]
  },
  {
   "cell_type": "markdown",
   "id": "c10c3e98",
   "metadata": {},
   "source": [
    "### Nivel de riesgo"
   ]
  },
  {
   "cell_type": "code",
   "execution_count": 4,
   "id": "24bc8d53",
   "metadata": {
    "ExecuteTime": {
     "end_time": "2021-08-23T09:37:51.884966Z",
     "start_time": "2021-08-23T09:37:51.875672Z"
    }
   },
   "outputs": [
    {
     "name": "stdout",
     "output_type": "stream",
     "text": [
      "Volatility = mean_squared_deviations / n\n",
      "\n",
      "BLUE      0.022957\n",
      "ORANGE    0.076212\n",
      "dtype: float64\n"
     ]
    }
   ],
   "source": [
    "# Fórmula de la desviación típica como métrica de riesgo\n",
    "deviations = df_returns - df_returns.mean()\n",
    "squared_deviations = pow(deviations,2)\n",
    "mean_squared_deviations = squared_deviations.mean()\n",
    "volatility = np.sqrt(mean_squared_deviations)\n",
    "print('Volatility = mean_squared_deviations / n',volatility,sep=2*'\\n')"
   ]
  },
  {
   "cell_type": "code",
   "execution_count": 5,
   "id": "285eb26c",
   "metadata": {
    "ExecuteTime": {
     "end_time": "2021-08-23T09:37:52.272484Z",
     "start_time": "2021-08-23T09:37:52.266332Z"
    }
   },
   "outputs": [
    {
     "name": "stdout",
     "output_type": "stream",
     "text": [
      "Volatility = mean_squared_deviations/(n-1)\n",
      "\n",
      "BLUE      0.023977\n",
      "ORANGE    0.079601\n",
      "dtype: float64\n"
     ]
    }
   ],
   "source": [
    "# Método de pandas de la desviación típica (std)\n",
    "volatility = df_returns.std()\n",
    "variance = pow(volatility, 2)\n",
    "print('Volatility = mean_squared_deviations/(n-1)',volatility,sep=2*'\\n')"
   ]
  },
  {
   "cell_type": "markdown",
   "id": "5103c670",
   "metadata": {
    "ExecuteTime": {
     "end_time": "2021-08-21T15:25:38.037057Z",
     "start_time": "2021-08-21T15:25:38.024638Z"
    },
    "run_control": {
     "marked": true
    }
   },
   "source": [
    "¿Por qué no coinciden? \n",
    "\n",
    "Por defecto, el método .std() calcula la desviación estándar de la muestra, es decir, utiliza un denominador igual a $(𝑛-1)$, es decir, que los rendimientos observados se consideran muestras observadas de una distribución. Mediannte la formula planteada previamente, se calcula la desviación típica de la población utilizando un denominador igual a $𝑛$, es decir, la desviación estandar de la población"
   ]
  },
  {
   "cell_type": "code",
   "execution_count": 6,
   "id": "914c3845",
   "metadata": {
    "ExecuteTime": {
     "end_time": "2021-08-23T09:37:53.061028Z",
     "start_time": "2021-08-23T09:37:53.053201Z"
    }
   },
   "outputs": [
    {
     "name": "stdout",
     "output_type": "stream",
     "text": [
      "Volatility = mean_squared_deviations/(n-1)\n",
      "\n",
      "BLUE      0.023977\n",
      "ORANGE    0.079601\n",
      "dtype: float64\n"
     ]
    }
   ],
   "source": [
    "number_of_obs = df_returns.shape[0]\n",
    "mean_squared_deviations = squared_deviations.sum()/(number_of_obs-1)\n",
    "volatility = np.sqrt(mean_squared_deviations)\n",
    "print('Volatility = mean_squared_deviations/(n-1)',volatility,sep=2*'\\n')"
   ]
  },
  {
   "cell_type": "markdown",
   "id": "3016dbb2",
   "metadata": {},
   "source": [
    "### Anualización de la volatilidad\n",
    "\n",
    "La volatilidad se anualiza escalando (multiplicando) por la raíz cuadrada del número de períodos por observación.\n",
    "\n",
    "Por tanto, para anualizar la volatilidad de una serie mensual, la muiltiplicamos por la raíz cuadrada de 12. En lugar de utilizar np.sqrt() podemos elevarlo a la potencia de 0.5."
   ]
  },
  {
   "cell_type": "code",
   "execution_count": 7,
   "id": "29dc854b",
   "metadata": {
    "ExecuteTime": {
     "end_time": "2021-08-23T09:37:53.741722Z",
     "start_time": "2021-08-23T09:37:53.735955Z"
    }
   },
   "outputs": [
    {
     "name": "stdout",
     "output_type": "stream",
     "text": [
      "Annualized Vol\n",
      "BLUE      0.083060\n",
      "ORANGE    0.275747\n",
      "dtype: float64\n"
     ]
    }
   ],
   "source": [
    "annualized_vol = df_returns.std()*(12**0.5)\n",
    "print('Annualized Vol', annualized_vol,sep='\\n')"
   ]
  },
  {
   "cell_type": "markdown",
   "id": "08b8de4d",
   "metadata": {},
   "source": [
    "### Métricas para ajustar el rendimiento al riesgo\n",
    "\n",
    "Vayamos más allá de las series de datos de muestra y empecemos a trabajar con datos reales. Leamos en los rendimientos mensuales de un conjunto de 10 carteras formadas en base a la capitalización del mercado, o a las acciones de mercado de las empresas. De las 10 carteras, sólo queremos fijarnos en las empresas de mayor y menor capitalización.\n",
    "\n",
    "Nota:\n",
    "Los datos ya se dan en porcentajes (es decir, 4.5 en lugar de 0.045) y normalmente queremos utilizar los números reales (es decir, 0.045 en lugar de 4.5) por lo que debemos dividir los datos brutos del archivo por 100."
   ]
  },
  {
   "cell_type": "markdown",
   "id": "f16df83c",
   "metadata": {},
   "source": [
    "El dataset es un conjunto de datos muy grande y va desde 2016 hasta 2018-12. \n",
    "\n",
    "Cada fila representa los datos de cada mes desde 1926-07 hasta diciembre de 2018. \n",
    "\n",
    "- La primera columna es la fecha, es una especie de sello de fecha. \n",
    "\n",
    "- El resto de columnas son un diferentes tipos de carteras.\n",
    "\n",
    "- Los valores igual a -99 corresponden a valores nulos, es decir, que los datos no están disponibles.\n",
    "\n",
    "- El resto de columnas representan rendimientos para diferentes tipos de cartera.\n",
    "\n",
    "    - Cartera con valor por debajo de 30.\n",
    "    \n",
    "    - Cartera de mediana 40.\n",
    "    \n",
    "    - Cartera de altura 30. \n",
    "    \n",
    "    - Cartera con el 40 por ciento medio.\n",
    "    \n",
    "    - Cartera con el 30 ciento más alto.\n",
    "    \n",
    "    - Carteras de quantiles. Se dividen en cinco grupos.\n",
    "    \n",
    "\n",
    "    - Carteras de deciles. Se divide en 10 grupos. \n",
    "    \n",
    "    \n",
    "Por lo tanto, se toma el valor Hi10 para analizar 10% más grande de rendimientos y Lo10 son los retornos correspondientes al 10% más pequeño del conjunto de datos."
   ]
  },
  {
   "cell_type": "code",
   "execution_count": 8,
   "id": "d44aa33e",
   "metadata": {
    "ExecuteTime": {
     "end_time": "2021-08-23T09:37:57.973122Z",
     "start_time": "2021-08-23T09:37:57.932183Z"
    }
   },
   "outputs": [
    {
     "data": {
      "text/html": [
       "<div>\n",
       "<style scoped>\n",
       "    .dataframe tbody tr th:only-of-type {\n",
       "        vertical-align: middle;\n",
       "    }\n",
       "\n",
       "    .dataframe tbody tr th {\n",
       "        vertical-align: top;\n",
       "    }\n",
       "\n",
       "    .dataframe thead th {\n",
       "        text-align: right;\n",
       "    }\n",
       "</style>\n",
       "<table border=\"1\" class=\"dataframe\">\n",
       "  <thead>\n",
       "    <tr style=\"text-align: right;\">\n",
       "      <th></th>\n",
       "      <th>&lt;= 0</th>\n",
       "      <th>Lo 30</th>\n",
       "      <th>Med 40</th>\n",
       "      <th>Hi 30</th>\n",
       "      <th>Lo 20</th>\n",
       "      <th>Qnt 2</th>\n",
       "      <th>Qnt 3</th>\n",
       "      <th>Qnt 4</th>\n",
       "      <th>Hi 20</th>\n",
       "      <th>Lo 10</th>\n",
       "      <th>Dec 2</th>\n",
       "      <th>Dec 3</th>\n",
       "      <th>Dec 4</th>\n",
       "      <th>Dec 5</th>\n",
       "      <th>Dec 6</th>\n",
       "      <th>Dec 7</th>\n",
       "      <th>Dec 8</th>\n",
       "      <th>Dec 9</th>\n",
       "      <th>Hi 10</th>\n",
       "    </tr>\n",
       "  </thead>\n",
       "  <tbody>\n",
       "    <tr>\n",
       "      <th>1926-07-01</th>\n",
       "      <td>NaN</td>\n",
       "      <td>-0.43</td>\n",
       "      <td>1.52</td>\n",
       "      <td>2.68</td>\n",
       "      <td>-0.57</td>\n",
       "      <td>0.59</td>\n",
       "      <td>1.60</td>\n",
       "      <td>1.47</td>\n",
       "      <td>3.33</td>\n",
       "      <td>-1.45</td>\n",
       "      <td>0.29</td>\n",
       "      <td>-0.15</td>\n",
       "      <td>1.33</td>\n",
       "      <td>1.24</td>\n",
       "      <td>1.98</td>\n",
       "      <td>1.55</td>\n",
       "      <td>1.38</td>\n",
       "      <td>3.38</td>\n",
       "      <td>3.29</td>\n",
       "    </tr>\n",
       "    <tr>\n",
       "      <th>1926-08-01</th>\n",
       "      <td>NaN</td>\n",
       "      <td>3.90</td>\n",
       "      <td>3.04</td>\n",
       "      <td>2.09</td>\n",
       "      <td>3.84</td>\n",
       "      <td>3.59</td>\n",
       "      <td>3.71</td>\n",
       "      <td>1.61</td>\n",
       "      <td>2.33</td>\n",
       "      <td>5.12</td>\n",
       "      <td>2.59</td>\n",
       "      <td>4.03</td>\n",
       "      <td>3.15</td>\n",
       "      <td>2.72</td>\n",
       "      <td>4.72</td>\n",
       "      <td>1.60</td>\n",
       "      <td>1.63</td>\n",
       "      <td>0.98</td>\n",
       "      <td>3.70</td>\n",
       "    </tr>\n",
       "    <tr>\n",
       "      <th>1926-09-01</th>\n",
       "      <td>NaN</td>\n",
       "      <td>-1.08</td>\n",
       "      <td>-0.54</td>\n",
       "      <td>0.16</td>\n",
       "      <td>-0.48</td>\n",
       "      <td>-1.40</td>\n",
       "      <td>0.00</td>\n",
       "      <td>-0.50</td>\n",
       "      <td>-0.09</td>\n",
       "      <td>0.93</td>\n",
       "      <td>-1.87</td>\n",
       "      <td>-2.27</td>\n",
       "      <td>-0.53</td>\n",
       "      <td>0.07</td>\n",
       "      <td>-0.07</td>\n",
       "      <td>-1.64</td>\n",
       "      <td>0.64</td>\n",
       "      <td>-0.86</td>\n",
       "      <td>0.67</td>\n",
       "    </tr>\n",
       "    <tr>\n",
       "      <th>1926-10-01</th>\n",
       "      <td>NaN</td>\n",
       "      <td>-3.32</td>\n",
       "      <td>-3.52</td>\n",
       "      <td>-3.06</td>\n",
       "      <td>-3.29</td>\n",
       "      <td>-4.10</td>\n",
       "      <td>-2.89</td>\n",
       "      <td>-3.36</td>\n",
       "      <td>-2.95</td>\n",
       "      <td>-4.84</td>\n",
       "      <td>-1.77</td>\n",
       "      <td>-3.36</td>\n",
       "      <td>-4.83</td>\n",
       "      <td>-2.98</td>\n",
       "      <td>-2.80</td>\n",
       "      <td>-3.45</td>\n",
       "      <td>-3.27</td>\n",
       "      <td>-3.47</td>\n",
       "      <td>-2.43</td>\n",
       "    </tr>\n",
       "    <tr>\n",
       "      <th>1926-11-01</th>\n",
       "      <td>NaN</td>\n",
       "      <td>-0.46</td>\n",
       "      <td>3.82</td>\n",
       "      <td>3.09</td>\n",
       "      <td>-0.55</td>\n",
       "      <td>2.18</td>\n",
       "      <td>3.41</td>\n",
       "      <td>3.39</td>\n",
       "      <td>3.16</td>\n",
       "      <td>-0.78</td>\n",
       "      <td>-0.32</td>\n",
       "      <td>-0.29</td>\n",
       "      <td>4.65</td>\n",
       "      <td>3.24</td>\n",
       "      <td>3.57</td>\n",
       "      <td>3.82</td>\n",
       "      <td>2.95</td>\n",
       "      <td>3.61</td>\n",
       "      <td>2.70</td>\n",
       "    </tr>\n",
       "  </tbody>\n",
       "</table>\n",
       "</div>"
      ],
      "text/plain": [
       "            <= 0  Lo 30  Med 40  Hi 30  Lo 20  Qnt 2  Qnt 3  Qnt 4  Hi 20  \\\n",
       "1926-07-01   NaN  -0.43    1.52   2.68  -0.57   0.59   1.60   1.47   3.33   \n",
       "1926-08-01   NaN   3.90    3.04   2.09   3.84   3.59   3.71   1.61   2.33   \n",
       "1926-09-01   NaN  -1.08   -0.54   0.16  -0.48  -1.40   0.00  -0.50  -0.09   \n",
       "1926-10-01   NaN  -3.32   -3.52  -3.06  -3.29  -4.10  -2.89  -3.36  -2.95   \n",
       "1926-11-01   NaN  -0.46    3.82   3.09  -0.55   2.18   3.41   3.39   3.16   \n",
       "\n",
       "            Lo 10  Dec 2  Dec 3  Dec 4  Dec 5  Dec 6  Dec 7  Dec 8  Dec 9  \\\n",
       "1926-07-01  -1.45   0.29  -0.15   1.33   1.24   1.98   1.55   1.38   3.38   \n",
       "1926-08-01   5.12   2.59   4.03   3.15   2.72   4.72   1.60   1.63   0.98   \n",
       "1926-09-01   0.93  -1.87  -2.27  -0.53   0.07  -0.07  -1.64   0.64  -0.86   \n",
       "1926-10-01  -4.84  -1.77  -3.36  -4.83  -2.98  -2.80  -3.45  -3.27  -3.47   \n",
       "1926-11-01  -0.78  -0.32  -0.29   4.65   3.24   3.57   3.82   2.95   3.61   \n",
       "\n",
       "            Hi 10  \n",
       "1926-07-01   3.29  \n",
       "1926-08-01   3.70  \n",
       "1926-09-01   0.67  \n",
       "1926-10-01  -2.43  \n",
       "1926-11-01   2.70  "
      ]
     },
     "execution_count": 8,
     "metadata": {},
     "output_type": "execute_result"
    }
   ],
   "source": [
    "df_mem = pd.read_csv('../data/Portfolios_Formed_on_ME_monthly_EW.csv',\n",
    "                     header=0, index_col=0, parse_dates=True, na_values=-99.99)\n",
    "df_mem\n",
    "\n",
    "# Formato de la marca temporal\n",
    "series_date_time =  list()\n",
    "for date_value in df_mem.index:\n",
    "    date_value = str(date_value)\n",
    "    date_value = f'{date_value[:4]}-{date_value[4:]}'\n",
    "    series_date_time.append(date_value)\n",
    "\n",
    "series_date_time = np.array(series_date_time)\n",
    "df_mem.index=series_date_time\n",
    "df_mem.index = pd.to_datetime(df_mem.index)\n",
    "\n",
    "df_mem.head()"
   ]
  },
  {
   "cell_type": "code",
   "execution_count": 9,
   "id": "4c9f01a2",
   "metadata": {
    "ExecuteTime": {
     "end_time": "2021-08-23T09:37:58.603386Z",
     "start_time": "2021-08-23T09:37:58.587111Z"
    },
    "scrolled": true
   },
   "outputs": [
    {
     "data": {
      "text/html": [
       "<div>\n",
       "<style scoped>\n",
       "    .dataframe tbody tr th:only-of-type {\n",
       "        vertical-align: middle;\n",
       "    }\n",
       "\n",
       "    .dataframe tbody tr th {\n",
       "        vertical-align: top;\n",
       "    }\n",
       "\n",
       "    .dataframe thead th {\n",
       "        text-align: right;\n",
       "    }\n",
       "</style>\n",
       "<table border=\"1\" class=\"dataframe\">\n",
       "  <thead>\n",
       "    <tr style=\"text-align: right;\">\n",
       "      <th></th>\n",
       "      <th>SmallCap</th>\n",
       "      <th>LargeCap</th>\n",
       "    </tr>\n",
       "  </thead>\n",
       "  <tbody>\n",
       "    <tr>\n",
       "      <th>1926-07-01</th>\n",
       "      <td>-0.0145</td>\n",
       "      <td>0.0329</td>\n",
       "    </tr>\n",
       "    <tr>\n",
       "      <th>1926-08-01</th>\n",
       "      <td>0.0512</td>\n",
       "      <td>0.0370</td>\n",
       "    </tr>\n",
       "    <tr>\n",
       "      <th>1926-09-01</th>\n",
       "      <td>0.0093</td>\n",
       "      <td>0.0067</td>\n",
       "    </tr>\n",
       "    <tr>\n",
       "      <th>1926-10-01</th>\n",
       "      <td>-0.0484</td>\n",
       "      <td>-0.0243</td>\n",
       "    </tr>\n",
       "    <tr>\n",
       "      <th>1926-11-01</th>\n",
       "      <td>-0.0078</td>\n",
       "      <td>0.0270</td>\n",
       "    </tr>\n",
       "    <tr>\n",
       "      <th>...</th>\n",
       "      <td>...</td>\n",
       "      <td>...</td>\n",
       "    </tr>\n",
       "    <tr>\n",
       "      <th>2018-08-01</th>\n",
       "      <td>0.0241</td>\n",
       "      <td>0.0234</td>\n",
       "    </tr>\n",
       "    <tr>\n",
       "      <th>2018-09-01</th>\n",
       "      <td>-0.0168</td>\n",
       "      <td>0.0087</td>\n",
       "    </tr>\n",
       "    <tr>\n",
       "      <th>2018-10-01</th>\n",
       "      <td>-0.1002</td>\n",
       "      <td>-0.0657</td>\n",
       "    </tr>\n",
       "    <tr>\n",
       "      <th>2018-11-01</th>\n",
       "      <td>-0.0365</td>\n",
       "      <td>0.0253</td>\n",
       "    </tr>\n",
       "    <tr>\n",
       "      <th>2018-12-01</th>\n",
       "      <td>-0.1531</td>\n",
       "      <td>-0.0890</td>\n",
       "    </tr>\n",
       "  </tbody>\n",
       "</table>\n",
       "<p>1110 rows × 2 columns</p>\n",
       "</div>"
      ],
      "text/plain": [
       "            SmallCap  LargeCap\n",
       "1926-07-01   -0.0145    0.0329\n",
       "1926-08-01    0.0512    0.0370\n",
       "1926-09-01    0.0093    0.0067\n",
       "1926-10-01   -0.0484   -0.0243\n",
       "1926-11-01   -0.0078    0.0270\n",
       "...              ...       ...\n",
       "2018-08-01    0.0241    0.0234\n",
       "2018-09-01   -0.0168    0.0087\n",
       "2018-10-01   -0.1002   -0.0657\n",
       "2018-11-01   -0.0365    0.0253\n",
       "2018-12-01   -0.1531   -0.0890\n",
       "\n",
       "[1110 rows x 2 columns]"
      ]
     },
     "execution_count": 9,
     "metadata": {},
     "output_type": "execute_result"
    }
   ],
   "source": [
    "# Seleccionar empresas de mayor capitalización\n",
    "cols = ['Lo 10', 'Hi 10']\n",
    "df_returns = df_mem[cols]\n",
    "df_returns.columns = ['SmallCap', 'LargeCap']\n",
    "df_returns = df_returns/100\n",
    "df_returns"
   ]
  },
  {
   "cell_type": "code",
   "execution_count": 10,
   "id": "206930e8",
   "metadata": {
    "ExecuteTime": {
     "end_time": "2021-08-23T09:37:59.068552Z",
     "start_time": "2021-08-23T09:37:58.885544Z"
    }
   },
   "outputs": [
    {
     "data": {
      "image/png": "[encoded data removed]",
      "text/plain": [
       "<Figure size 864x432 with 1 Axes>"
      ]
     },
     "metadata": {
      "needs_background": "light"
     },
     "output_type": "display_data"
    }
   ],
   "source": [
    "_ = df_returns.plot(figsize=(12,6), title='Activos de mayor y menor capitalización', ylabel='Returns', xlabel='Periods')"
   ]
  },
  {
   "cell_type": "code",
   "execution_count": 11,
   "id": "d8309e61",
   "metadata": {
    "ExecuteTime": {
     "end_time": "2021-08-23T09:37:59.230357Z",
     "start_time": "2021-08-23T09:37:59.225470Z"
    }
   },
   "outputs": [
    {
     "name": "stdout",
     "output_type": "stream",
     "text": [
      "Volatilidad anualizada\n",
      "SmallCap    0.368193\n",
      "LargeCap    0.186716\n",
      "dtype: float64\n"
     ]
    }
   ],
   "source": [
    "# Calcular volatilidad anualizada para comparar ambos activos\n",
    "annualized_vol = df_returns.std()*np.sqrt(12)\n",
    "print('Volatilidad anualizada',annualized_vol,sep='\\n')"
   ]
  },
  {
   "cell_type": "code",
   "execution_count": 12,
   "id": "0c2ad69d",
   "metadata": {
    "ExecuteTime": {
     "end_time": "2021-08-23T09:37:59.631118Z",
     "start_time": "2021-08-23T09:37:59.623020Z"
    }
   },
   "outputs": [
    {
     "name": "stdout",
     "output_type": "stream",
     "text": [
      "Rendimientos mensuales\n",
      "SmallCap    0.012986\n",
      "LargeCap    0.007423\n",
      "dtype: float64\n"
     ]
    }
   ],
   "source": [
    "# Calcular retornos mensuales\n",
    "n_months = df_returns.shape[0]\n",
    "return_per_month = (df_returns+1).prod()**(1/n_months) - 1\n",
    "print('Rendimientos mensuales',return_per_month,sep='\\n')"
   ]
  },
  {
   "cell_type": "code",
   "execution_count": 13,
   "id": "7aee0384",
   "metadata": {
    "ExecuteTime": {
     "end_time": "2021-08-23T09:37:59.969140Z",
     "start_time": "2021-08-23T09:37:59.962888Z"
    }
   },
   "outputs": [
    {
     "name": "stdout",
     "output_type": "stream",
     "text": [
      "Método 1 - Rendimientos anualizados\n",
      "SmallCap    0.167463\n",
      "LargeCap    0.092810\n",
      "dtype: float64\n"
     ]
    }
   ],
   "source": [
    "# Método 1 - Calcular retornos anualizados \n",
    "annualized_return = (return_per_month + 1)**12-1\n",
    "print('Método 1 - Rendimientos anualizados',annualized_return,sep='\\n')"
   ]
  },
  {
   "cell_type": "code",
   "execution_count": 14,
   "id": "3cc36e55",
   "metadata": {
    "ExecuteTime": {
     "end_time": "2021-08-23T09:38:00.297178Z",
     "start_time": "2021-08-23T09:38:00.289208Z"
    }
   },
   "outputs": [
    {
     "name": "stdout",
     "output_type": "stream",
     "text": [
      "Método 2 - Rendimientos anualizados\n",
      "SmallCap    0.167463\n",
      "LargeCap    0.092810\n",
      "dtype: float64\n"
     ]
    }
   ],
   "source": [
    "# Método 2 - Calcular retornos anualizados \n",
    "annualized_return = (df_returns+1).prod()**(12/n_months) - 1\n",
    "print('Método 2 - Rendimientos anualizados',annualized_return,sep='\\n')"
   ]
  },
  {
   "cell_type": "code",
   "execution_count": 15,
   "id": "e7952521",
   "metadata": {
    "ExecuteTime": {
     "end_time": "2021-08-23T09:38:00.627803Z",
     "start_time": "2021-08-23T09:38:00.620574Z"
    },
    "run_control": {
     "marked": true
    }
   },
   "outputs": [
    {
     "name": "stdout",
     "output_type": "stream",
     "text": [
      "Ratio de retorno sobre el riesgo anualizado\n",
      "SmallCap    0.454825\n",
      "LargeCap    0.497063\n",
      "dtype: float64\n"
     ]
    }
   ],
   "source": [
    "# Ratio de retorno sobre riesgo\n",
    "return_risk_ratio_ann = annualized_return/annualized_vol\n",
    "print('Ratio de retorno sobre el riesgo anualizado', return_risk_ratio_ann, sep='\\n')"
   ]
  },
  {
   "cell_type": "code",
   "execution_count": 16,
   "id": "dfc97c7f",
   "metadata": {
    "ExecuteTime": {
     "end_time": "2021-08-23T09:38:00.917741Z",
     "start_time": "2021-08-23T09:38:00.910767Z"
    }
   },
   "outputs": [
    {
     "name": "stdout",
     "output_type": "stream",
     "text": [
      "Sharpe Ratio\n",
      "SmallCap    0.373346\n",
      "LargeCap    0.336392\n",
      "dtype: float64\n"
     ]
    }
   ],
   "source": [
    "# Sharpe ratio\n",
    "riskfree_rate = 0.03\n",
    "excess_return = annualized_return - riskfree_rate\n",
    "sharpe_ratio = excess_return/annualized_vol\n",
    "print('Sharpe Ratio', sharpe_ratio, sep='\\n')"
   ]
  }
 ],
 "metadata": {
  "kernelspec": {
   "display_name": "Python 3.8.5 64-bit ('AITGG': conda)",
   "language": "python",
   "name": "python385jvsc74a57bd04592e64615f769e19d02d67efecdf24dbbde8900a22a54873431e68806567084"
  },
  "language_info": {
   "codemirror_mode": {
    "name": "ipython",
    "version": 3
   },
   "file_extension": ".py",
   "mimetype": "text/x-python",
   "name": "python",
   "nbconvert_exporter": "python",
   "pygments_lexer": "ipython3",
   "version": "3.8.5"
  },
  "nbTranslate": {
   "displayLangs": [
    "*"
   ],
   "hotkey": "alt-t",
   "langInMainMenu": true,
   "sourceLang": "en",
   "targetLang": "fr",
   "useGoogleTranslate": true
  },
  "toc": {
   "base_numbering": 1,
   "nav_menu": {},
   "number_sections": true,
   "sideBar": true,
   "skip_h1_title": true,
   "title_cell": "Table of Contents",
   "title_sidebar": "Contents",
   "toc_cell": true,
   "toc_position": {},
   "toc_section_display": true,
   "toc_window_display": false
  },
  "varInspector": {
   "cols": {
    "lenName": 16,
    "lenType": 16,
    "lenVar": 40
   },
   "kernels_config": {
    "python": {
     "delete_cmd_postfix": "",
     "delete_cmd_prefix": "del ",
     "library": "var_list.py",
     "varRefreshCmd": "print(var_dic_list())"
    },
    "r": {
     "delete_cmd_postfix": ") ",
     "delete_cmd_prefix": "rm(",
     "library": "var_list.r",
     "varRefreshCmd": "cat(var_dic_list()) "
    }
   },
   "types_to_exclude": [
    "module",
    "function",
    "builtin_function_or_method",
    "instance",
    "_Feature"
   ],
   "window_display": false
  }
 },
 "nbformat": 4,
 "nbformat_minor": 5
}
