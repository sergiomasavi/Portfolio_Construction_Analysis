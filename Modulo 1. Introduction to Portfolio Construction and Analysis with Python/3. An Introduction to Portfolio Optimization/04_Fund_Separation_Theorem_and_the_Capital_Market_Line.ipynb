{
 "cells": [
  {
   "cell_type": "markdown",
   "id": "c9227b73",
   "metadata": {
    "toc": true
   },
   "source": [
    "<h1>Table of Contents<span class=\"tocSkip\"></span></h1>\n",
    "<div class=\"toc\"><ul class=\"toc-item\"><li><span><a href=\"#Teoría\" data-toc-modified-id=\"Teoría-1\"><span class=\"toc-item-num\">1&nbsp;&nbsp;</span>Teoría</a></span><ul class=\"toc-item\"><li><span><a href=\"#Línea-del-mercado-de-capitales.\" data-toc-modified-id=\"Línea-del-mercado-de-capitales.-1.1\"><span class=\"toc-item-num\">1.1&nbsp;&nbsp;</span>Línea del mercado de capitales.</a></span></li></ul></li><li><span><a href=\"#Tipo-test\" data-toc-modified-id=\"Tipo-test-2\"><span class=\"toc-item-num\">2&nbsp;&nbsp;</span>Tipo test</a></span></li><li><span><a href=\"#Anexos\" data-toc-modified-id=\"Anexos-3\"><span class=\"toc-item-num\">3&nbsp;&nbsp;</span>Anexos</a></span><ul class=\"toc-item\"><li><span><a href=\"#Sharpe-Ratio\" data-toc-modified-id=\"Sharpe-Ratio-3.1\"><span class=\"toc-item-num\">3.1&nbsp;&nbsp;</span>Sharpe Ratio</a></span></li></ul></li><li><span><a href=\"#Referencias\" data-toc-modified-id=\"Referencias-4\"><span class=\"toc-item-num\">4&nbsp;&nbsp;</span>Referencias</a></span></li></ul></div>"
   ]
  },
  {
   "cell_type": "markdown",
   "id": "a76c40f4",
   "metadata": {},
   "source": [
    "## Teoría"
   ]
  },
  {
   "cell_type": "markdown",
   "id": "5684f414",
   "metadata": {},
   "source": [
    "### Línea del mercado de capitales.\n",
    "\n",
    "La línea del mercado de capitales determina la forma de la frontera eficiente en presencia de un activo libre de riesgo. Dicho de otro modo, la frontera eficiente cambia drásticamente de forma cuando se introduce un activo libre de riesgos. \n",
    "\n",
    "En la siguiente figura se introduce un activo libre de riesgos para tratar de encontrar el conjunto de carteras que tienen el mayor rendimiento posible para un determinado nivel de volatilidad o objetivo de volatilidad dado.\n",
    "\n",
    "<img src=\"images/lineacapitalriesgo.png\" width=\"400\" height=\"200\">\n",
    "\n",
    "Cuando sólo hay activos riesgosos, entonces se obtiene la forma habitual de la frontera eficiente de Markowitz. Sin embargo, cuando se introduce un activo libre de riesgo se obtienen carteras más factibles. En particular, cualquier cartera que se encuentre en línea recta, que vaya desde el activo libre de riesgo a cualquier cartera riesgosa, es una cartera factible. Las carteras que están en esas líneas rectas esencialmente son:\n",
    "\n",
    "- Tenencias del activo libre de riesgo.\n",
    "\n",
    "- Cartera arriesgada. \n",
    "\n",
    "Por lo tanto, el objetivo ahora es aumentar el retorno por unidad de riesgo, es decir, maximizar la pendiente de esa línea de tangencia. La forma de maximizar la pendiente de esa línea recta es aumentarla hasta llegar al punto de tangencia con respecto a la frontera eficiente de Markowitz construido con activos riesgosos:\n",
    "\n",
    "- Al punto de tangencia o intersección se le conoce como cartera de tangencia o portfolio de proporción máxima de sharpe (la pendiente de esa línea viene dada por la relación de Sharpe de la cartera).\n",
    "\n",
    "- La línea recta como la línea del mercado de capitales.\n",
    "\n",
    "Por lo tanto:\n",
    "\n",
    "- Al tratar de aumentar la pendiente, lo que estamos haciendo esencialmente es, maximizar la proporción de Sharpe. \n",
    "\n",
    "- Las carteras de coeficiente máximo de Sharpe son muy importantes porque se están optando de manera óptima por mantener una cartera en la línea del mercado de capitales para mantener una combinación de esa cartera de coeficientes máximos de Sharpe y el activo libre de riesgo. \n",
    "\n",
    "- La cartera de máximo Sharpe es la que ofrece mayor rendimiendo por unidad de riesgo, lo que la hace muy convincente y atractiva desde un punto de vista intuitivo. \n",
    "\n",
    "- La cartera de máximo Sharpe Ratio permite utilizar un modelo factorial para descomponer el riesgo de cualquier cartera dada en términos de riesgos específicos y riesgo sistemático, obteniendo que no contiene ninguna exposición a riesgos específicos, es decir, está compuesta únicamente por riesgo sistemático. Esto es positivo ya que el riesgo específico tiende a no ser recompensado porque se puede diversificar. Por lo tanto, diversificando cualquier cosa que no sea recompensada, la cartera de máximo Sharpe Ratio hace un muy buen trabajo maximizando los rendimientos por unidad de riesgo. \n",
    "\n",
    "__Formulación.__\n",
    "\n",
    "\\begin{align}\n",
    "SR_{p} = \\frac{\\mu_{p} - r_{f}}{\\sigma_{p}} = \\frac{\\sum_{i=1}^{N}w_{i}\\mu_{i}-r_{f}}{\\sqrt{\\sum_{i,j=1}^{N}w_{i}w_{j}\\sigma_{i}\\sigma_{j}\\rho_{ij}}} = \\frac{\\sum_{i=1}^{N}w_{i}\\mu_{i}-r_{f}}{\\sqrt{\\sum_{i,j=1}^{N}w_{i}w_{j}\\sigma_{ij}}}\n",
    "\\end{align}\n",
    "\n",
    "dónde:\n",
    "- $SR_{p}$. Sharpe Ratio\n",
    "- Covarianza entre los activos. $\\rho_{ij}=\\frac{\\sigma_{ij}}{\\sigma_{i}\\sigma_{j}}$.\n",
    "- $\\mu_{p}$. Rendimiento esperado de la cartera.\n",
    "- $\\sigma_{p}$. Volatilidad esperada de la cartera\n",
    "- $r_{f}$. Tasa libre de riesgo\n",
    "- $\\mu_{i}$. Rendimiento esperado de los activos individuales de la cartera (N activos).\n",
    "- $w_{i}$. Pesos de la cartera, es decir, la fracción de la cartera mantenida en cada uno de los activos.\n",
    "- $\\sigma_{ij}$. Covarianza entre el activo i y el activo j.\n",
    "\n",
    "__Conclusiones.__\n",
    "\n",
    "- Cuando se introduce el activo libre de riesgos, la frontera eficiente cambia de forma y se convierte en una línea recta. \n",
    "\n",
    "- La cartera de ratio de Sharpe máximo se define como la cartera que maximiza la recompensa por unidad de riesgo."
   ]
  },
  {
   "cell_type": "markdown",
   "id": "b1a13442",
   "metadata": {},
   "source": [
    "## Tipo test"
   ]
  },
  {
   "cell_type": "markdown",
   "id": "a1548d31",
   "metadata": {},
   "source": [
    "__Pregunta 1. ¿Cuál es el ratio de Sharpe para una cartera con una rentabilidad esperada del 12% y una volatilidad del 20% si el tipo sin riesgo es del 2%?__\n",
    "\n",
    "Sharpe Ratio = (0.12 - 0.02)/0.2 = 0.50"
   ]
  },
  {
   "cell_type": "markdown",
   "id": "92fa9083",
   "metadata": {},
   "source": [
    "__Pregunta 2. ¿Cuál es el máximo ratio de Sharpe en caso de que todos los valores tengan la misma rentabilidad esperada?__\n",
    "\n",
    "La cartera de varianza mínima. La cartera global de mínima varianza es también la máxima relación de Sharpe cuando todos los rendimientos esperados son iguales. De hecho, en estas condiciones, las ponderaciones de la cartera ya no afectan al numerador del ratio de Sharpe, por lo que maximizar el ratio de Sharpe es equivalente a minimizar la volatilidad de la cartera:    "
   ]
  },
  {
   "cell_type": "markdown",
   "id": "6a3ce867",
   "metadata": {},
   "source": [
    "## Anexos"
   ]
  },
  {
   "cell_type": "markdown",
   "id": "d6447e56",
   "metadata": {},
   "source": [
    "### Sharpe Ratio\n",
    "\n",
    "El Sharpe Ratio fue desarrollado por el premio Nobel William F. Sharpe y se permite ayudar a los inversores a comprender la rentabilidad de una inversión en comparación con su riesgo obteniendo un coeficiente como resultado que se corresponde con la rentabilidad media obtenida por encima de la tasa libre de riesgo (risk free rate) por unidad de volatilidad o riesgo total. La volatilidad es una medida de las fluctuaciones del precio de un activo o una cartera.\n",
    "\n",
    "Las características principales son:\n",
    "\n",
    "- El Sharpe Ratio ajusta el rendimiento pasado de una cartera -o el rendimiento futuro esperado- por el exceso de riesgo asumido por el inversor.\n",
    "\n",
    "- Un Sharpe Ratio alto es bueno cuando se compara con carteras o fondos similares con rendimientos más bajos.\n",
    "\n",
    "\n",
    "- El Sharpe Ratio tiene varios puntos débiles, como la suposición de que los rendimientos de las inversiones se - distribuyen normalmente.\n",
    "\n",
    "\n",
    "- Permite comparar la relación de riesgo y beneficio de las diferentes opciones de inversión.\n",
    "\n",
    "\n",
    "- Permite evaluar la efectividad de las estrategias dentro de una opción de inversión (relación riesgo beneficio de diferentes portafolios de inversión, estrategias de Forex, asesores, etc.).\n",
    "\n",
    "\n",
    "- Permite definir una estrategia más atractiva en términos de minimizar el riesgo con el mismo rendimiento.\n",
    "\n",
    "__Formulación.__\n",
    "\n",
    "\\begin{align}\n",
    "SR = \\frac{R_{p} - R_{f}}{\\sigma_{p}}\n",
    "\\end{align}\n",
    "\n",
    "dónde:\n",
    "\n",
    "\n",
    "- $R_{p}$. Rendimiento del portfolio, es decir, el rendimiento del activo durante un período fijo. El día, el mes y el año pueden tomarse como período. No se puede utilizar la cifra de rendimiento, sino su aumento en comparación con el período anterior. Dado que el coeficiente no está exento de defectos, se recomienda calcular el coeficiente de diferentes maneras para diferentes períodos, lo que equivale a una matriz digital para cada estrategia. Para los depósitos, el rendimiento es una tasa bancaria, para el Forex, son datos MT4 que se pueden ver, por ejemplo, en el back-test.\n",
    "\n",
    "- $R_{f}$. Tasa libre de riesgo. En teoría, este es el ingreso garantizado que un inversor puede obtener, es decir, con cero riesgo. En la práctica, cualquier inversión es en cierta medida un riesgo. Debido a que al evaluar el portafolio de inversiones, sus ingresos se comparan con los bonos del tesoro de los Estados Unidos, considerados uno de los instrumentos más confiables del mundo. Para los activos de divisas, puede tomar una tasa de cuenta o una tasa base del depósito. Lo principal es que cada estrategia de inversión tome datos comparativamente idénticos. Por ejemplo, si se evalúa la efectividad de la inversión en acciones de las compañías alemanas, para comparar con los depósitos o las inversiones en euros, es necesario tomar datos similares de Alemania, en lugar de, por ejemplo, Estados Unidos.\n",
    "\n",
    "\n",
    "- $\\sigma_{p}$. Volatilidad del portfolio\n",
    "\n",
    "\n",
    "__Interpretación.__\n",
    "\n",
    "- Restar la tasa libre de riesgo a la rentabilidad media permite al inversor aislar mejor los beneficios asociados a las actividades de riesgo. La tasa de rendimiento libre de riesgo es el rendimiento de una inversión con cero riesgos, lo que significa que es el rendimiento que los inversores podrían esperar si no asumieran ningún riesgo.  En general, cuanto mayor sea el valor del SR, más atractiva será la rentabilidad ajustada al riesgo.\n",
    "\n",
    "\n",
    "- Es uno de los métodos más utilizados para calcular la rentabilidad ajustada al riesgo. La Teoría Moderna de la Cartera (MPT) afirma que añadir activos a una cartera diversificada que tenga bajas correlaciones puede disminuir el riesgo de la cartera sin sacrificar la rentabilidad. Añadir diversificación debería aumentar el SR en comparación con carteras similares con un nivel de diversificación menor. Para que esto sea cierto, los inversores deben aceptar también el supuesto de que el riesgo es igual a la volatilidad, lo cual no es descabellado, pero puede ser demasiado estrecho para aplicarlo a todas las inversiones.\n",
    "\n",
    "\n",
    "- El SR puede utilizarse para evaluar el rendimiento pasado de una cartera (ex-post), donde los rendimientos reales se utilizan en la fórmula. Alternativamente, un inversor puede utilizar el rendimiento esperado de la cartera y el tipo de interés libre de riesgo esperado para calcular un SR estimado (ex-ante).\n",
    "\n",
    "\n",
    "- El SR también puede ayudar a explicar si el exceso de rentabilidad de una cartera se debe a decisiones de inversión inteligentes o a un exceso de riesgo. Aunque una cartera o un fondo puede disfrutar de una rentabilidad superior a la de sus homólogos, sólo es una buena inversión si esa mayor rentabilidad no va acompañada de un exceso de riesgo adicional.\n",
    "\n",
    "\n",
    "- Cuanto mayor sea el SR de una cartera, mejor será su rendimiento ajustado al riesgo. Si el análisis da como resultado un SR negativo, significa que el tipo libre de riesgo es mayor que la rentabilidad de la cartera, o que se espera que la rentabilidad de la cartera sea negativa. En cualquier caso, un SR negativo no transmite ningún significado útil.\n",
    "\n",
    "\n",
    "El valor del SR indica:\n",
    "\n",
    "- De 1 y superior es el valor óptimo para una estrategia eficaz o rendimiento efectivo de la gestión del portafolio de inversiones. Cuanto mayor sea el coeficiente, mejor.\n",
    "\n",
    "- De 0 a 1 es la estrategia que está lejos de ser óptima, hay riesgos inflados, pero su uso es posible.\n",
    "\n",
    "\n",
    "- Menos de 0 no se recomienda el uso de la estrategia, la gestión del portafolio de inversiones es ineficaz."
   ]
  },
  {
   "cell_type": "markdown",
   "id": "52288a58",
   "metadata": {},
   "source": [
    "## Referencias\n",
    "\n",
    "- [1] Risk-Adjusted Return in Forex [url: https://www.earnforex.com/guides/risk-adjusted-return/]"
   ]
  }
 ],
 "metadata": {
  "kernelspec": {
   "display_name": "Python 3.8.5 64-bit ('AITGG': conda)",
   "language": "python",
   "name": "python385jvsc74a57bd04592e64615f769e19d02d67efecdf24dbbde8900a22a54873431e68806567084"
  },
  "language_info": {
   "codemirror_mode": {
    "name": "ipython",
    "version": 3
   },
   "file_extension": ".py",
   "mimetype": "text/x-python",
   "name": "python",
   "nbconvert_exporter": "python",
   "pygments_lexer": "ipython3",
   "version": "3.8.5"
  },
  "nbTranslate": {
   "displayLangs": [
    "*"
   ],
   "hotkey": "alt-t",
   "langInMainMenu": true,
   "sourceLang": "en",
   "targetLang": "fr",
   "useGoogleTranslate": true
  },
  "toc": {
   "base_numbering": 1,
   "nav_menu": {},
   "number_sections": true,
   "sideBar": true,
   "skip_h1_title": true,
   "title_cell": "Table of Contents",
   "title_sidebar": "Contents",
   "toc_cell": true,
   "toc_position": {},
   "toc_section_display": true,
   "toc_window_display": false
  },
  "varInspector": {
   "cols": {
    "lenName": 16,
    "lenType": 16,
    "lenVar": 40
   },
   "kernels_config": {
    "python": {
     "delete_cmd_postfix": "",
     "delete_cmd_prefix": "del ",
     "library": "var_list.py",
     "varRefreshCmd": "print(var_dic_list())"
    },
    "r": {
     "delete_cmd_postfix": ") ",
     "delete_cmd_prefix": "rm(",
     "library": "var_list.r",
     "varRefreshCmd": "cat(var_dic_list()) "
    }
   },
   "types_to_exclude": [
    "module",
    "function",
    "builtin_function_or_method",
    "instance",
    "_Feature"
   ],
   "window_display": false
  }
 },
 "nbformat": 4,
 "nbformat_minor": 5
}
