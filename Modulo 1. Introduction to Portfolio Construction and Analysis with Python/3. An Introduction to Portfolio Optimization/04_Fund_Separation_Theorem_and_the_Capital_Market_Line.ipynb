{
 "cells": [
  {
   "cell_type": "markdown",
   "id": "c9227b73",
   "metadata": {
    "toc": true
   },
   "source": [
    "<h1>Table of Contents<span class=\"tocSkip\"></span></h1>\n",
    "<div class=\"toc\"><ul class=\"toc-item\"><li><span><a href=\"#Teoría\" data-toc-modified-id=\"Teoría-1\"><span class=\"toc-item-num\">1&nbsp;&nbsp;</span>Teoría</a></span><ul class=\"toc-item\"><li><span><a href=\"#Línea-del-mercado-de-capitales.\" data-toc-modified-id=\"Línea-del-mercado-de-capitales.-1.1\"><span class=\"toc-item-num\">1.1&nbsp;&nbsp;</span>Línea del mercado de capitales.</a></span></li></ul></li><li><span><a href=\"#Tipo-test\" data-toc-modified-id=\"Tipo-test-2\"><span class=\"toc-item-num\">2&nbsp;&nbsp;</span>Tipo test</a></span></li><li><span><a href=\"#Práctica\" data-toc-modified-id=\"Práctica-3\"><span class=\"toc-item-num\">3&nbsp;&nbsp;</span>Práctica</a></span><ul class=\"toc-item\"><li><span><a href=\"#Librerías\" data-toc-modified-id=\"Librerías-3.1\"><span class=\"toc-item-num\">3.1&nbsp;&nbsp;</span>Librerías</a></span></li><li><span><a href=\"#Cargar-datos\" data-toc-modified-id=\"Cargar-datos-3.2\"><span class=\"toc-item-num\">3.2&nbsp;&nbsp;</span>Cargar datos</a></span></li><li><span><a href=\"#Encontrar-la-cartera-con-máximo-Sharpe-Ratio\" data-toc-modified-id=\"Encontrar-la-cartera-con-máximo-Sharpe-Ratio-3.3\"><span class=\"toc-item-num\">3.3&nbsp;&nbsp;</span>Encontrar la cartera con máximo Sharpe-Ratio</a></span></li></ul></li><li><span><a href=\"#Anexos\" data-toc-modified-id=\"Anexos-4\"><span class=\"toc-item-num\">4&nbsp;&nbsp;</span>Anexos</a></span><ul class=\"toc-item\"><li><span><a href=\"#Sharpe-Ratio\" data-toc-modified-id=\"Sharpe-Ratio-4.1\"><span class=\"toc-item-num\">4.1&nbsp;&nbsp;</span>Sharpe Ratio</a></span></li></ul></li><li><span><a href=\"#Referencias\" data-toc-modified-id=\"Referencias-5\"><span class=\"toc-item-num\">5&nbsp;&nbsp;</span>Referencias</a></span></li></ul></div>"
   ]
  },
  {
   "cell_type": "markdown",
   "id": "a76c40f4",
   "metadata": {},
   "source": [
    "## Teoría"
   ]
  },
  {
   "cell_type": "markdown",
   "id": "5684f414",
   "metadata": {},
   "source": [
    "### Línea del mercado de capitales.\n",
    "\n",
    "La línea del mercado de capitales determina la forma de la frontera eficiente en presencia de un activo libre de riesgo. Dicho de otro modo, la frontera eficiente cambia drásticamente de forma cuando se introduce un activo libre de riesgos. \n",
    "\n",
    "En la siguiente figura se introduce un activo libre de riesgos para tratar de encontrar el conjunto de carteras que tienen el mayor rendimiento posible para un determinado nivel de volatilidad o objetivo de volatilidad dado.\n",
    "\n",
    "<img src=\"images/lineacapitalriesgo.png\" width=\"400\" height=\"200\">\n",
    "\n",
    "Cuando sólo hay activos riesgosos, entonces se obtiene la forma habitual de la frontera eficiente de Markowitz. Sin embargo, cuando se introduce un activo libre de riesgo se obtienen carteras más factibles. En particular, cualquier cartera que se encuentre en línea recta, que vaya desde el activo libre de riesgo a cualquier cartera riesgosa, es una cartera factible. Las carteras que están en esas líneas rectas esencialmente son:\n",
    "\n",
    "- Tenencias del activo libre de riesgo.\n",
    "\n",
    "- Cartera arriesgada. \n",
    "\n",
    "Por lo tanto, el objetivo ahora es aumentar el retorno por unidad de riesgo, es decir, maximizar la pendiente de esa línea de tangencia. La forma de maximizar la pendiente de esa línea recta es aumentarla hasta llegar al punto de tangencia con respecto a la frontera eficiente de Markowitz construido con activos riesgosos:\n",
    "\n",
    "- Al punto de tangencia o intersección se le conoce como cartera de tangencia o portfolio de proporción máxima de sharpe (la pendiente de esa línea viene dada por la relación de Sharpe de la cartera).\n",
    "\n",
    "- La línea recta como la línea del mercado de capitales.\n",
    "\n",
    "Por lo tanto:\n",
    "\n",
    "- Al tratar de aumentar la pendiente, lo que estamos haciendo esencialmente es, maximizar la proporción de Sharpe. \n",
    "\n",
    "- Las carteras de coeficiente máximo de Sharpe son muy importantes porque se están optando de manera óptima por mantener una cartera en la línea del mercado de capitales para mantener una combinación de esa cartera de coeficientes máximos de Sharpe y el activo libre de riesgo. \n",
    "\n",
    "- La cartera de máximo Sharpe es la que ofrece mayor rendimiendo por unidad de riesgo, lo que la hace muy convincente y atractiva desde un punto de vista intuitivo. \n",
    "\n",
    "- La cartera de máximo Sharpe Ratio permite utilizar un modelo factorial para descomponer el riesgo de cualquier cartera dada en términos de riesgos específicos y riesgo sistemático, obteniendo que no contiene ninguna exposición a riesgos específicos, es decir, está compuesta únicamente por riesgo sistemático. Esto es positivo ya que el riesgo específico tiende a no ser recompensado porque se puede diversificar. Por lo tanto, diversificando cualquier cosa que no sea recompensada, la cartera de máximo Sharpe Ratio hace un muy buen trabajo maximizando los rendimientos por unidad de riesgo. \n",
    "\n",
    "__Formulación.__\n",
    "\n",
    "\\begin{align}\n",
    "SR_{p} = \\frac{\\mu_{p} - r_{f}}{\\sigma_{p}} = \\frac{\\sum_{i=1}^{N}w_{i}\\mu_{i}-r_{f}}{\\sqrt{\\sum_{i,j=1}^{N}w_{i}w_{j}\\sigma_{i}\\sigma_{j}\\rho_{ij}}} = \\frac{\\sum_{i=1}^{N}w_{i}\\mu_{i}-r_{f}}{\\sqrt{\\sum_{i,j=1}^{N}w_{i}w_{j}\\sigma_{ij}}}\n",
    "\\end{align}\n",
    "\n",
    "dónde:\n",
    "- $SR_{p}$. Sharpe Ratio\n",
    "- Covarianza entre los activos. $\\rho_{ij}=\\frac{\\sigma_{ij}}{\\sigma_{i}\\sigma_{j}}$.\n",
    "- $\\mu_{p}$. Rendimiento esperado de la cartera.\n",
    "- $\\sigma_{p}$. Volatilidad esperada de la cartera\n",
    "- $r_{f}$. Tasa libre de riesgo\n",
    "- $\\mu_{i}$. Rendimiento esperado de los activos individuales de la cartera (N activos).\n",
    "- $w_{i}$. Pesos de la cartera, es decir, la fracción de la cartera mantenida en cada uno de los activos.\n",
    "- $\\sigma_{ij}$. Covarianza entre el activo i y el activo j.\n",
    "\n",
    "__Conclusiones.__\n",
    "\n",
    "- Cuando se introduce el activo libre de riesgos, la frontera eficiente cambia de forma y se convierte en una línea recta. \n",
    "\n",
    "- La cartera de ratio de Sharpe máximo se define como la cartera que maximiza la recompensa por unidad de riesgo."
   ]
  },
  {
   "cell_type": "markdown",
   "id": "b1a13442",
   "metadata": {},
   "source": [
    "## Tipo test"
   ]
  },
  {
   "cell_type": "markdown",
   "id": "a1548d31",
   "metadata": {},
   "source": [
    "__Pregunta 1. ¿Cuál es el ratio de Sharpe para una cartera con una rentabilidad esperada del 12% y una volatilidad del 20% si el tipo sin riesgo es del 2%?__\n",
    "\n",
    "Sharpe Ratio = (0.12 - 0.02)/0.2 = 0.50"
   ]
  },
  {
   "cell_type": "markdown",
   "id": "92fa9083",
   "metadata": {},
   "source": [
    "__Pregunta 2. ¿Cuál es el máximo ratio de Sharpe en caso de que todos los valores tengan la misma rentabilidad esperada?__\n",
    "\n",
    "La cartera de varianza mínima. La cartera global de mínima varianza es también la máxima relación de Sharpe cuando todos los rendimientos esperados son iguales. De hecho, en estas condiciones, las ponderaciones de la cartera ya no afectan al numerador del ratio de Sharpe, por lo que maximizar el ratio de Sharpe es equivalente a minimizar la volatilidad de la cartera:    "
   ]
  },
  {
   "cell_type": "markdown",
   "id": "d3ed4656",
   "metadata": {},
   "source": [
    "## Práctica"
   ]
  },
  {
   "cell_type": "markdown",
   "id": "2570e542",
   "metadata": {},
   "source": [
    "La frontera eficiente puede ser trazada/calculada a partir de un conjunto dado de rendimientos esperados y la matriz de covarianza. Una vez obtenida, es posible localizar el punto de la frontera eficiente que más interesa, que es la cartera de tangencia o la cartera de Max Sharpe Ratio."
   ]
  },
  {
   "cell_type": "markdown",
   "id": "04723726",
   "metadata": {},
   "source": [
    "### Librerías"
   ]
  },
  {
   "cell_type": "code",
   "execution_count": 1,
   "id": "1d42af17",
   "metadata": {
    "ExecuteTime": {
     "end_time": "2021-09-01T15:39:05.995116Z",
     "start_time": "2021-09-01T15:39:05.281428Z"
    }
   },
   "outputs": [
    {
     "data": {
      "text/html": [
       "        <script type=\"text/javascript\">\n",
       "        window.PlotlyConfig = {MathJaxConfig: 'local'};\n",
       "        if (window.MathJax) {MathJax.Hub.Config({SVG: {font: \"STIX-Web\"}});}\n",
       "        if (typeof require !== 'undefined') {\n",
       "        require.undef(\"plotly\");\n",
       "        requirejs.config({\n",
       "            paths: {\n",
       "                'plotly': ['https://cdn.plot.ly/plotly-latest.min']\n",
       "            }\n",
       "        });\n",
       "        require(['plotly'], function(Plotly) {\n",
       "            window._Plotly = Plotly;\n",
       "        });\n",
       "        }\n",
       "        </script>\n",
       "        "
      ]
     },
     "metadata": {},
     "output_type": "display_data"
    }
   ],
   "source": [
    "import pandas as pd\n",
    "from modules import edhec_risk_kit as erk\n",
    "import plotly \n",
    "import plotly.graph_objects as go\n",
    "import numpy as np\n",
    "from scipy.optimize import minimize\n",
    "\n",
    "# Modo desarrollo del módulo edhec_risk_kit\n",
    "%matplotlib inline\n",
    "%load_ext autoreload\n",
    "%autoreload 2\n",
    "plotly.offline.init_notebook_mode(connected = True)"
   ]
  },
  {
   "cell_type": "markdown",
   "id": "234763a8",
   "metadata": {},
   "source": [
    "### Cargar datos"
   ]
  },
  {
   "cell_type": "code",
   "execution_count": 2,
   "id": "1ad4054b",
   "metadata": {
    "ExecuteTime": {
     "end_time": "2021-09-01T15:39:07.161802Z",
     "start_time": "2021-09-01T15:39:07.090156Z"
    }
   },
   "outputs": [],
   "source": [
    "df_ind = erk.get_ind_returns(filename='../data/ind30_m_vw_rets.csv')\n",
    "df_er = erk.annualize_rets(df_ind['1996':'2000'], 12)\n",
    "df_cov = df_ind['1996':'2000'].cov()"
   ]
  },
  {
   "cell_type": "markdown",
   "id": "08d140d6",
   "metadata": {},
   "source": [
    "### Encontrar la cartera con máximo Sharpe-Ratio"
   ]
  },
  {
   "cell_type": "markdown",
   "id": "9afd8cd2",
   "metadata": {},
   "source": [
    "Ya sabemos cómo identificar los puntos de la curva si se nos da una tasa de rendimiento objetivo. En lugar de minimizar la volatilidad basado en un objetivo de rentabilidad, a continuación, se tratará de encontrar ese punto de la curva que maximiza el ratio de Sharpe, dada la tasa libre de riesgo."
   ]
  },
  {
   "cell_type": "code",
   "execution_count": 4,
   "id": "f1c43390",
   "metadata": {
    "ExecuteTime": {
     "end_time": "2021-09-01T15:39:13.961362Z",
     "start_time": "2021-09-01T15:39:13.832558Z"
    }
   },
   "outputs": [
    {
     "name": "stdout",
     "output_type": "stream",
     "text": [
      "Portfolio return = 0.2647\n",
      "Portfolio volatility = 0.0457\n"
     ]
    }
   ],
   "source": [
    "rfr = 0.1 # Risk Free Rate\n",
    "\n",
    "# Calcular pesos óptimos identificando la cartera sobre la frontera eficiente\n",
    "# con mayor Sharpe Ratio (rendimiento ajustado al riesgo por unidad de voltailidad)\n",
    "optimal_weights_msr, ret_msr, vol_msr= erk.msr(riskfree_rate=rfr, expected_returns=df_er, covmat=df_cov)\n",
    "df_optimal_portfolio = pd.DataFrame(columns=['Assets', 'Weights'])\n",
    "df_optimal_portfolio['Assets'] = pd.DataFrame(df_er).index.to_list()\n",
    "df_optimal_portfolio['Weights'] = optimal_weights_msr.round(2)\n",
    "\n",
    "print('Portfolio return = {:.4f}'.format(ret_msr))\n",
    "print('Portfolio volatility = {:.4f}'.format(vol_msr))"
   ]
  },
  {
   "cell_type": "code",
   "execution_count": 13,
   "id": "2aa0a250",
   "metadata": {
    "ExecuteTime": {
     "end_time": "2021-09-01T15:41:03.961357Z",
     "start_time": "2021-09-01T15:41:03.906169Z"
    }
   },
   "outputs": [
    {
     "data": {
      "text/html": [
       "<div>\n",
       "<style scoped>\n",
       "    .dataframe tbody tr th:only-of-type {\n",
       "        vertical-align: middle;\n",
       "    }\n",
       "\n",
       "    .dataframe tbody tr th {\n",
       "        vertical-align: top;\n",
       "    }\n",
       "\n",
       "    .dataframe thead th {\n",
       "        text-align: right;\n",
       "    }\n",
       "</style>\n",
       "<table border=\"1\" class=\"dataframe\">\n",
       "  <thead>\n",
       "    <tr style=\"text-align: right;\">\n",
       "      <th></th>\n",
       "      <th>7</th>\n",
       "      <th>13</th>\n",
       "      <th>17</th>\n",
       "      <th>19</th>\n",
       "      <th>26</th>\n",
       "      <th>22</th>\n",
       "      <th>0</th>\n",
       "      <th>16</th>\n",
       "      <th>28</th>\n",
       "      <th>27</th>\n",
       "      <th>25</th>\n",
       "      <th>24</th>\n",
       "      <th>23</th>\n",
       "      <th>21</th>\n",
       "      <th>20</th>\n",
       "      <th>18</th>\n",
       "      <th>15</th>\n",
       "      <th>1</th>\n",
       "      <th>14</th>\n",
       "      <th>12</th>\n",
       "      <th>11</th>\n",
       "      <th>10</th>\n",
       "      <th>9</th>\n",
       "      <th>8</th>\n",
       "      <th>6</th>\n",
       "      <th>5</th>\n",
       "      <th>4</th>\n",
       "      <th>3</th>\n",
       "      <th>2</th>\n",
       "      <th>29</th>\n",
       "    </tr>\n",
       "  </thead>\n",
       "  <tbody>\n",
       "    <tr>\n",
       "      <th>Assets</th>\n",
       "      <td>Hlth</td>\n",
       "      <td>ElcEq</td>\n",
       "      <td>Coal</td>\n",
       "      <td>Util</td>\n",
       "      <td>Rtail</td>\n",
       "      <td>BusEq</td>\n",
       "      <td>Food</td>\n",
       "      <td>Mines</td>\n",
       "      <td>Fin</td>\n",
       "      <td>Meals</td>\n",
       "      <td>Whlsl</td>\n",
       "      <td>Trans</td>\n",
       "      <td>Paper</td>\n",
       "      <td>Servs</td>\n",
       "      <td>Telcm</td>\n",
       "      <td>Oil</td>\n",
       "      <td>Carry</td>\n",
       "      <td>Beer</td>\n",
       "      <td>Autos</td>\n",
       "      <td>FabPr</td>\n",
       "      <td>Steel</td>\n",
       "      <td>Cnstr</td>\n",
       "      <td>Txtls</td>\n",
       "      <td>Chems</td>\n",
       "      <td>Clths</td>\n",
       "      <td>Hshld</td>\n",
       "      <td>Books</td>\n",
       "      <td>Games</td>\n",
       "      <td>Smoke</td>\n",
       "      <td>Other</td>\n",
       "    </tr>\n",
       "    <tr>\n",
       "      <th>Weights</th>\n",
       "      <td>0.46</td>\n",
       "      <td>0.23</td>\n",
       "      <td>0.14</td>\n",
       "      <td>0.09</td>\n",
       "      <td>0.07</td>\n",
       "      <td>0.02</td>\n",
       "      <td>0</td>\n",
       "      <td>0</td>\n",
       "      <td>0</td>\n",
       "      <td>0</td>\n",
       "      <td>0</td>\n",
       "      <td>0</td>\n",
       "      <td>0</td>\n",
       "      <td>0</td>\n",
       "      <td>0</td>\n",
       "      <td>0</td>\n",
       "      <td>0</td>\n",
       "      <td>0</td>\n",
       "      <td>0</td>\n",
       "      <td>0</td>\n",
       "      <td>0</td>\n",
       "      <td>0</td>\n",
       "      <td>0</td>\n",
       "      <td>0</td>\n",
       "      <td>0</td>\n",
       "      <td>0</td>\n",
       "      <td>0</td>\n",
       "      <td>0</td>\n",
       "      <td>0</td>\n",
       "      <td>0</td>\n",
       "    </tr>\n",
       "  </tbody>\n",
       "</table>\n",
       "</div>"
      ],
      "text/plain": [
       "           7      13    17    19     26     22    0      16   28     27  \\\n",
       "Assets   Hlth  ElcEq  Coal  Util  Rtail  BusEq  Food  Mines  Fin  Meals   \n",
       "Weights  0.46   0.23  0.14  0.09   0.07   0.02     0      0    0      0   \n",
       "\n",
       "            25     24     23     21     20   18     15    1      14     12  \\\n",
       "Assets   Whlsl  Trans  Paper  Servs  Telcm  Oil  Carry  Beer  Autos  FabPr   \n",
       "Weights      0      0      0      0      0    0      0     0      0      0   \n",
       "\n",
       "            11     10     9      8      6      5      4      3      2      29  \n",
       "Assets   Steel  Cnstr  Txtls  Chems  Clths  Hshld  Books  Games  Smoke  Other  \n",
       "Weights      0      0      0      0      0      0      0      0      0      0  "
      ]
     },
     "execution_count": 13,
     "metadata": {},
     "output_type": "execute_result"
    }
   ],
   "source": [
    "pd.options.display.max_columns=30\n",
    "df_optimal_portfolio.sort_values('Weights', ascending=False).T"
   ]
  },
  {
   "cell_type": "code",
   "execution_count": 9,
   "id": "6a94ca84",
   "metadata": {
    "ExecuteTime": {
     "end_time": "2021-09-01T15:40:21.007301Z",
     "start_time": "2021-09-01T15:40:19.626442Z"
    }
   },
   "outputs": [
    {
     "data": {
      "application/vnd.plotly.v1+json": {
       "config": {
        "plotlyServerURL": "https://plot.ly"
       },
       "data": [
        {
         "hovertemplate": "%{y:.5f}",
         "mode": "lines+markers",
         "name": "Efficient Frontier",
         "type": "scatter",
         "x": [
          0.0858384569533391,
          0.04843105638148457,
          0.04411984473190557,
          0.04032568099398002,
          0.03716652756318207,
          0.03473462711394391,
          0.03305277494917839,
          0.031994243159423896,
          0.03153615562432461,
          0.03149760663312927,
          0.03221722540193153,
          0.0349458625852676,
          0.03991344012059619,
          0.04630152925864402,
          0.05393790435261317,
          0.0654611989461917,
          0.0799220038511162,
          0.0964190178457349,
          0.11561618119676328,
          0.13653194583814685
         ],
         "y": [
          -0.05355444089973217,
          -0.028910050363810582,
          -0.004265659638695138,
          0.020378731087664453,
          0.045023121812445235,
          0.06966751253985463,
          0.09431190325989039,
          0.11895629398646428,
          0.1436006847088073,
          0.16824507543803352,
          0.1928894661654985,
          0.21753385689459337,
          0.2421782476172122,
          0.26682263834359,
          0.29146702882534103,
          0.3161114197781021,
          0.3407558105208099,
          0.3654002012413439,
          0.3900445921093494,
          0.4146889826910652
         ]
        },
        {
         "hovertemplate": "%{y:.5f}",
         "mode": "lines+markers",
         "name": "Cap Market Line",
         "type": "scatter",
         "x": [
          0,
          0.04571973132039177
         ],
         "y": [
          0.1,
          0.2647394793106738
         ]
        }
       ],
       "layout": {
        "hoverdistance": 200,
        "hovermode": "x unified",
        "spikedistance": 200,
        "template": {
         "data": {
          "bar": [
           {
            "error_x": {
             "color": "#2a3f5f"
            },
            "error_y": {
             "color": "#2a3f5f"
            },
            "marker": {
             "line": {
              "color": "#E5ECF6",
              "width": 0.5
             }
            },
            "type": "bar"
           }
          ],
          "barpolar": [
           {
            "marker": {
             "line": {
              "color": "#E5ECF6",
              "width": 0.5
             }
            },
            "type": "barpolar"
           }
          ],
          "carpet": [
           {
            "aaxis": {
             "endlinecolor": "#2a3f5f",
             "gridcolor": "white",
             "linecolor": "white",
             "minorgridcolor": "white",
             "startlinecolor": "#2a3f5f"
            },
            "baxis": {
             "endlinecolor": "#2a3f5f",
             "gridcolor": "white",
             "linecolor": "white",
             "minorgridcolor": "white",
             "startlinecolor": "#2a3f5f"
            },
            "type": "carpet"
           }
          ],
          "choropleth": [
           {
            "colorbar": {
             "outlinewidth": 0,
             "ticks": ""
            },
            "type": "choropleth"
           }
          ],
          "contour": [
           {
            "colorbar": {
             "outlinewidth": 0,
             "ticks": ""
            },
            "colorscale": [
             [
              0,
              "#0d0887"
             ],
             [
              0.1111111111111111,
              "#46039f"
             ],
             [
              0.2222222222222222,
              "#7201a8"
             ],
             [
              0.3333333333333333,
              "#9c179e"
             ],
             [
              0.4444444444444444,
              "#bd3786"
             ],
             [
              0.5555555555555556,
              "#d8576b"
             ],
             [
              0.6666666666666666,
              "#ed7953"
             ],
             [
              0.7777777777777778,
              "#fb9f3a"
             ],
             [
              0.8888888888888888,
              "#fdca26"
             ],
             [
              1,
              "#f0f921"
             ]
            ],
            "type": "contour"
           }
          ],
          "contourcarpet": [
           {
            "colorbar": {
             "outlinewidth": 0,
             "ticks": ""
            },
            "type": "contourcarpet"
           }
          ],
          "heatmap": [
           {
            "colorbar": {
             "outlinewidth": 0,
             "ticks": ""
            },
            "colorscale": [
             [
              0,
              "#0d0887"
             ],
             [
              0.1111111111111111,
              "#46039f"
             ],
             [
              0.2222222222222222,
              "#7201a8"
             ],
             [
              0.3333333333333333,
              "#9c179e"
             ],
             [
              0.4444444444444444,
              "#bd3786"
             ],
             [
              0.5555555555555556,
              "#d8576b"
             ],
             [
              0.6666666666666666,
              "#ed7953"
             ],
             [
              0.7777777777777778,
              "#fb9f3a"
             ],
             [
              0.8888888888888888,
              "#fdca26"
             ],
             [
              1,
              "#f0f921"
             ]
            ],
            "type": "heatmap"
           }
          ],
          "heatmapgl": [
           {
            "colorbar": {
             "outlinewidth": 0,
             "ticks": ""
            },
            "colorscale": [
             [
              0,
              "#0d0887"
             ],
             [
              0.1111111111111111,
              "#46039f"
             ],
             [
              0.2222222222222222,
              "#7201a8"
             ],
             [
              0.3333333333333333,
              "#9c179e"
             ],
             [
              0.4444444444444444,
              "#bd3786"
             ],
             [
              0.5555555555555556,
              "#d8576b"
             ],
             [
              0.6666666666666666,
              "#ed7953"
             ],
             [
              0.7777777777777778,
              "#fb9f3a"
             ],
             [
              0.8888888888888888,
              "#fdca26"
             ],
             [
              1,
              "#f0f921"
             ]
            ],
            "type": "heatmapgl"
           }
          ],
          "histogram": [
           {
            "marker": {
             "colorbar": {
              "outlinewidth": 0,
              "ticks": ""
             }
            },
            "type": "histogram"
           }
          ],
          "histogram2d": [
           {
            "colorbar": {
             "outlinewidth": 0,
             "ticks": ""
            },
            "colorscale": [
             [
              0,
              "#0d0887"
             ],
             [
              0.1111111111111111,
              "#46039f"
             ],
             [
              0.2222222222222222,
              "#7201a8"
             ],
             [
              0.3333333333333333,
              "#9c179e"
             ],
             [
              0.4444444444444444,
              "#bd3786"
             ],
             [
              0.5555555555555556,
              "#d8576b"
             ],
             [
              0.6666666666666666,
              "#ed7953"
             ],
             [
              0.7777777777777778,
              "#fb9f3a"
             ],
             [
              0.8888888888888888,
              "#fdca26"
             ],
             [
              1,
              "#f0f921"
             ]
            ],
            "type": "histogram2d"
           }
          ],
          "histogram2dcontour": [
           {
            "colorbar": {
             "outlinewidth": 0,
             "ticks": ""
            },
            "colorscale": [
             [
              0,
              "#0d0887"
             ],
             [
              0.1111111111111111,
              "#46039f"
             ],
             [
              0.2222222222222222,
              "#7201a8"
             ],
             [
              0.3333333333333333,
              "#9c179e"
             ],
             [
              0.4444444444444444,
              "#bd3786"
             ],
             [
              0.5555555555555556,
              "#d8576b"
             ],
             [
              0.6666666666666666,
              "#ed7953"
             ],
             [
              0.7777777777777778,
              "#fb9f3a"
             ],
             [
              0.8888888888888888,
              "#fdca26"
             ],
             [
              1,
              "#f0f921"
             ]
            ],
            "type": "histogram2dcontour"
           }
          ],
          "mesh3d": [
           {
            "colorbar": {
             "outlinewidth": 0,
             "ticks": ""
            },
            "type": "mesh3d"
           }
          ],
          "parcoords": [
           {
            "line": {
             "colorbar": {
              "outlinewidth": 0,
              "ticks": ""
             }
            },
            "type": "parcoords"
           }
          ],
          "pie": [
           {
            "automargin": true,
            "type": "pie"
           }
          ],
          "scatter": [
           {
            "marker": {
             "colorbar": {
              "outlinewidth": 0,
              "ticks": ""
             }
            },
            "type": "scatter"
           }
          ],
          "scatter3d": [
           {
            "line": {
             "colorbar": {
              "outlinewidth": 0,
              "ticks": ""
             }
            },
            "marker": {
             "colorbar": {
              "outlinewidth": 0,
              "ticks": ""
             }
            },
            "type": "scatter3d"
           }
          ],
          "scattercarpet": [
           {
            "marker": {
             "colorbar": {
              "outlinewidth": 0,
              "ticks": ""
             }
            },
            "type": "scattercarpet"
           }
          ],
          "scattergeo": [
           {
            "marker": {
             "colorbar": {
              "outlinewidth": 0,
              "ticks": ""
             }
            },
            "type": "scattergeo"
           }
          ],
          "scattergl": [
           {
            "marker": {
             "colorbar": {
              "outlinewidth": 0,
              "ticks": ""
             }
            },
            "type": "scattergl"
           }
          ],
          "scattermapbox": [
           {
            "marker": {
             "colorbar": {
              "outlinewidth": 0,
              "ticks": ""
             }
            },
            "type": "scattermapbox"
           }
          ],
          "scatterpolar": [
           {
            "marker": {
             "colorbar": {
              "outlinewidth": 0,
              "ticks": ""
             }
            },
            "type": "scatterpolar"
           }
          ],
          "scatterpolargl": [
           {
            "marker": {
             "colorbar": {
              "outlinewidth": 0,
              "ticks": ""
             }
            },
            "type": "scatterpolargl"
           }
          ],
          "scatterternary": [
           {
            "marker": {
             "colorbar": {
              "outlinewidth": 0,
              "ticks": ""
             }
            },
            "type": "scatterternary"
           }
          ],
          "surface": [
           {
            "colorbar": {
             "outlinewidth": 0,
             "ticks": ""
            },
            "colorscale": [
             [
              0,
              "#0d0887"
             ],
             [
              0.1111111111111111,
              "#46039f"
             ],
             [
              0.2222222222222222,
              "#7201a8"
             ],
             [
              0.3333333333333333,
              "#9c179e"
             ],
             [
              0.4444444444444444,
              "#bd3786"
             ],
             [
              0.5555555555555556,
              "#d8576b"
             ],
             [
              0.6666666666666666,
              "#ed7953"
             ],
             [
              0.7777777777777778,
              "#fb9f3a"
             ],
             [
              0.8888888888888888,
              "#fdca26"
             ],
             [
              1,
              "#f0f921"
             ]
            ],
            "type": "surface"
           }
          ],
          "table": [
           {
            "cells": {
             "fill": {
              "color": "#EBF0F8"
             },
             "line": {
              "color": "white"
             }
            },
            "header": {
             "fill": {
              "color": "#C8D4E3"
             },
             "line": {
              "color": "white"
             }
            },
            "type": "table"
           }
          ]
         },
         "layout": {
          "annotationdefaults": {
           "arrowcolor": "#2a3f5f",
           "arrowhead": 0,
           "arrowwidth": 1
          },
          "autotypenumbers": "strict",
          "coloraxis": {
           "colorbar": {
            "outlinewidth": 0,
            "ticks": ""
           }
          },
          "colorscale": {
           "diverging": [
            [
             0,
             "#8e0152"
            ],
            [
             0.1,
             "#c51b7d"
            ],
            [
             0.2,
             "#de77ae"
            ],
            [
             0.3,
             "#f1b6da"
            ],
            [
             0.4,
             "#fde0ef"
            ],
            [
             0.5,
             "#f7f7f7"
            ],
            [
             0.6,
             "#e6f5d0"
            ],
            [
             0.7,
             "#b8e186"
            ],
            [
             0.8,
             "#7fbc41"
            ],
            [
             0.9,
             "#4d9221"
            ],
            [
             1,
             "#276419"
            ]
           ],
           "sequential": [
            [
             0,
             "#0d0887"
            ],
            [
             0.1111111111111111,
             "#46039f"
            ],
            [
             0.2222222222222222,
             "#7201a8"
            ],
            [
             0.3333333333333333,
             "#9c179e"
            ],
            [
             0.4444444444444444,
             "#bd3786"
            ],
            [
             0.5555555555555556,
             "#d8576b"
            ],
            [
             0.6666666666666666,
             "#ed7953"
            ],
            [
             0.7777777777777778,
             "#fb9f3a"
            ],
            [
             0.8888888888888888,
             "#fdca26"
            ],
            [
             1,
             "#f0f921"
            ]
           ],
           "sequentialminus": [
            [
             0,
             "#0d0887"
            ],
            [
             0.1111111111111111,
             "#46039f"
            ],
            [
             0.2222222222222222,
             "#7201a8"
            ],
            [
             0.3333333333333333,
             "#9c179e"
            ],
            [
             0.4444444444444444,
             "#bd3786"
            ],
            [
             0.5555555555555556,
             "#d8576b"
            ],
            [
             0.6666666666666666,
             "#ed7953"
            ],
            [
             0.7777777777777778,
             "#fb9f3a"
            ],
            [
             0.8888888888888888,
             "#fdca26"
            ],
            [
             1,
             "#f0f921"
            ]
           ]
          },
          "colorway": [
           "#636efa",
           "#EF553B",
           "#00cc96",
           "#ab63fa",
           "#FFA15A",
           "#19d3f3",
           "#FF6692",
           "#B6E880",
           "#FF97FF",
           "#FECB52"
          ],
          "font": {
           "color": "#2a3f5f"
          },
          "geo": {
           "bgcolor": "white",
           "lakecolor": "white",
           "landcolor": "#E5ECF6",
           "showlakes": true,
           "showland": true,
           "subunitcolor": "white"
          },
          "hoverlabel": {
           "align": "left"
          },
          "hovermode": "closest",
          "mapbox": {
           "style": "light"
          },
          "paper_bgcolor": "white",
          "plot_bgcolor": "#E5ECF6",
          "polar": {
           "angularaxis": {
            "gridcolor": "white",
            "linecolor": "white",
            "ticks": ""
           },
           "bgcolor": "#E5ECF6",
           "radialaxis": {
            "gridcolor": "white",
            "linecolor": "white",
            "ticks": ""
           }
          },
          "scene": {
           "xaxis": {
            "backgroundcolor": "#E5ECF6",
            "gridcolor": "white",
            "gridwidth": 2,
            "linecolor": "white",
            "showbackground": true,
            "ticks": "",
            "zerolinecolor": "white"
           },
           "yaxis": {
            "backgroundcolor": "#E5ECF6",
            "gridcolor": "white",
            "gridwidth": 2,
            "linecolor": "white",
            "showbackground": true,
            "ticks": "",
            "zerolinecolor": "white"
           },
           "zaxis": {
            "backgroundcolor": "#E5ECF6",
            "gridcolor": "white",
            "gridwidth": 2,
            "linecolor": "white",
            "showbackground": true,
            "ticks": "",
            "zerolinecolor": "white"
           }
          },
          "shapedefaults": {
           "line": {
            "color": "#2a3f5f"
           }
          },
          "ternary": {
           "aaxis": {
            "gridcolor": "white",
            "linecolor": "white",
            "ticks": ""
           },
           "baxis": {
            "gridcolor": "white",
            "linecolor": "white",
            "ticks": ""
           },
           "bgcolor": "#E5ECF6",
           "caxis": {
            "gridcolor": "white",
            "linecolor": "white",
            "ticks": ""
           }
          },
          "title": {
           "x": 0.05
          },
          "xaxis": {
           "automargin": true,
           "gridcolor": "white",
           "linecolor": "white",
           "ticks": "",
           "title": {
            "standoff": 15
           },
           "zerolinecolor": "white",
           "zerolinewidth": 2
          },
          "yaxis": {
           "automargin": true,
           "gridcolor": "white",
           "linecolor": "white",
           "ticks": "",
           "title": {
            "standoff": 15
           },
           "zerolinecolor": "white",
           "zerolinewidth": 2
          }
         }
        },
        "title": {
         "text": "Efficient Frontier Portfolio Maximum Sharpe Ratio"
        },
        "transition": {
         "duration": 500
        },
        "xaxis": {
         "range": [
          0,
          0.14653194583814685
         ],
         "showspikes": true,
         "spikecolor": "#999999",
         "spikemode": "across",
         "spikethickness": 2,
         "title": {
          "text": "Volatility"
         }
        },
        "yaxis": {
         "tickprefix": "",
         "title": {
          "text": "Return"
         }
        }
       }
      },
      "text/html": [
       "<div>                            <div id=\"0ae97203-9033-448a-8bc1-35df194a20f6\" class=\"plotly-graph-div\" style=\"height:525px; width:100%;\"></div>            <script type=\"text/javascript\">                require([\"plotly\"], function(Plotly) {                    window.PLOTLYENV=window.PLOTLYENV || {};                                    if (document.getElementById(\"0ae97203-9033-448a-8bc1-35df194a20f6\")) {                    Plotly.newPlot(                        \"0ae97203-9033-448a-8bc1-35df194a20f6\",                        [{\"hovertemplate\": \"%{y:.5f}\", \"mode\": \"lines+markers\", \"name\": \"Efficient Frontier\", \"type\": \"scatter\", \"x\": [0.0858384569533391, 0.04843105638148457, 0.04411984473190557, 0.04032568099398002, 0.03716652756318207, 0.03473462711394391, 0.03305277494917839, 0.031994243159423896, 0.03153615562432461, 0.03149760663312927, 0.03221722540193153, 0.0349458625852676, 0.03991344012059619, 0.04630152925864402, 0.05393790435261317, 0.0654611989461917, 0.0799220038511162, 0.0964190178457349, 0.11561618119676328, 0.13653194583814685], \"y\": [-0.05355444089973217, -0.028910050363810582, -0.004265659638695138, 0.020378731087664453, 0.045023121812445235, 0.06966751253985463, 0.09431190325989039, 0.11895629398646428, 0.1436006847088073, 0.16824507543803352, 0.1928894661654985, 0.21753385689459337, 0.2421782476172122, 0.26682263834359, 0.29146702882534103, 0.3161114197781021, 0.3407558105208099, 0.3654002012413439, 0.3900445921093494, 0.4146889826910652]}, {\"hovertemplate\": \"%{y:.5f}\", \"mode\": \"lines+markers\", \"name\": \"Cap Market Line\", \"type\": \"scatter\", \"x\": [0, 0.04571973132039177], \"y\": [0.1, 0.2647394793106738]}],                        {\"hoverdistance\": 200, \"hovermode\": \"x unified\", \"spikedistance\": 200, \"template\": {\"data\": {\"bar\": [{\"error_x\": {\"color\": \"#2a3f5f\"}, \"error_y\": {\"color\": \"#2a3f5f\"}, \"marker\": {\"line\": {\"color\": \"#E5ECF6\", \"width\": 0.5}}, \"type\": \"bar\"}], \"barpolar\": [{\"marker\": {\"line\": {\"color\": \"#E5ECF6\", \"width\": 0.5}}, \"type\": \"barpolar\"}], \"carpet\": [{\"aaxis\": {\"endlinecolor\": \"#2a3f5f\", \"gridcolor\": \"white\", \"linecolor\": \"white\", \"minorgridcolor\": \"white\", \"startlinecolor\": \"#2a3f5f\"}, \"baxis\": {\"endlinecolor\": \"#2a3f5f\", \"gridcolor\": \"white\", \"linecolor\": \"white\", \"minorgridcolor\": \"white\", \"startlinecolor\": \"#2a3f5f\"}, \"type\": \"carpet\"}], \"choropleth\": [{\"colorbar\": {\"outlinewidth\": 0, \"ticks\": \"\"}, \"type\": \"choropleth\"}], \"contour\": [{\"colorbar\": {\"outlinewidth\": 0, \"ticks\": \"\"}, \"colorscale\": [[0.0, \"#0d0887\"], [0.1111111111111111, \"#46039f\"], [0.2222222222222222, \"#7201a8\"], [0.3333333333333333, \"#9c179e\"], [0.4444444444444444, \"#bd3786\"], [0.5555555555555556, \"#d8576b\"], [0.6666666666666666, \"#ed7953\"], [0.7777777777777778, \"#fb9f3a\"], [0.8888888888888888, \"#fdca26\"], [1.0, \"#f0f921\"]], \"type\": \"contour\"}], \"contourcarpet\": [{\"colorbar\": {\"outlinewidth\": 0, \"ticks\": \"\"}, \"type\": \"contourcarpet\"}], \"heatmap\": [{\"colorbar\": {\"outlinewidth\": 0, \"ticks\": \"\"}, \"colorscale\": [[0.0, \"#0d0887\"], [0.1111111111111111, \"#46039f\"], [0.2222222222222222, \"#7201a8\"], [0.3333333333333333, \"#9c179e\"], [0.4444444444444444, \"#bd3786\"], [0.5555555555555556, \"#d8576b\"], [0.6666666666666666, \"#ed7953\"], [0.7777777777777778, \"#fb9f3a\"], [0.8888888888888888, \"#fdca26\"], [1.0, \"#f0f921\"]], \"type\": \"heatmap\"}], \"heatmapgl\": [{\"colorbar\": {\"outlinewidth\": 0, \"ticks\": \"\"}, \"colorscale\": [[0.0, \"#0d0887\"], [0.1111111111111111, \"#46039f\"], [0.2222222222222222, \"#7201a8\"], [0.3333333333333333, \"#9c179e\"], [0.4444444444444444, \"#bd3786\"], [0.5555555555555556, \"#d8576b\"], [0.6666666666666666, \"#ed7953\"], [0.7777777777777778, \"#fb9f3a\"], [0.8888888888888888, \"#fdca26\"], [1.0, \"#f0f921\"]], \"type\": \"heatmapgl\"}], \"histogram\": [{\"marker\": {\"colorbar\": {\"outlinewidth\": 0, \"ticks\": \"\"}}, \"type\": \"histogram\"}], \"histogram2d\": [{\"colorbar\": {\"outlinewidth\": 0, \"ticks\": \"\"}, \"colorscale\": [[0.0, \"#0d0887\"], [0.1111111111111111, \"#46039f\"], [0.2222222222222222, \"#7201a8\"], [0.3333333333333333, \"#9c179e\"], [0.4444444444444444, \"#bd3786\"], [0.5555555555555556, \"#d8576b\"], [0.6666666666666666, \"#ed7953\"], [0.7777777777777778, \"#fb9f3a\"], [0.8888888888888888, \"#fdca26\"], [1.0, \"#f0f921\"]], \"type\": \"histogram2d\"}], \"histogram2dcontour\": [{\"colorbar\": {\"outlinewidth\": 0, \"ticks\": \"\"}, \"colorscale\": [[0.0, \"#0d0887\"], [0.1111111111111111, \"#46039f\"], [0.2222222222222222, \"#7201a8\"], [0.3333333333333333, \"#9c179e\"], [0.4444444444444444, \"#bd3786\"], [0.5555555555555556, \"#d8576b\"], [0.6666666666666666, \"#ed7953\"], [0.7777777777777778, \"#fb9f3a\"], [0.8888888888888888, \"#fdca26\"], [1.0, \"#f0f921\"]], \"type\": \"histogram2dcontour\"}], \"mesh3d\": [{\"colorbar\": {\"outlinewidth\": 0, \"ticks\": \"\"}, \"type\": \"mesh3d\"}], \"parcoords\": [{\"line\": {\"colorbar\": {\"outlinewidth\": 0, \"ticks\": \"\"}}, \"type\": \"parcoords\"}], \"pie\": [{\"automargin\": true, \"type\": \"pie\"}], \"scatter\": [{\"marker\": {\"colorbar\": {\"outlinewidth\": 0, \"ticks\": \"\"}}, \"type\": \"scatter\"}], \"scatter3d\": [{\"line\": {\"colorbar\": {\"outlinewidth\": 0, \"ticks\": \"\"}}, \"marker\": {\"colorbar\": {\"outlinewidth\": 0, \"ticks\": \"\"}}, \"type\": \"scatter3d\"}], \"scattercarpet\": [{\"marker\": {\"colorbar\": {\"outlinewidth\": 0, \"ticks\": \"\"}}, \"type\": \"scattercarpet\"}], \"scattergeo\": [{\"marker\": {\"colorbar\": {\"outlinewidth\": 0, \"ticks\": \"\"}}, \"type\": \"scattergeo\"}], \"scattergl\": [{\"marker\": {\"colorbar\": {\"outlinewidth\": 0, \"ticks\": \"\"}}, \"type\": \"scattergl\"}], \"scattermapbox\": [{\"marker\": {\"colorbar\": {\"outlinewidth\": 0, \"ticks\": \"\"}}, \"type\": \"scattermapbox\"}], \"scatterpolar\": [{\"marker\": {\"colorbar\": {\"outlinewidth\": 0, \"ticks\": \"\"}}, \"type\": \"scatterpolar\"}], \"scatterpolargl\": [{\"marker\": {\"colorbar\": {\"outlinewidth\": 0, \"ticks\": \"\"}}, \"type\": \"scatterpolargl\"}], \"scatterternary\": [{\"marker\": {\"colorbar\": {\"outlinewidth\": 0, \"ticks\": \"\"}}, \"type\": \"scatterternary\"}], \"surface\": [{\"colorbar\": {\"outlinewidth\": 0, \"ticks\": \"\"}, \"colorscale\": [[0.0, \"#0d0887\"], [0.1111111111111111, \"#46039f\"], [0.2222222222222222, \"#7201a8\"], [0.3333333333333333, \"#9c179e\"], [0.4444444444444444, \"#bd3786\"], [0.5555555555555556, \"#d8576b\"], [0.6666666666666666, \"#ed7953\"], [0.7777777777777778, \"#fb9f3a\"], [0.8888888888888888, \"#fdca26\"], [1.0, \"#f0f921\"]], \"type\": \"surface\"}], \"table\": [{\"cells\": {\"fill\": {\"color\": \"#EBF0F8\"}, \"line\": {\"color\": \"white\"}}, \"header\": {\"fill\": {\"color\": \"#C8D4E3\"}, \"line\": {\"color\": \"white\"}}, \"type\": \"table\"}]}, \"layout\": {\"annotationdefaults\": {\"arrowcolor\": \"#2a3f5f\", \"arrowhead\": 0, \"arrowwidth\": 1}, \"autotypenumbers\": \"strict\", \"coloraxis\": {\"colorbar\": {\"outlinewidth\": 0, \"ticks\": \"\"}}, \"colorscale\": {\"diverging\": [[0, \"#8e0152\"], [0.1, \"#c51b7d\"], [0.2, \"#de77ae\"], [0.3, \"#f1b6da\"], [0.4, \"#fde0ef\"], [0.5, \"#f7f7f7\"], [0.6, \"#e6f5d0\"], [0.7, \"#b8e186\"], [0.8, \"#7fbc41\"], [0.9, \"#4d9221\"], [1, \"#276419\"]], \"sequential\": [[0.0, \"#0d0887\"], [0.1111111111111111, \"#46039f\"], [0.2222222222222222, \"#7201a8\"], [0.3333333333333333, \"#9c179e\"], [0.4444444444444444, \"#bd3786\"], [0.5555555555555556, \"#d8576b\"], [0.6666666666666666, \"#ed7953\"], [0.7777777777777778, \"#fb9f3a\"], [0.8888888888888888, \"#fdca26\"], [1.0, \"#f0f921\"]], \"sequentialminus\": [[0.0, \"#0d0887\"], [0.1111111111111111, \"#46039f\"], [0.2222222222222222, \"#7201a8\"], [0.3333333333333333, \"#9c179e\"], [0.4444444444444444, \"#bd3786\"], [0.5555555555555556, \"#d8576b\"], [0.6666666666666666, \"#ed7953\"], [0.7777777777777778, \"#fb9f3a\"], [0.8888888888888888, \"#fdca26\"], [1.0, \"#f0f921\"]]}, \"colorway\": [\"#636efa\", \"#EF553B\", \"#00cc96\", \"#ab63fa\", \"#FFA15A\", \"#19d3f3\", \"#FF6692\", \"#B6E880\", \"#FF97FF\", \"#FECB52\"], \"font\": {\"color\": \"#2a3f5f\"}, \"geo\": {\"bgcolor\": \"white\", \"lakecolor\": \"white\", \"landcolor\": \"#E5ECF6\", \"showlakes\": true, \"showland\": true, \"subunitcolor\": \"white\"}, \"hoverlabel\": {\"align\": \"left\"}, \"hovermode\": \"closest\", \"mapbox\": {\"style\": \"light\"}, \"paper_bgcolor\": \"white\", \"plot_bgcolor\": \"#E5ECF6\", \"polar\": {\"angularaxis\": {\"gridcolor\": \"white\", \"linecolor\": \"white\", \"ticks\": \"\"}, \"bgcolor\": \"#E5ECF6\", \"radialaxis\": {\"gridcolor\": \"white\", \"linecolor\": \"white\", \"ticks\": \"\"}}, \"scene\": {\"xaxis\": {\"backgroundcolor\": \"#E5ECF6\", \"gridcolor\": \"white\", \"gridwidth\": 2, \"linecolor\": \"white\", \"showbackground\": true, \"ticks\": \"\", \"zerolinecolor\": \"white\"}, \"yaxis\": {\"backgroundcolor\": \"#E5ECF6\", \"gridcolor\": \"white\", \"gridwidth\": 2, \"linecolor\": \"white\", \"showbackground\": true, \"ticks\": \"\", \"zerolinecolor\": \"white\"}, \"zaxis\": {\"backgroundcolor\": \"#E5ECF6\", \"gridcolor\": \"white\", \"gridwidth\": 2, \"linecolor\": \"white\", \"showbackground\": true, \"ticks\": \"\", \"zerolinecolor\": \"white\"}}, \"shapedefaults\": {\"line\": {\"color\": \"#2a3f5f\"}}, \"ternary\": {\"aaxis\": {\"gridcolor\": \"white\", \"linecolor\": \"white\", \"ticks\": \"\"}, \"baxis\": {\"gridcolor\": \"white\", \"linecolor\": \"white\", \"ticks\": \"\"}, \"bgcolor\": \"#E5ECF6\", \"caxis\": {\"gridcolor\": \"white\", \"linecolor\": \"white\", \"ticks\": \"\"}}, \"title\": {\"x\": 0.05}, \"xaxis\": {\"automargin\": true, \"gridcolor\": \"white\", \"linecolor\": \"white\", \"ticks\": \"\", \"title\": {\"standoff\": 15}, \"zerolinecolor\": \"white\", \"zerolinewidth\": 2}, \"yaxis\": {\"automargin\": true, \"gridcolor\": \"white\", \"linecolor\": \"white\", \"ticks\": \"\", \"title\": {\"standoff\": 15}, \"zerolinecolor\": \"white\", \"zerolinewidth\": 2}}}, \"title\": {\"text\": \"Efficient Frontier Portfolio Maximum Sharpe Ratio\"}, \"transition\": {\"duration\": 500}, \"xaxis\": {\"range\": [0, 0.14653194583814685], \"showspikes\": true, \"spikecolor\": \"#999999\", \"spikemode\": \"across\", \"spikethickness\": 2, \"title\": {\"text\": \"Volatility\"}}, \"yaxis\": {\"tickprefix\": \"\", \"title\": {\"text\": \"Return\"}}},                        {\"responsive\": true}                    ).then(function(){\n",
       "                            \n",
       "var gd = document.getElementById('0ae97203-9033-448a-8bc1-35df194a20f6');\n",
       "var x = new MutationObserver(function (mutations, observer) {{\n",
       "        var display = window.getComputedStyle(gd).display;\n",
       "        if (!display || display === 'none') {{\n",
       "            console.log([gd, 'removed!']);\n",
       "            Plotly.purge(gd);\n",
       "            observer.disconnect();\n",
       "        }}\n",
       "}});\n",
       "\n",
       "// Listen for the removal of the full notebook cells\n",
       "var notebookContainer = gd.closest('#notebook-container');\n",
       "if (notebookContainer) {{\n",
       "    x.observe(notebookContainer, {childList: true});\n",
       "}}\n",
       "\n",
       "// Listen for the clearing of the current output cell\n",
       "var outputEl = gd.closest('.output');\n",
       "if (outputEl) {{\n",
       "    x.observe(outputEl, {childList: true});\n",
       "}}\n",
       "\n",
       "                        })                };                });            </script>        </div>"
      ]
     },
     "metadata": {},
     "output_type": "display_data"
    }
   ],
   "source": [
    "# Visualización\n",
    "erk.plot_ef(20, df_er, df_cov, title='Efficient Frontier Portfolio Maximum Sharpe Ratio', show_cml=True, riskfree_rate=rfr)"
   ]
  },
  {
   "cell_type": "markdown",
   "id": "6a3ce867",
   "metadata": {},
   "source": [
    "## Anexos"
   ]
  },
  {
   "cell_type": "markdown",
   "id": "d6447e56",
   "metadata": {},
   "source": [
    "### Sharpe Ratio\n",
    "\n",
    "El Sharpe Ratio fue desarrollado por el premio Nobel William F. Sharpe y se permite ayudar a los inversores a comprender la rentabilidad de una inversión en comparación con su riesgo obteniendo un coeficiente como resultado que se corresponde con la rentabilidad media obtenida por encima de la tasa libre de riesgo (risk free rate) por unidad de volatilidad o riesgo total. La volatilidad es una medida de las fluctuaciones del precio de un activo o una cartera.\n",
    "\n",
    "Las características principales son:\n",
    "\n",
    "- El Sharpe Ratio ajusta el rendimiento pasado de una cartera -o el rendimiento futuro esperado- por el exceso de riesgo asumido por el inversor.\n",
    "\n",
    "- Un Sharpe Ratio alto es bueno cuando se compara con carteras o fondos similares con rendimientos más bajos.\n",
    "\n",
    "\n",
    "- El Sharpe Ratio tiene varios puntos débiles, como la suposición de que los rendimientos de las inversiones se - distribuyen normalmente.\n",
    "\n",
    "\n",
    "- Permite comparar la relación de riesgo y beneficio de las diferentes opciones de inversión.\n",
    "\n",
    "\n",
    "- Permite evaluar la efectividad de las estrategias dentro de una opción de inversión (relación riesgo beneficio de diferentes portafolios de inversión, estrategias de Forex, asesores, etc.).\n",
    "\n",
    "\n",
    "- Permite definir una estrategia más atractiva en términos de minimizar el riesgo con el mismo rendimiento.\n",
    "\n",
    "__Formulación.__\n",
    "\n",
    "\\begin{align}\n",
    "SR = \\frac{R_{p} - R_{f}}{\\sigma_{p}}\n",
    "\\end{align}\n",
    "\n",
    "dónde:\n",
    "\n",
    "\n",
    "- $R_{p}$. Rendimiento del portfolio, es decir, el rendimiento del activo durante un período fijo. El día, el mes y el año pueden tomarse como período. No se puede utilizar la cifra de rendimiento, sino su aumento en comparación con el período anterior. Dado que el coeficiente no está exento de defectos, se recomienda calcular el coeficiente de diferentes maneras para diferentes períodos, lo que equivale a una matriz digital para cada estrategia. Para los depósitos, el rendimiento es una tasa bancaria, para el Forex, son datos MT4 que se pueden ver, por ejemplo, en el back-test.\n",
    "\n",
    "- $R_{f}$. Tasa libre de riesgo. En teoría, este es el ingreso garantizado que un inversor puede obtener, es decir, con cero riesgo. En la práctica, cualquier inversión es en cierta medida un riesgo. Debido a que al evaluar el portafolio de inversiones, sus ingresos se comparan con los bonos del tesoro de los Estados Unidos, considerados uno de los instrumentos más confiables del mundo. Para los activos de divisas, puede tomar una tasa de cuenta o una tasa base del depósito. Lo principal es que cada estrategia de inversión tome datos comparativamente idénticos. Por ejemplo, si se evalúa la efectividad de la inversión en acciones de las compañías alemanas, para comparar con los depósitos o las inversiones en euros, es necesario tomar datos similares de Alemania, en lugar de, por ejemplo, Estados Unidos.\n",
    "\n",
    "\n",
    "- $\\sigma_{p}$. Volatilidad del portfolio\n",
    "\n",
    "\n",
    "__Interpretación.__\n",
    "\n",
    "- Restar la tasa libre de riesgo a la rentabilidad media permite al inversor aislar mejor los beneficios asociados a las actividades de riesgo. La tasa de rendimiento libre de riesgo es el rendimiento de una inversión con cero riesgos, lo que significa que es el rendimiento que los inversores podrían esperar si no asumieran ningún riesgo.  En general, cuanto mayor sea el valor del SR, más atractiva será la rentabilidad ajustada al riesgo.\n",
    "\n",
    "\n",
    "- Es uno de los métodos más utilizados para calcular la rentabilidad ajustada al riesgo. La Teoría Moderna de la Cartera (MPT) afirma que añadir activos a una cartera diversificada que tenga bajas correlaciones puede disminuir el riesgo de la cartera sin sacrificar la rentabilidad. Añadir diversificación debería aumentar el SR en comparación con carteras similares con un nivel de diversificación menor. Para que esto sea cierto, los inversores deben aceptar también el supuesto de que el riesgo es igual a la volatilidad, lo cual no es descabellado, pero puede ser demasiado estrecho para aplicarlo a todas las inversiones.\n",
    "\n",
    "\n",
    "- El SR puede utilizarse para evaluar el rendimiento pasado de una cartera (ex-post), donde los rendimientos reales se utilizan en la fórmula. Alternativamente, un inversor puede utilizar el rendimiento esperado de la cartera y el tipo de interés libre de riesgo esperado para calcular un SR estimado (ex-ante).\n",
    "\n",
    "\n",
    "- El SR también puede ayudar a explicar si el exceso de rentabilidad de una cartera se debe a decisiones de inversión inteligentes o a un exceso de riesgo. Aunque una cartera o un fondo puede disfrutar de una rentabilidad superior a la de sus homólogos, sólo es una buena inversión si esa mayor rentabilidad no va acompañada de un exceso de riesgo adicional.\n",
    "\n",
    "\n",
    "- Cuanto mayor sea el SR de una cartera, mejor será su rendimiento ajustado al riesgo. Si el análisis da como resultado un SR negativo, significa que el tipo libre de riesgo es mayor que la rentabilidad de la cartera, o que se espera que la rentabilidad de la cartera sea negativa. En cualquier caso, un SR negativo no transmite ningún significado útil.\n",
    "\n",
    "\n",
    "El valor del SR indica:\n",
    "\n",
    "- De 1 y superior es el valor óptimo para una estrategia eficaz o rendimiento efectivo de la gestión del portafolio de inversiones. Cuanto mayor sea el coeficiente, mejor.\n",
    "\n",
    "- De 0 a 1 es la estrategia que está lejos de ser óptima, hay riesgos inflados, pero su uso es posible.\n",
    "\n",
    "\n",
    "- Menos de 0 no se recomienda el uso de la estrategia, la gestión del portafolio de inversiones es ineficaz."
   ]
  },
  {
   "cell_type": "markdown",
   "id": "52288a58",
   "metadata": {},
   "source": [
    "## Referencias\n",
    "\n",
    "- [1] Risk-Adjusted Return in Forex [url: https://www.earnforex.com/guides/risk-adjusted-return/]"
   ]
  },
  {
   "cell_type": "code",
   "execution_count": null,
   "id": "9a67a504",
   "metadata": {},
   "outputs": [],
   "source": []
  }
 ],
 "metadata": {
  "kernelspec": {
   "display_name": "Python 3.8.5 64-bit ('AITGG': conda)",
   "language": "python",
   "name": "python385jvsc74a57bd04592e64615f769e19d02d67efecdf24dbbde8900a22a54873431e68806567084"
  },
  "language_info": {
   "codemirror_mode": {
    "name": "ipython",
    "version": 3
   },
   "file_extension": ".py",
   "mimetype": "text/x-python",
   "name": "python",
   "nbconvert_exporter": "python",
   "pygments_lexer": "ipython3",
   "version": "3.8.5"
  },
  "nbTranslate": {
   "displayLangs": [
    "*"
   ],
   "hotkey": "alt-t",
   "langInMainMenu": true,
   "sourceLang": "en",
   "targetLang": "fr",
   "useGoogleTranslate": true
  },
  "toc": {
   "base_numbering": 1,
   "nav_menu": {},
   "number_sections": true,
   "sideBar": true,
   "skip_h1_title": true,
   "title_cell": "Table of Contents",
   "title_sidebar": "Contents",
   "toc_cell": true,
   "toc_position": {},
   "toc_section_display": true,
   "toc_window_display": false
  },
  "varInspector": {
   "cols": {
    "lenName": 16,
    "lenType": 16,
    "lenVar": 40
   },
   "kernels_config": {
    "python": {
     "delete_cmd_postfix": "",
     "delete_cmd_prefix": "del ",
     "library": "var_list.py",
     "varRefreshCmd": "print(var_dic_list())"
    },
    "r": {
     "delete_cmd_postfix": ") ",
     "delete_cmd_prefix": "rm(",
     "library": "var_list.r",
     "varRefreshCmd": "cat(var_dic_list()) "
    }
   },
   "types_to_exclude": [
    "module",
    "function",
    "builtin_function_or_method",
    "instance",
    "_Feature"
   ],
   "window_display": false
  }
 },
 "nbformat": 4,
 "nbformat_minor": 5
}
