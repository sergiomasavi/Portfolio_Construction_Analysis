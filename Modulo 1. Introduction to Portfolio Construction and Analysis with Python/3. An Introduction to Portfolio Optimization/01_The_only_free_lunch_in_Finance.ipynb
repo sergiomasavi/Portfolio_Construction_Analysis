{
 "cells": [
  {
   "cell_type": "markdown",
   "id": "22c187e2",
   "metadata": {
    "toc": true
   },
   "source": [
    "<h1>Table of Contents<span class=\"tocSkip\"></span></h1>\n",
    "<div class=\"toc\"><ul class=\"toc-item\"><li><span><a href=\"#Teoría\" data-toc-modified-id=\"Teoría-1\"><span class=\"toc-item-num\">1&nbsp;&nbsp;</span>Teoría</a></span></li><li><span><a href=\"#Test\" data-toc-modified-id=\"Test-2\"><span class=\"toc-item-num\">2&nbsp;&nbsp;</span>Test</a></span></li></ul></div>"
   ]
  },
  {
   "cell_type": "markdown",
   "id": "4ad08b15",
   "metadata": {},
   "source": [
    "## Teoría\n",
    "\n",
    "En esta ocasión, se va a estudiar el núcleo de toda la construcción de un portfolio. Para ello, a modo de ilustración se supone disponer de dos activos, A y B, para visualizarlo en el espacio riesgo/retorno, también conocido como marco de varianza media. Básicamente, se representa la varianza media en el eje x (varianza, desviación estandar, etc), es decir, el nivel de riesgo y el valor de retorno en el eje y. \n",
    "\n",
    "<img src=\"images/asset_combination.png\" width=\"400\" height=\"200\">\n",
    "\n",
    "El valor de los retornos y el nivel de riesgo para cada uno de los activos es:\n",
    "- Activo A. Return = 4%; Risk = 10%\n",
    "- Activo B. Return = 6%. Risk = 14%\n",
    "\n",
    "En este caso, ¿qué sucede cuando se construye una cartera que consiste en A y B?, es decir, ¿cuál es el comportamiento que se obtiene al combinar A y B en la construcción de la cartera? \n",
    "\n",
    "- Si la cartera consiste al 100% en A, entonces se comportará como A, lo que significa que se obtendrá un rendimiento del 4% con un 10% de volatilidad. \n",
    "\n",
    "\n",
    "- Si la cartera consiste al 100% en B, entonces se comportará como B, lo que significa que se obtendrá un rendimiento del 6% con un 14% de volatilidad. \n",
    "\n",
    "\n",
    "- Si la cartera consiste al 50% en B y al 50% en A se obtendrá el nivel de retorno medio entre ambos con un nivel de riesgo INFERIOR, es decir, la volatilidad de esta combinación de 50/50 en A y B no se puede calcular sólo con los pesos de cada uno de los activos porque depende de la correlación entre A y B. \n",
    "\n",
    "\n",
    "- Si A y B están perfectamente correlacionados, básicamente se comportan como el mismo activo, es decir, suben juntos y bajan juntos y, por lo tanto, la volatilidad responde a la combinación establecida (50/50 en el ejemplo anterior). \n",
    "\n",
    "\n",
    "- Si A y B no están correlacionados, es decir, uno sube mientras el otro baja, la combinación permitirá obtener un valor inferior de riesgo (menos volátil). En otras palabras, cuanto más decorativos estén, menor es la volatilidad de esa cartera. \n",
    "\n",
    "Por lo tanto, para obtener el retorno y nivel de riesgo combinado de la cartera con varios activos:\n",
    "\n",
    "\\begin{align}\n",
    "R(\\omega_{A}, \\omega_{B}) = \\omega_{A} x R_{A} + \\omega_{B} x R_{B}\n",
    "\\end{align}  \n",
    "\n",
    "\\begin{align}\n",
    "\\sigma^{2}(w_{A}, w_{B}) = \\sigma_{A}^{2}\\omega_{A}^{2} + \\sigma_{B}^{2}\\omega_{B}^{2} + 2\\omega_{A}\\omega_{A}\\sigma_{A}\\sigma_{B}\\rho{A,B}\n",
    "\\end{align}  \n",
    "\n",
    "dónde:\n",
    "\n",
    "- $R(\\omega_{A}, \\omega_{B})$. Retorno de la distribución.\n",
    "\n",
    "- $\\sigma^{2}(w_{A}, w_{B})$. Volatilidad de la distribución.\n",
    "\n",
    "- $w_{A}$. Peso de A.\n",
    "\n",
    "- $w_{B}$. Peso de B.\n",
    "\n",
    "- $\\sigma_{A}$. Volatilidad de A.\n",
    "\n",
    "- $\\sigma_{B}$. Volatilidad de B.\n",
    "\n",
    "- $\\rho({A,B})$. Correlación entre A y B.\n",
    "\n",
    "Por ejemplo, supongamos que la correlación entre el activo A y B es 0.4. La siguiente tabla muestra el retorno y volatilidad para distintas combinaciones de los dos activos.\n",
    "\n",
    "- $\\rho({A,B})$ = 0.4\n",
    "- $R_{A}$ = 0.4\n",
    "- $\\sigma_{A}$ = 0.1\n",
    "- $R_{B}$ = 0.6\n",
    "- $\\sigma_{B}$ = 0.14\n",
    "\n",
    "| Portfolio | W(A) | W(B) | Return | Volatility |\n",
    "| --- | --- | --- | --- | --- |\n",
    "| 1 | 0.0 | 1.0 | 6.0 | 14.00 |\n",
    "| 2 | 0.1 | 0.9 | 5.8 | 13.03 |\n",
    "| 3 | 0.2 | 0.8 | 5.6 | 12.14 |\n",
    "| 4 | 0.3 | 0.7 | 5.4 | 11.34 |\n",
    "| 5 | 0.4 | 0.6 | 5.2 | 10.65 |\n",
    "| 6 | 0.5 | 0.5 | 5.0 | 10.10 |\n",
    "| 7 | 0.6 | 0.4 | 4.8 | 9.71  |\n",
    "| 8 | 0.7 | 0.3 | 4.6 | 9.50  |\n",
    "| 9 | 0.8 | 0.2 | 4.4 | 9.47  |\n",
    "| 10 | 0.9 | 0.1 | 4.2 | 9.65 |\n",
    "| 11 | 1.0 | 0.0   | 4 | 10.00 | \n",
    "\n",
    "Como se puede observar, por ejemplo, en el caso en el cuál la combinación \n",
    "es del 50/50 entre A y B la volatilidad es 10.10%, es decir, inferior a la media de ambos o volatilidad esperada\n",
    "\n",
    "La siguiente gráfica muestra la curva de riesgo/rendimientos obtenida a partir de diferentes combinaciones del portfolio entre dos activos correlacionados con un valor del 40%. \n",
    "\n",
    "<img src=\"images/curve_asset_combination.png\" width=\"400\" height=\"200\">\n",
    "\n",
    "\n",
    "Como se observa:\n",
    "\n",
    "- El extremo inferior de la curva es la cartera que consiste en A al 100%.\n",
    "\n",
    "- El extremo superior de la curva es la cartera que consiste en B al 100%.\n",
    "\n",
    "- La cartera con una combinación entre ambos activos tiene un rendimiento medio de los rendimientos de ambos pero con una menor volatilidad promedio.\n",
    "\n",
    "- Existe una combinación de pesos que permite obtener una volatilidad menor que cualquiera de los dos activos y se conoce como nariz de la curva o mínimo de la curva (se trata de una curva convexa). La magia de la diversificación es simplemente que se pueden tomar dos activos, combinarlos en una cierta proporción y terminar con una cartera que tiene una volatilidad menor que cualquiera de ellos. \n",
    "\n",
    "\n",
    "En la siguiente gráfica, se muestran el conjunto de curvas obtenidas para diferentes valores de correlación.\n",
    "\n",
    "<img src=\"images/combination_correlation.png\" width=\"400\" height=\"200\">\n",
    "\n",
    "Como se puede observar:\n",
    "- Si los dos activos están perfectamente correlacionados, se obtiene una línea recta, es decir, si $\\rho({A,B})=1$ entre A y B entonces se obtiene una línea recta entre los dos. \n",
    "\n",
    "- Si la correlación comienza a caer se obtiene una curva gradual reduciendose la volatilidad en la combinación respecto al caso de estar perfectamente correlacionados. A medida que las correlaciones caen, la curva se vuelve más pronunciada hasta el punto en que si los dos tienen una correlación muy baja será posible construir una cartera muy optimizada y obtener un valor volatilidad menor a la volatilidad de cualquiera de los activos del portfolio.\n",
    "\n",
    "La ciencia de construcción de carteras o portfolios se encarga de explorar este tipo de características con la finalidad de si se combinan dos activos que relacionados entre si obtener una \"explosión mágica de dinero\" (the only free lunch). "
   ]
  },
  {
   "cell_type": "markdown",
   "id": "826380c6",
   "metadata": {},
   "source": [
    "<hr style=\"height:5px;border-width:0;color:orange;background-color:orange\">\n"
   ]
  },
  {
   "cell_type": "markdown",
   "id": "b21d7277",
   "metadata": {},
   "source": [
    "## Test"
   ]
  },
  {
   "cell_type": "markdown",
   "id": "1567ef45",
   "metadata": {},
   "source": [
    "__Pregunta 1. Si A y B están perfectamente correlacionados, entonces la volatilidad de una cartera que está 50% en A y 50% en B es la media de las volatilidades de A y B.__\n",
    "\n",
    "Verdadero. Los si los rendimientos de las carteras están perfectamente correlacionadas están sincronizados entre sí y la volatilidad de la cartera es la media de las volatilidades de A y B\n",
    "\n",
    "__Pregunta 2. La volatilidad de una cartera de dos activos que tienen ponderaciones distintas de cero y un coeficiente de correlación de 0,9 es siempre estrictamente inferior a la volatilidad media ponderada de los dos activos.__\n",
    "\n",
    "Verdadero. Mientras las dos ponderaciones sean distintas de cero y la correlación entre los dos activos sea inferior a 1, la volatilidad de la cartera será siempre inferior a las volatilidades medias ponderadas de los dos activos.\n",
    "\n",
    "__Pregunta 3. Un analista le dice que la cartera de mínima volatilidad que puede construir con dos activos de riesgo X e Y es poner el 100% de su capital en X. ¿Qué le está diciendo el analista?__\n",
    "\n",
    "Si X e Y están perfectamente correlacionados, la cartera de valor mínimo se obtiene poniendo el 100% de su capital en la cartera con la menor de las dos volatilidades\n",
    "\n",
    "__Pregunta 4. La menor volatilidad posible que se puede construir con una cartera de dos activos A y B.__\n",
    "\n",
    "- (A) AUMENTA a medida que aumenta la correlación entre A y B  \n",
    "- (B) DISMINUYE al aumentar la correlación entre A y B   \n",
    "- (C) AUMENTA al aumentar la volatilidad del mercado    \n",
    "- (D) DISMINUYE al aumentar el tipo libre de riesgo \n",
    "\n",
    "Solución: (A) a medida que aumenta la correlación, aumenta la volatilidad de la cartera de mínima volatilidad posible "
   ]
  },
  {
   "cell_type": "markdown",
   "id": "78f8e055",
   "metadata": {},
   "source": [
    "<hr style=\"height:5px;border-width:0;color:orange;background-color:orange\">\n"
   ]
  }
 ],
 "metadata": {
  "kernelspec": {
   "display_name": "Python 3.8.5 64-bit ('AITGG': conda)",
   "language": "python",
   "name": "python385jvsc74a57bd04592e64615f769e19d02d67efecdf24dbbde8900a22a54873431e68806567084"
  },
  "language_info": {
   "codemirror_mode": {
    "name": "ipython",
    "version": 3
   },
   "file_extension": ".py",
   "mimetype": "text/x-python",
   "name": "python",
   "nbconvert_exporter": "python",
   "pygments_lexer": "ipython3",
   "version": "3.8.5"
  },
  "nbTranslate": {
   "displayLangs": [
    "*"
   ],
   "hotkey": "alt-t",
   "langInMainMenu": true,
   "sourceLang": "en",
   "targetLang": "fr",
   "useGoogleTranslate": true
  },
  "toc": {
   "base_numbering": 1,
   "nav_menu": {},
   "number_sections": true,
   "sideBar": true,
   "skip_h1_title": true,
   "title_cell": "Table of Contents",
   "title_sidebar": "Contents",
   "toc_cell": true,
   "toc_position": {},
   "toc_section_display": true,
   "toc_window_display": false
  },
  "varInspector": {
   "cols": {
    "lenName": 16,
    "lenType": 16,
    "lenVar": 40
   },
   "kernels_config": {
    "python": {
     "delete_cmd_postfix": "",
     "delete_cmd_prefix": "del ",
     "library": "var_list.py",
     "varRefreshCmd": "print(var_dic_list())"
    },
    "r": {
     "delete_cmd_postfix": ") ",
     "delete_cmd_prefix": "rm(",
     "library": "var_list.r",
     "varRefreshCmd": "cat(var_dic_list()) "
    }
   },
   "types_to_exclude": [
    "module",
    "function",
    "builtin_function_or_method",
    "instance",
    "_Feature"
   ],
   "window_display": false
  }
 },
 "nbformat": 4,
 "nbformat_minor": 5
}
