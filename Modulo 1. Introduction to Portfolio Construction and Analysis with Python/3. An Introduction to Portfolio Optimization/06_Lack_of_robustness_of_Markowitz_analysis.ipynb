{
 "cells": [
  {
   "cell_type": "markdown",
   "id": "e94795b0",
   "metadata": {
    "toc": true
   },
   "source": [
    "<h1>Table of Contents<span class=\"tocSkip\"></span></h1>\n",
    "<div class=\"toc\"><ul class=\"toc-item\"><li><span><a href=\"#Teoría\" data-toc-modified-id=\"Teoría-1\"><span class=\"toc-item-num\">1&nbsp;&nbsp;</span>Teoría</a></span><ul class=\"toc-item\"><li><span><a href=\"#Robustez-de-Markowitz\" data-toc-modified-id=\"Robustez-de-Markowitz-1.1\"><span class=\"toc-item-num\">1.1&nbsp;&nbsp;</span>Robustez de Markowitz</a></span></li><li><span><a href=\"#Global-Minimum-Variance-Portfolio-(GMV)\" data-toc-modified-id=\"Global-Minimum-Variance-Portfolio-(GMV)-1.2\"><span class=\"toc-item-num\">1.2&nbsp;&nbsp;</span>Global Minimum Variance Portfolio (GMV)</a></span></li><li><span><a href=\"#Conclusión\" data-toc-modified-id=\"Conclusión-1.3\"><span class=\"toc-item-num\">1.3&nbsp;&nbsp;</span>Conclusión</a></span></li></ul></li><li><span><a href=\"#Test\" data-toc-modified-id=\"Test-2\"><span class=\"toc-item-num\">2&nbsp;&nbsp;</span>Test</a></span></li></ul></div>"
   ]
  },
  {
   "cell_type": "markdown",
   "id": "ececaa3e",
   "metadata": {},
   "source": [
    "## Teoría"
   ]
  },
  {
   "cell_type": "markdown",
   "id": "eb5a7dbd",
   "metadata": {},
   "source": [
    "\n",
    "### Robustez de Markowitz \n",
    "\n",
    "El método de análisis de Markowitz presenta probelmas de baja robustez respecto a los errores en las estimaciones de parámetros y, por lo tanto, el error de estimación es el reto clave en la optimización de la cartera. Por lo tanto, si se alimenta a un optimizador con parámetros que están muy mal estimados, es decir, con muchos errores de estimación incrustados en ellos, se obtendrá una cartera no muy significativa. Concretamente, se obtendrán carteras extremas con una asignación muy fuerte en algunos activos, y una debil en otros activos (Garbage In, Garbage Out Rule). Debido a esto, la cartera no se verá razonable porque el parámetro estimado puede estar sujeto a errores de estimación. Debido a la naturaleza de los optimizadores el activo que obtiene la mayor asignación es aquel con la mayor cantidad del riesgo de estimación, es decir, se asignará mayor peso a aquellos activos que, aparentemente, tienen un rendimiento esperado muy alto o una volatilidad muy baja y se asignan masivamente a ese activo, pero estas estimaciones de alto rendimiento esperado o baja volatilidad fueron solo producto del error en la estimación. \n",
    "\n",
    "Por todo lo comentado hasta el momento, este problema tiene una mayor presencia cuando se trabaja con la estimación de retorno esperado porque son mucho más difíciles de obtener con un buen grado de precisión respecto a las estimaciones de matriz de covarianza. Esto sucede porque las estimaciones del retorno esperado muestrales son muy ruidosas, es decir, no son confiables. \n",
    "\n",
    "### Global Minimum Variance Portfolio (GMV)\n",
    "\n",
    "Dado que los retornos esperados son muy ruidosos y poco confiables, para implementar el análisis de Markowitz, generalmente, se calcula la __cartera global de mínima varianza $(GMV)$__. Esta cartera es la única en la frontera eficiente para la que no es necesario ningún parámetro de retorno esperado.\n",
    "\n",
    "<img src=\"images/gmv.png\" width=\"400\" height=\"200\">\n",
    "\n",
    "\n",
    "Esta cartera se ha vuelto muy popular en la gestión de inversiones debido al hecho de que, una vez más, se trata de minimizar la varianza sin ningún valor objetivo de retorno esperado y, de esta forma, no existe ninguna dependencia de las estimaciones de rendimiento esperadas, que de nuevo, son muy ruidosas. \n",
    "\n",
    "\n",
    "### Conclusión\n",
    "\n",
    "\n",
    "Las conclusiones obtenidas son:\n",
    "\n",
    "- Markowitz Analysis es extremadamente atractivo en principio, porque permite construir carteras eficientes. \n",
    "\n",
    "\n",
    "- En la práctica, su aplicabilidad está limitada por la presencia de errores en las estimaciones de parámetros. En este contexto, es necesario aplicar otras metodologías de construcción de carteras que no dependan las estimaciones de parámetros. En particular, se tratará de evitar depender de las estimaciones de rentabilidad esperadas.\n",
    "\n",
    "\n",
    "- La catera global de mínima varianza es la única cartera en la frontera eficiente para la que no se necesitan estimaciones de retorno esperadas."
   ]
  },
  {
   "cell_type": "markdown",
   "id": "56927f39",
   "metadata": {},
   "source": [
    "## Test"
   ]
  },
  {
   "cell_type": "markdown",
   "id": "c113a017",
   "metadata": {
    "run_control": {
     "marked": true
    }
   },
   "source": [
    "__Pregunta 1. ¿Qué cartera de la frontera eficiente es la menos sensible a los errores de estimación?__\n",
    "\n",
    "- __(A) ¿La cartera de máxima relación de Sharpe?__\n",
    "\n",
    "\n",
    "- __(B) ¿La cartera de mínima varianza global?__\n",
    "\n",
    "\n",
    "Solución. B. El GMV es la cartera menos sensible a los errores en las estimaciones de los parámetros. Como no requiere estimaciones de rentabilidad esperada, sólo es sensible a los errores en las estimaciones de los parámetros de riesgo."
   ]
  },
  {
   "cell_type": "markdown",
   "id": "562c836d",
   "metadata": {},
   "source": [
    "__Pregunta 2. Considere el universo S&P500. ¿Qué cartera es más probable que tenga el mayor Sharpe Ratio?__\n",
    "\n",
    "- __(A) La cartera MSR estimada a partir de las estimaciones muestrales de los parámetros de covarianza y rentabilidad esperada.__\n",
    "\n",
    "\n",
    "- __(B) La cartera igualmente ponderada__\n",
    "\n",
    "\n",
    "Solución. B. La cartera MSR basada en las estimaciones de la muestra está muy sujeta a errores de estimación, y lo más probable es que tenga un pobre ratio de Sharpe fuera de la muestra. La EW no está sujeta a ningún error de estimación y, en consecuencia, es probable obtener un rendimiento ajustado al riesgo más alto en comparación con la cartera MSR basada en las estimaciones de la muestra.  "
   ]
  }
 ],
 "metadata": {
  "kernelspec": {
   "display_name": "Python 3.8.5 64-bit ('AITGG': conda)",
   "language": "python",
   "name": "python385jvsc74a57bd04592e64615f769e19d02d67efecdf24dbbde8900a22a54873431e68806567084"
  },
  "language_info": {
   "codemirror_mode": {
    "name": "ipython",
    "version": 3
   },
   "file_extension": ".py",
   "mimetype": "text/x-python",
   "name": "python",
   "nbconvert_exporter": "python",
   "pygments_lexer": "ipython3",
   "version": "3.8.5"
  },
  "nbTranslate": {
   "displayLangs": [
    "*"
   ],
   "hotkey": "alt-t",
   "langInMainMenu": true,
   "sourceLang": "en",
   "targetLang": "fr",
   "useGoogleTranslate": true
  },
  "toc": {
   "base_numbering": 1,
   "nav_menu": {},
   "number_sections": true,
   "sideBar": true,
   "skip_h1_title": true,
   "title_cell": "Table of Contents",
   "title_sidebar": "Contents",
   "toc_cell": true,
   "toc_position": {},
   "toc_section_display": true,
   "toc_window_display": false
  },
  "varInspector": {
   "cols": {
    "lenName": 16,
    "lenType": 16,
    "lenVar": 40
   },
   "kernels_config": {
    "python": {
     "delete_cmd_postfix": "",
     "delete_cmd_prefix": "del ",
     "library": "var_list.py",
     "varRefreshCmd": "print(var_dic_list())"
    },
    "r": {
     "delete_cmd_postfix": ") ",
     "delete_cmd_prefix": "rm(",
     "library": "var_list.r",
     "varRefreshCmd": "cat(var_dic_list()) "
    }
   },
   "types_to_exclude": [
    "module",
    "function",
    "builtin_function_or_method",
    "instance",
    "_Feature"
   ],
   "window_display": false
  }
 },
 "nbformat": 4,
 "nbformat_minor": 5
}
