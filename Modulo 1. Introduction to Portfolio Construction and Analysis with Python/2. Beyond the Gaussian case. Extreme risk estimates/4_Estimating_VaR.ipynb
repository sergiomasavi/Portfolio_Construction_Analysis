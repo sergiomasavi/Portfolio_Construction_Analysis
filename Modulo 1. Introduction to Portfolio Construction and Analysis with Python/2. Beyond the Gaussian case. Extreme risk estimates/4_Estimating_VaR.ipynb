{
 "cells": [
  {
   "cell_type": "markdown",
   "id": "bf289e97",
   "metadata": {
    "toc": true
   },
   "source": [
    "<h1>Table of Contents<span class=\"tocSkip\"></span></h1>\n",
    "<div class=\"toc\"><ul class=\"toc-item\"><li><span><a href=\"#Teoría\" data-toc-modified-id=\"Teoría-1\"><span class=\"toc-item-num\">1&nbsp;&nbsp;</span>Teoría</a></span><ul class=\"toc-item\"><li><span><a href=\"#Método-1.--Metodología-histórica.\" data-toc-modified-id=\"Método-1.--Metodología-histórica.-1.1\"><span class=\"toc-item-num\">1.1&nbsp;&nbsp;</span>Método 1.  Metodología histórica.</a></span></li><li><span><a href=\"#Método-2.-Estimación-paramétrica-gaussiana-para-el-valor-en-riesgo.\" data-toc-modified-id=\"Método-2.-Estimación-paramétrica-gaussiana-para-el-valor-en-riesgo.-1.2\"><span class=\"toc-item-num\">1.2&nbsp;&nbsp;</span>Método 2. Estimación paramétrica gaussiana para el valor en riesgo.</a></span></li><li><span><a href=\"#Método-3.-Estimación-paramétrica-no-gaussiana.\" data-toc-modified-id=\"Método-3.-Estimación-paramétrica-no-gaussiana.-1.3\"><span class=\"toc-item-num\">1.3&nbsp;&nbsp;</span>Método 3. Estimación paramétrica no gaussiana.</a></span></li><li><span><a href=\"#Método-4.-Cornish-Fisher-(semi-paramétrico).\" data-toc-modified-id=\"Método-4.-Cornish-Fisher-(semi-paramétrico).-1.4\"><span class=\"toc-item-num\">1.4&nbsp;&nbsp;</span>Método 4. Cornish-Fisher (semi-paramétrico).</a></span></li><li><span><a href=\"#Conclusiones\" data-toc-modified-id=\"Conclusiones-1.5\"><span class=\"toc-item-num\">1.5&nbsp;&nbsp;</span>Conclusiones</a></span></li></ul></li><li><span><a href=\"#Tipo-Test\" data-toc-modified-id=\"Tipo-Test-2\"><span class=\"toc-item-num\">2&nbsp;&nbsp;</span>Tipo Test</a></span></li></ul></div>"
   ]
  },
  {
   "cell_type": "markdown",
   "id": "c23704ab",
   "metadata": {},
   "source": [
    "## Teoría\n",
    "\n",
    "Existen al menos cuatro tipos de metodologías estandar que pueden utilizarse para calcular el valor en riesgo (VaR). \n",
    "\n",
    "- Método 1. Volatilidad histórica (no paramétrica). \n",
    "- Método 2. Estimación paramétrica gaussiana para el valor en riesgo (Variance-Covariance). \n",
    "- Método 3. Estimación paramétrica no gaussiana.\n",
    "- Método 4. Cornish-Fisher (semi-paramétrico). \n",
    "\n",
    "\n",
    "\n",
    "Ninguno de los métodos es absolutamente mejor que el resto. Todos tienen sus ventajas y sus desventajas.\n",
    "\n",
    "### Método 1.  Metodología histórica. \n",
    "\n",
    "Trata de calcular el VaR basado en la distribución de los cambios históricos durante una ventana de observación histórica especificada, es decir, se tom una muestra de retornos y si, por ejemplo, se analiza el valor 99% del riesgo se excluye el 1% de los peores resultados para tomar el peor resultado restante.\n",
    "\n",
    "Ventajas:\n",
    "- Sencillo de calcular.\n",
    "- No existen suposiciones sobre la distribución de los retornos de los activos.\n",
    "\n",
    "Desventajas:\n",
    "- La estimación es bastante sensible al período de la muestra. Dado que no se está utilizando ninguna suposición solo se está confiando en los datos históricos y si se modifica el período de la muestra, es bastante probable encontrar estimaciones muy diferentes para el valor de riesgo.  \n",
    "\n",
    "### Método 2. Estimación paramétrica gaussiana para el valor en riesgo.\n",
    "\n",
    "Trata de calcular del VaR basado en la volatilidad de la cartera, es decir, en las volatilidades y correlaciones de los componentes. \n",
    "\n",
    "Los enfoques paramétricos son aquellos que asumen una suposición sobre la distribución analizada. Se aplica dicha suposición específica sobre la distribución y luego, el enfoque se centrará en estimar los parámetros de esa distribución. \n",
    "\n",
    "El ejemplo más simple de una suposición paramétrica es asumir una distribución gaussiana ya que solo es necesario estimar la media y la volatilidad de la distribución para obtener el valor en riesgo. El procedimiento es calcular el cuantil alpha denominado $Z_{\\alpha}$ de la distribución normal estándar que corresponde con el valor en riesgo VaR.\n",
    "\n",
    "Por definición el valor de $\\alpha$ es es la probabilidad de obtener un resultado por debajo de $Z_{\\alpha}$\n",
    "\n",
    "\n",
    "\n",
    "__Ejemplo.__\n",
    "\n",
    "Siendo $Z_{\\alpha} = - 1.65 al 5%$ (realmente 4.95%) se tiene que:\n",
    "\n",
    "<img src=\"images/gaussianVaR.png\" width=\"400\" height=\"400\">\n",
    "\n",
    "\n",
    "__Formulación.__\n",
    "\n",
    "La ecuación matemática que permite relacionar el valor de \n",
    "\\begin{align}\n",
    "\\alpha = \\int_{-∞}^{Z_{∞}}{\\frac{1}{\\sigma\\sqrt{2π}}exp(\\frac{-x^{2}}{2\\sigma^{2}})dx} = Pr(\\frac{(R_{p}-\\mu_{p})}{\\sigma_{p}}≤z_{\\alpha}) = Pr(R≤\\mu_{p}+z_{p}\\sigma_{p})\n",
    "\\end{align}\n",
    "\n",
    "El valor en riesgo; VaR estimado para el nivel de confianza $\\alpha$ viene dado por la ecuación:\n",
    "\\begin{align}\n",
    "VaR_{\\alpha} = -(\\mu+z_{\\alpha}\\sigma)\n",
    "\\end{align}\n",
    "\n",
    "donde Mu y Sigma son solo una estimación de la media y varianza o media y volatilidad de la distribución de retorno. \n",
    "\n",
    "Desventajas:\n",
    "- Al asumir una distribución gaussiana se subestima el riesgo porque se asume una distribución la cuál no es una buena suposición para los retorno de activos dado que dichos retornos tienen colas mucho más gruesas. \n",
    "\n",
    "Por ejemplo, en la siguiente figura se está analizando cuánto estaría subestimando el VaR utilizando una suposición gaussiana en comparación con el uso de la distribución histórica para el activo S&P 500.\n",
    "\n",
    "<img src=\"images/method2.png\" width=\"400\" height=\"400\">\n",
    "\n",
    "Lo que encontramos es que en el nivel del 5% se subestima al menos en un 41%. En el nivel del 99.9% se subestima el VaR en un 64%. \n",
    "\n",
    "Por lo tanto, aunque la distribución gaussiana es muy simple de calcular, el problema es que es muy probable terminar subestimando el riesgo extremo real en la cartera dado que tiene colas muy delgadas y eso no es lo muestran  la distribución de retorno real.\n",
    "\n",
    "\n",
    "### Método 3. Estimación paramétrica no gaussiana.\n",
    "\n",
    "La motivación de este método es utilizar un modelo paramétrico que no sea gaussiano.  Existen muchas distribuciones estadísticas que no son gaussianas. Para ello, se define $\\bar{F} = P(X>x)=1-F(x)$, algunas de las distribuciones más utilizadas son:\n",
    "\n",
    "- Pareto. $\\bar{F}_{\\alpha}(x) = x^{-\\alpha}$\n",
    "\n",
    "\n",
    "- Student with $\\alpha>0$ grados de libertad. $\\bar{F_{\\alpha}} ≈ \\alpha^{\\frac{(\\alpha-1)}{2}}x^{-\\alpha}$\n",
    "\n",
    "\n",
    "- Loggamma. $\\bar{F}_{\\alpha, \\beta} ≈ x^{-\\alpha}log(x)^{\\beta-1}$\n",
    "\n",
    "\n",
    "- Frechet. $\\bar{F}_{\\alpha}(x) = 1-\\exp(-x^{-\\alpha})$ \n",
    "\n",
    "\n",
    "Desventajas:\n",
    "- Cuando se utiliza una suposición paramétrica, se el riesgo de especificar un modelo (riesgo de especificación) incorrecto.\n",
    "\n",
    "### Método 4. Cornish-Fisher (semi-paramétrico).\n",
    "\n",
    "\n",
    "Un enfoque muy conveniente y utilizado que combina los métodos anteriores (2 y 3) es el valor de Cornish-Fisher en riesgo. Se trata de un enfoque semi-paramétrico que no  obliga a asumir ninguna distribución de retorno en particular ya que utiliza la expansión de Cornish-Fisher ( 1937). \n",
    "\n",
    "\n",
    "__Formulación.__\n",
    "\n",
    "La ecuación que permite calcular la expansión de Cornish-Fisher y, por lo tanto, relacionar el cuantil alpha de la distribución no gaussiana con el cuantil alpha de la distribución gaussiana es:\n",
    "\n",
    "\\begin{align}\n",
    "\\tilde{z}_{\\alpha} = z_{\\alpha} + \\frac{1}{6}(z_{\\alpha}^{2} - 1)S + \\frac{1}{24}(z_{\\alpha}^{3} - 3z_{\\alpha})(K-3) - \\frac{1}{36}(2z_{\\alpha}{3} - 5z_{\\alpha})S^{2}\n",
    "\\end{align}\n",
    "\n",
    "Siendo:\n",
    "- $\\tilde{z}_{\\alpha}$ el cuantil alfa de la distribución no gaussiana (expresado en términos de $\\alpha$.\n",
    "- $z_{\\alpha}$ el cuantil alfa de la distribución gaussiana\n",
    "- $S$ la asimetría de la distribución.\n",
    "- $K$ la kurtosis de la distribución\n",
    "\n",
    "Por lo tanto, si la asimetría es igual a cero y la kurtosis es igual a tres, entonces $\\tilde{Z}_{\\alpha}$ es el mismo valor que el de la distribución Gaussiana y, por lo tanto, se obtiene el mismo valor en estimación de riesgo que cuando estamos usando la distribución Gaussiana. Sin embargo, en muchos casos en los que la asimetría es típicamente negativa y la curtosis es superior a tres, este ajuste, permitirá obtener un valor de estimación de riesgo que será diferente y típicamente superior a la estimación gaussiana, en otras palabras, existe una mayor probabilidad de obtener un mal resultado negativo.\n",
    "\n",
    "El valor en riesgo viene dado por:\n",
    "\n",
    "\\begin{align}\n",
    "VaR_{mod}(1-\\alpha) = -(\\mu) + \\tilde{z}_{\\alpha}\\sigma)\n",
    "\\end{align}\n",
    "\n",
    "\n",
    "### Conclusiones\n",
    "\n",
    "- Existen muchos métodos diferentes que se pueden utilizar para estimar el valor en riesgo y, esencialmente, es una compensación entre el riesgo de muestra y el riesgo modelo. \n",
    "\n",
    "- Si se utilizan suposiciones paramétricas, se está asumiendo menos riesgo de muestra, es decir, se introduce riesgo de modelo. \n",
    "\n",
    "- El método de Cornish-Fisher permite conseguir una buena compensación utilizando la expansión que reconoce que los rendimientos de los activos no se distribuyen normalmente y no está especificando ninguna distribución de retorno en particular. De esta forma se obtienen estimaciones de valor relativamente robustas en riesgo."
   ]
  },
  {
   "cell_type": "markdown",
   "id": "7d7cde90",
   "metadata": {},
   "source": [
    "<hr style=\"height:5px;border-width:0;color:orange;background-color:orange\">\n"
   ]
  },
  {
   "cell_type": "markdown",
   "id": "9f23442b",
   "metadata": {},
   "source": [
    "## Tipo Test\n",
    "\n",
    "__Pregunta 1. Considere una cartera con una rentabilidad mensual esperada del +,5% y una volatilidad mensual del 4%. Cuál es el VaR gaussiano mensual del 95% para la cartera?__\n",
    "\n",
    "VaR = -(0.5%-1.65x4%) = 6.1%  "
   ]
  },
  {
   "cell_type": "markdown",
   "id": "50f1b056",
   "metadata": {},
   "source": [
    "__Pregunta 2. Considere un activo con una asimetría igual a -1.2 y una kurtosis igual a 6. Teniendo en cuenta que Z5%, el valor crítico para la probabilidad del 95% es -1.65, indique cuál sería el valor crítico modificado para la probabilidad del 95% utilizando la expansión de Cornish Fisher.__\n",
    "\n",
    "El valor crítico modificado para la probabilidad del 95% es de -1.90"
   ]
  },
  {
   "cell_type": "code",
   "execution_count": 1,
   "id": "fa6dea41",
   "metadata": {
    "ExecuteTime": {
     "end_time": "2021-08-27T12:12:50.447273Z",
     "start_time": "2021-08-27T12:12:50.441075Z"
    },
    "run_control": {
     "marked": true
    }
   },
   "outputs": [
    {
     "name": "stdout",
     "output_type": "stream",
     "text": [
      "-1.9078956249999999\n"
     ]
    }
   ],
   "source": [
    "z_alpha = -1.65\n",
    "kurtosis = 6\n",
    "skewness = -1.2\n",
    "\n",
    "z_alpha_cr = z_alpha + 1/6*(z_alpha**2 -1)*skewness + 1/24*(z_alpha**3 - 3*z_alpha)*(kurtosis-3) - 1/36*(2*z_alpha**3 - 5*z_alpha)*skewness**2\n",
    "print(z_alpha_cr)"
   ]
  }
 ],
 "metadata": {
  "kernelspec": {
   "display_name": "Python 3.8.5 64-bit ('AITGG': conda)",
   "language": "python",
   "name": "python385jvsc74a57bd04592e64615f769e19d02d67efecdf24dbbde8900a22a54873431e68806567084"
  },
  "language_info": {
   "codemirror_mode": {
    "name": "ipython",
    "version": 3
   },
   "file_extension": ".py",
   "mimetype": "text/x-python",
   "name": "python",
   "nbconvert_exporter": "python",
   "pygments_lexer": "ipython3",
   "version": "3.8.5"
  },
  "nbTranslate": {
   "displayLangs": [
    "*"
   ],
   "hotkey": "alt-t",
   "langInMainMenu": true,
   "sourceLang": "en",
   "targetLang": "fr",
   "useGoogleTranslate": true
  },
  "toc": {
   "base_numbering": 1,
   "nav_menu": {},
   "number_sections": true,
   "sideBar": true,
   "skip_h1_title": true,
   "title_cell": "Table of Contents",
   "title_sidebar": "Contents",
   "toc_cell": true,
   "toc_position": {},
   "toc_section_display": true,
   "toc_window_display": true
  },
  "varInspector": {
   "cols": {
    "lenName": 16,
    "lenType": 16,
    "lenVar": 40
   },
   "kernels_config": {
    "python": {
     "delete_cmd_postfix": "",
     "delete_cmd_prefix": "del ",
     "library": "var_list.py",
     "varRefreshCmd": "print(var_dic_list())"
    },
    "r": {
     "delete_cmd_postfix": ") ",
     "delete_cmd_prefix": "rm(",
     "library": "var_list.r",
     "varRefreshCmd": "cat(var_dic_list()) "
    }
   },
   "types_to_exclude": [
    "module",
    "function",
    "builtin_function_or_method",
    "instance",
    "_Feature"
   ],
   "window_display": false
  }
 },
 "nbformat": 4,
 "nbformat_minor": 5
}
