{
 "cells": [
  {
   "cell_type": "markdown",
   "id": "bf289e97",
   "metadata": {
    "toc": true
   },
   "source": [
    "<h1>Table of Contents<span class=\"tocSkip\"></span></h1>\n",
    "<div class=\"toc\"><ul class=\"toc-item\"><li><span><a href=\"#Teoría\" data-toc-modified-id=\"Teoría-1\"><span class=\"toc-item-num\">1&nbsp;&nbsp;</span>Teoría</a></span><ul class=\"toc-item\"><li><span><a href=\"#Metodología-histórica.\" data-toc-modified-id=\"Metodología-histórica.-1.1\"><span class=\"toc-item-num\">1.1&nbsp;&nbsp;</span>Metodología histórica.</a></span></li><li><span><a href=\"#Estimación-paramétrica-gaussiana-para-el-valor-en-riesgo.\" data-toc-modified-id=\"Estimación-paramétrica-gaussiana-para-el-valor-en-riesgo.-1.2\"><span class=\"toc-item-num\">1.2&nbsp;&nbsp;</span>Estimación paramétrica gaussiana para el valor en riesgo.</a></span></li></ul></li><li><span><a href=\"#Tipo-Test\" data-toc-modified-id=\"Tipo-Test-2\"><span class=\"toc-item-num\">2&nbsp;&nbsp;</span>Tipo Test</a></span></li><li><span><a href=\"#Práctica\" data-toc-modified-id=\"Práctica-3\"><span class=\"toc-item-num\">3&nbsp;&nbsp;</span>Práctica</a></span></li></ul></div>"
   ]
  },
  {
   "cell_type": "markdown",
   "id": "c23704ab",
   "metadata": {},
   "source": [
    "## Teoría\n",
    "\n",
    "Existen al menos cuatro tipos de metodologías estandar que pueden utilizarse para calcular el valor en riesgo (VaR). \n",
    "\n",
    "- Método 1. Volatilidad histórica (no paramétrica). \n",
    "- Método 2. Estimación paramétrica gaussiana para el valor en riesgo (Variance-Covariance). \n",
    "- Método 3. Estimación paramétrica no gaussiana.\n",
    "- Método 4. Cornish-Fisher (semi-paramétrico). \n",
    "\n",
    "\n",
    "\n",
    "Ninguno de los métodos es absolutamente mejor que el resto. Todos tienen sus ventajas y sus desventajas.\n",
    "\n",
    "### Metodología histórica. \n",
    "\n",
    "Se trata en tomar una muestra de retornos y si, por ejemplo, se analiza el valor 99% del riesgo se excluye el 1% de los peores resultados para tomar el peor resultado restante.\n",
    "\n",
    "Ventajas:\n",
    "- Sencillo de calcular.\n",
    "- No existen suposiciones sobre la distribución de los retornos de los activos.\n",
    "\n",
    "Desventajas:\n",
    "- La estimación es bastante sensible al período de la muestra. Dado que no se está utilizando ninguna suposición solo se está confiando en los datos históricos y si se modifica el período de la muestra, es bastante probable encontrar estimaciones muy diferentes para el valor de riesgo.  \n",
    "\n",
    "### Estimación paramétrica gaussiana para el valor en riesgo.\n",
    "\n",
    "Los enfoques paramétricos son aquellos que asumen una suposición sobre la distribución analizada. Se aplica dicha suposición específica sobre la distribución y luego, el enfoque se centrará en estimar los parámetros de esa distribución. \n",
    "\n",
    "El ejemplo más simple de una suposición paramétrica es asumir una distribución gaussiana ya que solo es necesario estimar la media y la volatilidad de la distribución para obtener el valor en riesgo. El procedimiento es calcular el cuantil alpha de la distribución normal estándar que corresponde con el valor en riesgo VaR.\n",
    "\n",
    "__Formulación.__\n",
    "\n",
    "Hay una ecuación matemática aquí que te permite relacionar Z de Alfa que es nuestra notación para el cuantil Alfa del cuantil Alfa unilateral de la distribución de retorno. Así que, por definición, esa es la probabilidad de que obtenga un resultado que está por debajo, lo siento Z de Alfa es el resultado que es tal que sólo hay un porcentaje de probabilidad de llegar por debajo de esa cantidad. Lo que hacemos es pensar en términos de la distribución normalizada de los retornos. Entonces, en otras palabras, restamos la media y dividimos por desviación estándar. Así que si los rendimientos de activos se distribuyen normalmente, entonces obtenemos la distribución normal estándar para la que sabemos, por ejemplo, que hay solo cinco por ciento de posibilidades de que vayan por debajo de menos 1,65, por ejemplo, en términos de valor para ese gaussiano estandarizado distribución. Al final del día, haciendo las matemáticas, el valor en riesgo estimado el nivel de confianza Alfa es simplemente dado por menos Mu más Z de Alfa veces Sigma, donde Mu y Sigma son solo su estimación de la media y varianza o media y volatilidad de la distribución de retorno. Así que es muy simple y muy sencillo, pero el problema es que estás asumiendo una cantidad masiva de más riesgo simplemente porque estás asumiendo una distribución gaussiana y sabemos que la suposición Gaussiana no es una buena suposición para el retorno de activos. Sabemos que las devoluciones de activos tienen colas mucho más gordas. En este caso, hemos estado analizando cuánto estaría subestimando el valor en riesgo utilizando una suposición gaussiana en comparación con el uso de la distribución histórica para el índice S&P 500. Lo que encontramos es que en el nivel del cinco por ciento estamos subestimando el valor al menos en un 41 por ciento, lo cual es bastante sustancial. En el nivel del 99,9 por ciento, estamos subestimando el valor en riesgo en un 64 por ciento. Así que claramente Gaussian es simple, es muy parsimonioso, pero el problema es que podrías terminar subestimando tu riesgo extremo real en tu cartera. Quiero decir, para resumir una historia larga, suponiendo que una distribución gaussiana no es una buena idea si su enfoque está en la cola de la distribución porque la distribución Gaussiana tiene colas muy delgadas y eso no es lo que parece la distribución de retorno real. Así que lo que puedes hacer es llegar a un modelo paramétrico, pero relajando la suposición gaussiana. En otras palabras, puedes ser paramétrico, pero no gaussiano. Ahora, hay muchas y muchas distribuciones estadísticas que no son gaussianas con las que los estadísticos están acostumbrados a trabajar. Pensando en la distribución de Pareto, la distribución de estudiantes, Loggamma, la distribución de Frechet, y estamos viendo aquí ejemplos de la expresión analítica para la función de distribución acumulativa para estas distribuciones no gaussianas. Pero estos son solo ejemplos, hay muchas otras distribuciones no gaussianas. Ahora, el problema es que cada vez que utiliza una suposición paramétrica, corre el riesgo de especificar un modelo incorrecto llamado riesgo de especificación. Así que tal vez los datos no son gaussianos, eso es seguro, pero tal vez los datos no están distribuidos por estudiantes si esa es la suposición que estás haciendo. Por lo tanto, asumiendo una distribución de estudiantes, usted sigue haciendo el riesgo del modelo o introduciendo el riesgo del modelo en su estimación. En realidad, hay un enfoque muy conveniente y mejor de ambos mundos que se conoce como el valor de Cornish-Fisher en riesgo. El valor de Cornish-Fisher en riesgo es algún tipo de enfoque semi-paramétrico que no le obliga a asumir ninguna distribución de retorno en particular. Así que lo que estás haciendo es, estás usando esta expansión de Cornish-Fisher que es algo que se ha encontrado que estos dos estadísticos, Cornish y Fisher hace mucho tiempo. Así que estamos hablando de 1937. Así que estamos hablando de algo que hemos conocido desde hace tiempo y que la expansión es bastante útil porque te permite relacionar el cuantil alfa de la distribución no gaussiana con el cuantil alfa de la distribución gaussiana. Así que estamos viendo la tilde Z de Alfa, que es el cuantil alfa del no gaussiano y lo expresamos en términos de Z de Alfa, que es el cuantil alfa de la distribución gaussiana. Esencialmente, lo que estamos diciendo es que Z tilde Alfa es igual a la Z Alfa más un poco de cohesión y esta cohesión en realidad, implica la asimetría y el exceso de kurtosis de la distribución. Ahora, como pueden ver claramente, si la asimetría va a cero, si la kurtosis es igual a tres, entonces volvemos a la Z de Alfa de la distribución Gaussiana y en este caso, encontramos el mismo valor en estimación de riesgo que cuando estamos usando la distribución Gaussiana. Pero en muchos casos en los que la asimetría es típicamente negativa y la curtosis es superior a tres, este ajuste, esta cohesión le dará un valor de estimación de riesgo que será diferente y en realidad típicamente superior a la estimación gaussiana. Eso te va a decir que hay una probabilidad más alta o una mayor probabilidad de obtener un mal resultado negativo. El valor de Cornish-Fisher en riesgo se ha convertido en una metodología muy utilizada para calcular, calcular estimaciones de valor en riesgo en entornos no gaussianos. Está bien. Por lo tanto, en términos de conclusión, hay claramente muchos métodos diferentes que se pueden utilizar para estimar el valor en riesgo y, esencialmente, al final del día, es una compensación entre el riesgo de muestra y el riesgo modelo. Si empiezas a usar la suposición paramétrica, estás asumiendo menos riesgo de muestra, pero estás asumiendo, estás introduciendo riesgo de modelo. Hay una buena compensación que se puede encontrar en el estimador de tipo comprometido que proviene de la expansión Cornish-Fisher donde está reconociendo que los rendimientos de activos no se distribuyen normalmente y no está especificando ninguna distribución de retorno en particular. Eso tiende a proporcionarle estimaciones de valor relativamente robustas en riesgo."
   ]
  },
  {
   "cell_type": "markdown",
   "id": "9f23442b",
   "metadata": {},
   "source": [
    "## Tipo Test\n",
    "\n",
    "__Pregunta 1. Considere una cartera con una rentabilidad mensual esperada del +,5% y una volatilidad mensual del 4%. Cuál es el VaR gaussiano mensual del 95% para la cartera?__\n",
    "\n",
    "VaR = -(0.5%-1.65x4%) = 6.1%  "
   ]
  },
  {
   "cell_type": "markdown",
   "id": "50f1b056",
   "metadata": {},
   "source": [
    "__Pregunta 2. Considere un activo con una asimetría igual a -1.2 y una kurtosis igual a 6. Teniendo en cuenta que Z5%, el valor crítico para la probabilidad del 95% es -1.65, indique cuál sería el valor crítico modificado para la probabilidad del 95% utilizando la expansión de Cornish Fisher.__\n",
    "\n",
    "El valor crítico modificado para la probabilidad del 95% es de -1.90"
   ]
  },
  {
   "cell_type": "code",
   "execution_count": 12,
   "id": "fa6dea41",
   "metadata": {
    "ExecuteTime": {
     "end_time": "2021-08-24T11:50:33.955621Z",
     "start_time": "2021-08-24T11:50:33.949806Z"
    },
    "run_control": {
     "marked": true
    }
   },
   "outputs": [
    {
     "name": "stdout",
     "output_type": "stream",
     "text": [
      "-1.9078956249999999\n"
     ]
    }
   ],
   "source": [
    "z_alpha = -1.65\n",
    "kurtosis = 6\n",
    "skewness = -1.2\n",
    "\n",
    "z_alpha_cr = z_alpha + 1/6*(z_alpha**2 -1)*skewness + 1/24*(z_alpha**3 - 3*z_alpha)*(kurtosis-3) - 1/36*(2*z_alpha**3 - 5*z_alpha)*skewness**2\n",
    "print(z_alpha_cr)"
   ]
  },
  {
   "cell_type": "markdown",
   "id": "ab85d544",
   "metadata": {},
   "source": [
    "## Práctica"
   ]
  }
 ],
 "metadata": {
  "kernelspec": {
   "display_name": "Python 3.8.5 64-bit ('AITGG': conda)",
   "language": "python",
   "name": "python385jvsc74a57bd04592e64615f769e19d02d67efecdf24dbbde8900a22a54873431e68806567084"
  },
  "language_info": {
   "codemirror_mode": {
    "name": "ipython",
    "version": 3
   },
   "file_extension": ".py",
   "mimetype": "text/x-python",
   "name": "python",
   "nbconvert_exporter": "python",
   "pygments_lexer": "ipython3",
   "version": "3.8.5"
  },
  "nbTranslate": {
   "displayLangs": [
    "*"
   ],
   "hotkey": "alt-t",
   "langInMainMenu": true,
   "sourceLang": "en",
   "targetLang": "fr",
   "useGoogleTranslate": true
  },
  "toc": {
   "base_numbering": 1,
   "nav_menu": {},
   "number_sections": true,
   "sideBar": true,
   "skip_h1_title": true,
   "title_cell": "Table of Contents",
   "title_sidebar": "Contents",
   "toc_cell": true,
   "toc_position": {},
   "toc_section_display": true,
   "toc_window_display": false
  },
  "varInspector": {
   "cols": {
    "lenName": 16,
    "lenType": 16,
    "lenVar": 40
   },
   "kernels_config": {
    "python": {
     "delete_cmd_postfix": "",
     "delete_cmd_prefix": "del ",
     "library": "var_list.py",
     "varRefreshCmd": "print(var_dic_list())"
    },
    "r": {
     "delete_cmd_postfix": ") ",
     "delete_cmd_prefix": "rm(",
     "library": "var_list.r",
     "varRefreshCmd": "cat(var_dic_list()) "
    }
   },
   "types_to_exclude": [
    "module",
    "function",
    "builtin_function_or_method",
    "instance",
    "_Feature"
   ],
   "window_display": false
  }
 },
 "nbformat": 4,
 "nbformat_minor": 5
}
