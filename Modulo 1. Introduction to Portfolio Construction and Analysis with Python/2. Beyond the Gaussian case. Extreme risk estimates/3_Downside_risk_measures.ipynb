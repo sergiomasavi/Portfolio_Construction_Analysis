{
 "cells": [
  {
   "cell_type": "markdown",
   "id": "97339a8d",
   "metadata": {
    "toc": true
   },
   "source": [
    "<h1>Table of Contents<span class=\"tocSkip\"></span></h1>\n",
    "<div class=\"toc\"><ul class=\"toc-item\"><li><span><a href=\"#Teoría\" data-toc-modified-id=\"Teoría-1\"><span class=\"toc-item-num\">1&nbsp;&nbsp;</span>Teoría</a></span><ul class=\"toc-item\"><li><span><a href=\"#Semi-volatilidad\" data-toc-modified-id=\"Semi-volatilidad-1.1\"><span class=\"toc-item-num\">1.1&nbsp;&nbsp;</span>Semi-volatilidad</a></span></li><li><span><a href=\"#Valor-en-riesgo-(VaR)\" data-toc-modified-id=\"Valor-en-riesgo-(VaR)-1.2\"><span class=\"toc-item-num\">1.2&nbsp;&nbsp;</span>Valor en riesgo (VaR)</a></span></li><li><span><a href=\"#Distribución-más-alla-del-VaR\" data-toc-modified-id=\"Distribución-más-alla-del-VaR-1.3\"><span class=\"toc-item-num\">1.3&nbsp;&nbsp;</span>Distribución más alla del VaR</a></span></li></ul></li><li><span><a href=\"#Tipo-Test\" data-toc-modified-id=\"Tipo-Test-2\"><span class=\"toc-item-num\">2&nbsp;&nbsp;</span>Tipo Test</a></span></li></ul></div>"
   ]
  },
  {
   "cell_type": "markdown",
   "id": "17f8569c",
   "metadata": {},
   "source": [
    "## Teoría\n",
    "\n",
    "A continuación, se estudiarán algunas de las métricas de riesgo de pérdidas \"downside risk measures\" en inglés más utilizadas.\n",
    "\n",
    "### Semi-volatilidad\n",
    "\n",
    "Hasta el momento, se ha comprobado que los retornos obtenidos en diferentes activos no siguen una distribución normal. En este contexto, lo que es una verdadera preocupación para los inversores es la probabilidad de obtener grandes pérdidas, es decir, la probabilidad de obtener rendimientos negativos altos en las carteras. \n",
    "\n",
    "La volatilidad es una medida de riesgo muy simétrica que nos informa sobre el riesgo promedio, es decir, la desviación promedio o estándar entorno a la media. Ahora lo que vamos a tratar de ver es una desviación más extrema alrededor de la media. Para ello, se introduce una medida de riesgo conocida como semivolatilidad o también conocida como semi-desviación. \n",
    "\n",
    "<img src=\"images/semivolatilidad.png\" width=\"400\" height=\"400\">\n",
    "\n",
    "\n",
    "__Formulación.__\n",
    "\n",
    "Para trabajar con la semi-volatilidad simplemente se calcula la volatilidad o la incertidumbre en valores bajos de volatilidad. Para realizar su cálculo, se trunca la distribución de retorno y centrando el análisis en los retornos que se encuentran por debajo de la media o por debajo de cero (generalmente, la media es cercana a cero, especialmente en los rendimientos de alta frecuencia como los retornos diarios). De esta forma, sólo se analizan los retornos por debajo de la media decir para posteriormente calcular la volatilidad de dichos retornos. Sin embargo, la semi-volatilidad no ofrece información sobre la magnitud o las pérdidas extremas que pueden ocurrir cuando estamos por debajo de la media, si no que informa sobre la desviación media o la incertidumbre media cuando estamos por debajo de la media. \n",
    "\n",
    "\\begin{align}\n",
    "\\sigma_{R} = \\sqrt{\\frac{1}{N}\\sum_{R_{t}≤R_{mean}}{(R_{i} - R_{mean})^{2}}}\n",
    "\\end{align}\n",
    "\n",
    "dónde N es el número de rendimientos que se encuentran por debajo de la media o por debajo de cero.\n",
    "\n",
    "\n",
    "\n",
    "### Valor en riesgo (VaR)\n",
    "\n",
    "Ahora, en un intento de centrarnos en la desventaja extrema, hemos introducido un concepto muy útil que se llama valor en riesgo. Así que permítanme darles la definición de valor en riesgo. La motivación del __Valor en Riesgo__ (Var) es tratar de entender cuáles son las grandes pérdidas que pueden suceder y que potencialmente pueden acabar con toda la cartera, es decir, la pérdida máxima que puede ocurrir con una probabilidad dada. \n",
    "\n",
    "Para ello, en primer lugar se define un nivel de confianza especificado como el 99%. Un 99% de VaR significa que se está observando el peor resultado posible después de excluir las pérdidas extremas del uno por ciento. Normalmente, también se especifica el período de tiempo (Ej. mensual) y, por lo tanto, el valor indica cuál es la pérdida máxima que puede tomar en el 99% de los casos durante un período de tiempo determinado.\n",
    "\n",
    "\n",
    "\n",
    "El siguiente gráfico es la distribución de retornos que muestra el VaR.\n",
    "\n",
    "<img src=\"images/semivolatilidad.png\" width=\"400\" height=\"400\">\n",
    "\n",
    "Se obtiene la distribución de devoluciones excluyendo el uno por ciento de los peores casos con la finalidad de solo mantener el peor resultado posible después de excluir el 1% de peores casos (en este caso en particular es del 9.6%). Este valor será la estimación de valor en riesgo en un horizonte determinado. En este caso, podría ser semanal o mensual horizonte. \n",
    "\n",
    "El indicador de valor en riesgo es un indicador bastante útil que proporciona una estimación de la pérdida máxima a un nivel de confianza dado.\n",
    "\n",
    "### Distribución más alla del VaR\n",
    "\n",
    "La distribuición más alla del VaR, también conocido como el valor condicional en la estimación del riesgo trata de  analizar la pérdida esperada más allá del valor en riesgo. Para ello, se calcula cuál es el promedio de la distribución más allá VaR. \n",
    "\n",
    "<img src=\"images/distribution_beyon_var.png\" width=\"400\" height=\"400\">\n",
    "\n",
    "__Formulación.__\n",
    "\n",
    "Es el rendimiento esperado condicionado a que el rendimiento sea menor que el valor en riesgo número se calcula con la siguiente ecuación:\n",
    "\n",
    "\\begin{align}\n",
    "CVaR = -E(R|R≤-VaR) = \\frac{\\int_{-∞}^{-VaR}{x⋅f_{R}dx}}{F_{R}(-VaR)} \n",
    "\\end{align}\n",
    "\n",
    "dónde:\n",
    "- $f_{R}$. La distribución de retorno tiene una función de densidad.\n",
    "- $F_{R}$. La distribución de probabilidad acumulada. "
   ]
  },
  {
   "cell_type": "markdown",
   "id": "f11c7c72",
   "metadata": {},
   "source": [
    "<hr style=\"height:5px;border-width:0;color:orange;background-color:orange\">\n"
   ]
  },
  {
   "cell_type": "markdown",
   "id": "db108b60",
   "metadata": {},
   "source": [
    "## Tipo Test\n",
    "\n",
    "__Pregunta 1. Considere la siguiente secuencia de rendimientos mensuales de una cartera: -4%, +5%, +2%, -7%, +1%, +0.5%, -2%, -1%, -2%, +5%.¿Cuál es el VaR mensual del 90% para la cartera?__\n",
    "\n",
    "De cada 10 rentabilidades mensuales, el peor resultado es el -7%, por lo que 1 de cada 10 rentabilidades es igual al -7%, y 9 de cada 10 son mejores que el -7%. Por tanto, la peor rentabilidad después de excluir el 10% de la peor rentabilidad, es decir, después de excluir la peor rentabilidad, es del -4%. El VaR suele expresarse como un número positivo (-4% significa una pérdida del 4%): por tanto, el 4% es la peor pérdida después de excluir las peores pérdidas del 10%.\n",
    "\n",
    "\n",
    "__Pregunta 2. Considere la siguiente secuencia de rendimientos mensuales de una cartera: -4%, +5%, +2%, -7%, +1%, +0,5%, -2%, -1%, -2%, +5%. ¿Cuál es el CVaR mensual del 80% para la cartera?__\n",
    "\n",
    "De las 10 rentabilidades mensuales, el peor resultado es el -7% y el segundo peor resultado es el -4%, por lo que 8 de cada 10 resultados son mejores que el -4%. El peor resultado después de excluir el 20% de peor resultado, es decir, después de excluir los dos peores resultados, es por tanto del -2%. El VaR se expresa normalmente como un número positivo, por lo que el 2% es el 80% del VaR. El CVaR viene dado por la pérdida media más allá del VaR, es decir -(-7%-4%)/2=5.5%."
   ]
  }
 ],
 "metadata": {
  "kernelspec": {
   "display_name": "Python 3",
   "language": "python",
   "name": "python3"
  },
  "language_info": {
   "codemirror_mode": {
    "name": "ipython",
    "version": 3
   },
   "file_extension": ".py",
   "mimetype": "text/x-python",
   "name": "python",
   "nbconvert_exporter": "python",
   "pygments_lexer": "ipython3",
   "version": "3.8.10"
  },
  "nbTranslate": {
   "displayLangs": [
    "*"
   ],
   "hotkey": "alt-t",
   "langInMainMenu": true,
   "sourceLang": "en",
   "targetLang": "fr",
   "useGoogleTranslate": true
  },
  "toc": {
   "base_numbering": 1,
   "nav_menu": {},
   "number_sections": true,
   "sideBar": true,
   "skip_h1_title": true,
   "title_cell": "Table of Contents",
   "title_sidebar": "Contents",
   "toc_cell": true,
   "toc_position": {},
   "toc_section_display": true,
   "toc_window_display": true
  },
  "varInspector": {
   "cols": {
    "lenName": 16,
    "lenType": 16,
    "lenVar": 40
   },
   "kernels_config": {
    "python": {
     "delete_cmd_postfix": "",
     "delete_cmd_prefix": "del ",
     "library": "var_list.py",
     "varRefreshCmd": "print(var_dic_list())"
    },
    "r": {
     "delete_cmd_postfix": ") ",
     "delete_cmd_prefix": "rm(",
     "library": "var_list.r",
     "varRefreshCmd": "cat(var_dic_list()) "
    }
   },
   "types_to_exclude": [
    "module",
    "function",
    "builtin_function_or_method",
    "instance",
    "_Feature"
   ],
   "window_display": false
  }
 },
 "nbformat": 4,
 "nbformat_minor": 5
}
