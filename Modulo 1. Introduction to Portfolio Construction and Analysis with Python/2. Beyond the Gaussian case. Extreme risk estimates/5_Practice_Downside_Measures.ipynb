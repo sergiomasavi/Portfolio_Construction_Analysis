{
 "cells": [
  {
   "cell_type": "markdown",
   "id": "6865d432",
   "metadata": {
    "toc": true
   },
   "source": [
    "<h1>Table of Contents<span class=\"tocSkip\"></span></h1>\n",
    "<div class=\"toc\"><ul class=\"toc-item\"><li><span><a href=\"#Introducción.-Downside-Measures.\" data-toc-modified-id=\"Introducción.-Downside-Measures.-1\"><span class=\"toc-item-num\">1&nbsp;&nbsp;</span>Introducción. Downside Measures.</a></span></li><li><span><a href=\"#Teoría\" data-toc-modified-id=\"Teoría-2\"><span class=\"toc-item-num\">2&nbsp;&nbsp;</span>Teoría</a></span><ul class=\"toc-item\"><li><span><a href=\"#Librerías\" data-toc-modified-id=\"Librerías-2.1\"><span class=\"toc-item-num\">2.1&nbsp;&nbsp;</span>Librerías</a></span></li><li><span><a href=\"#Cargar-datos\" data-toc-modified-id=\"Cargar-datos-2.2\"><span class=\"toc-item-num\">2.2&nbsp;&nbsp;</span>Cargar datos</a></span></li><li><span><a href=\"#Semi-Desviación\" data-toc-modified-id=\"Semi-Desviación-2.3\"><span class=\"toc-item-num\">2.3&nbsp;&nbsp;</span>Semi-Desviación</a></span></li><li><span><a href=\"#VaR\" data-toc-modified-id=\"VaR-2.4\"><span class=\"toc-item-num\">2.4&nbsp;&nbsp;</span>VaR</a></span><ul class=\"toc-item\"><li><span><a href=\"#Historic-VaR\" data-toc-modified-id=\"Historic-VaR-2.4.1\"><span class=\"toc-item-num\">2.4.1&nbsp;&nbsp;</span>Historic VaR</a></span></li><li><span><a href=\"#Parametric-Gaussian-VaR\" data-toc-modified-id=\"Parametric-Gaussian-VaR-2.4.2\"><span class=\"toc-item-num\">2.4.2&nbsp;&nbsp;</span>Parametric Gaussian VaR</a></span></li><li><span><a href=\"#Cornish-Fisher-Modification\" data-toc-modified-id=\"Cornish-Fisher-Modification-2.4.3\"><span class=\"toc-item-num\">2.4.3&nbsp;&nbsp;</span>Cornish-Fisher Modification</a></span></li><li><span><a href=\"#Comparativa\" data-toc-modified-id=\"Comparativa-2.4.4\"><span class=\"toc-item-num\">2.4.4&nbsp;&nbsp;</span>Comparativa</a></span></li></ul></li><li><span><a href=\"#CVaR\" data-toc-modified-id=\"CVaR-2.5\"><span class=\"toc-item-num\">2.5&nbsp;&nbsp;</span>CVaR</a></span></li></ul></li></ul></div>"
   ]
  },
  {
   "cell_type": "markdown",
   "id": "d3ee3d7e",
   "metadata": {},
   "source": [
    "## Introducción. Downside Measures.\n",
    "\n",
    "A continuación se verán en práctica las métricas de riesgo de pérdidas (a parte del drawdown visto anteriomente). Ya hemos visto cómo calcular los drawdowns, pero vamos a ver 3 medidas populares, y vamos a desarrollar código para calcularlas y añadirlas a nuestra caja de herramientas.\n",
    "El código es muy sencillo:\n",
    "\n",
    "- __Semi-Desviación.__ La volatilidad del subconjunto de rendimientos que son negativos.\n",
    "\n",
    "\n",
    "- __VaR.__ Para calcular el VaR histórico a un determinado nivel, digamos el 5%, todo lo que tenemos que hacer es encontrar el número tal que el 5% de los rendimientos caen por debajo de ese número y el 95% de los rendimientos caen por encima de ese número. En otras palabras, queremos la rentabilidad del percentil 5. Se implementarán tres formas diferentes de calcular el Valor en riesgo:\n",
    "\n",
    "    - (1) VaR histórico.\n",
    "    - (2) VaR gaussiano paramétrico.\n",
    "    - (3) VaR modificado (Cornish-Fisher).\n",
    "\n",
    "\n",
    "- __CVaR.__ Valor de pérdida promedia sobre una probabilidad de pérdida dada. Una vez conocido el VaR, para obtener el CVaR se calcula  la media de los retornos que cayeron por debajo del VaR.\n"
   ]
  },
  {
   "cell_type": "markdown",
   "id": "79f4b94a",
   "metadata": {},
   "source": [
    "<hr style=\"height:5px;border-width:0;color:orange;background-color:orange\">\n"
   ]
  },
  {
   "cell_type": "markdown",
   "id": "b9b732ba",
   "metadata": {},
   "source": [
    "## Teoría"
   ]
  },
  {
   "cell_type": "markdown",
   "id": "03d521dc",
   "metadata": {},
   "source": [
    "### Librerías"
   ]
  },
  {
   "cell_type": "code",
   "execution_count": 1,
   "id": "8149e9b9",
   "metadata": {
    "ExecuteTime": {
     "end_time": "2021-08-27T12:13:10.964240Z",
     "start_time": "2021-08-27T12:13:10.138826Z"
    }
   },
   "outputs": [],
   "source": [
    "import pandas as pd\n",
    "import numpy as np\n",
    "from modules import edhec_risk_kit as erk\n",
    "\n",
    "# Modo desarrollo del módulo edhec_risk_kit\n",
    "%load_ext autoreload\n",
    "%autoreload 2"
   ]
  },
  {
   "cell_type": "markdown",
   "id": "d2984721",
   "metadata": {},
   "source": [
    "### Cargar datos"
   ]
  },
  {
   "cell_type": "code",
   "execution_count": 2,
   "id": "7d36d13b",
   "metadata": {
    "ExecuteTime": {
     "end_time": "2021-08-27T12:13:10.997007Z",
     "start_time": "2021-08-27T12:13:10.965510Z"
    }
   },
   "outputs": [
    {
     "data": {
      "text/html": [
       "<div>\n",
       "<style scoped>\n",
       "    .dataframe tbody tr th:only-of-type {\n",
       "        vertical-align: middle;\n",
       "    }\n",
       "\n",
       "    .dataframe tbody tr th {\n",
       "        vertical-align: top;\n",
       "    }\n",
       "\n",
       "    .dataframe thead th {\n",
       "        text-align: right;\n",
       "    }\n",
       "</style>\n",
       "<table border=\"1\" class=\"dataframe\">\n",
       "  <thead>\n",
       "    <tr style=\"text-align: right;\">\n",
       "      <th></th>\n",
       "      <th>Convertible Arbitrage</th>\n",
       "      <th>CTA Global</th>\n",
       "      <th>Distressed Securities</th>\n",
       "      <th>Emerging Markets</th>\n",
       "      <th>Equity Market Neutral</th>\n",
       "      <th>Event Driven</th>\n",
       "      <th>Fixed Income Arbitrage</th>\n",
       "      <th>Global Macro</th>\n",
       "      <th>Long/Short Equity</th>\n",
       "      <th>Merger Arbitrage</th>\n",
       "      <th>Relative Value</th>\n",
       "      <th>Short Selling</th>\n",
       "      <th>Funds Of Funds</th>\n",
       "    </tr>\n",
       "    <tr>\n",
       "      <th>date</th>\n",
       "      <th></th>\n",
       "      <th></th>\n",
       "      <th></th>\n",
       "      <th></th>\n",
       "      <th></th>\n",
       "      <th></th>\n",
       "      <th></th>\n",
       "      <th></th>\n",
       "      <th></th>\n",
       "      <th></th>\n",
       "      <th></th>\n",
       "      <th></th>\n",
       "      <th></th>\n",
       "    </tr>\n",
       "  </thead>\n",
       "  <tbody>\n",
       "    <tr>\n",
       "      <th>1997-01</th>\n",
       "      <td>0.0119</td>\n",
       "      <td>0.0393</td>\n",
       "      <td>0.0178</td>\n",
       "      <td>0.0791</td>\n",
       "      <td>0.0189</td>\n",
       "      <td>0.0213</td>\n",
       "      <td>0.0191</td>\n",
       "      <td>0.0573</td>\n",
       "      <td>0.0281</td>\n",
       "      <td>0.0150</td>\n",
       "      <td>0.0180</td>\n",
       "      <td>-0.0166</td>\n",
       "      <td>0.0317</td>\n",
       "    </tr>\n",
       "    <tr>\n",
       "      <th>1997-02</th>\n",
       "      <td>0.0123</td>\n",
       "      <td>0.0298</td>\n",
       "      <td>0.0122</td>\n",
       "      <td>0.0525</td>\n",
       "      <td>0.0101</td>\n",
       "      <td>0.0084</td>\n",
       "      <td>0.0122</td>\n",
       "      <td>0.0175</td>\n",
       "      <td>-0.0006</td>\n",
       "      <td>0.0034</td>\n",
       "      <td>0.0118</td>\n",
       "      <td>0.0426</td>\n",
       "      <td>0.0106</td>\n",
       "    </tr>\n",
       "    <tr>\n",
       "      <th>1997-03</th>\n",
       "      <td>0.0078</td>\n",
       "      <td>-0.0021</td>\n",
       "      <td>-0.0012</td>\n",
       "      <td>-0.0120</td>\n",
       "      <td>0.0016</td>\n",
       "      <td>-0.0023</td>\n",
       "      <td>0.0109</td>\n",
       "      <td>-0.0119</td>\n",
       "      <td>-0.0084</td>\n",
       "      <td>0.0060</td>\n",
       "      <td>0.0010</td>\n",
       "      <td>0.0778</td>\n",
       "      <td>-0.0077</td>\n",
       "    </tr>\n",
       "    <tr>\n",
       "      <th>1997-04</th>\n",
       "      <td>0.0086</td>\n",
       "      <td>-0.0170</td>\n",
       "      <td>0.0030</td>\n",
       "      <td>0.0119</td>\n",
       "      <td>0.0119</td>\n",
       "      <td>-0.0005</td>\n",
       "      <td>0.0130</td>\n",
       "      <td>0.0172</td>\n",
       "      <td>0.0084</td>\n",
       "      <td>-0.0001</td>\n",
       "      <td>0.0122</td>\n",
       "      <td>-0.0129</td>\n",
       "      <td>0.0009</td>\n",
       "    </tr>\n",
       "    <tr>\n",
       "      <th>1997-05</th>\n",
       "      <td>0.0156</td>\n",
       "      <td>-0.0015</td>\n",
       "      <td>0.0233</td>\n",
       "      <td>0.0315</td>\n",
       "      <td>0.0189</td>\n",
       "      <td>0.0346</td>\n",
       "      <td>0.0118</td>\n",
       "      <td>0.0108</td>\n",
       "      <td>0.0394</td>\n",
       "      <td>0.0197</td>\n",
       "      <td>0.0173</td>\n",
       "      <td>-0.0737</td>\n",
       "      <td>0.0275</td>\n",
       "    </tr>\n",
       "  </tbody>\n",
       "</table>\n",
       "</div>"
      ],
      "text/plain": [
       "         Convertible Arbitrage  CTA Global  Distressed Securities  \\\n",
       "date                                                                \n",
       "1997-01                 0.0119      0.0393                 0.0178   \n",
       "1997-02                 0.0123      0.0298                 0.0122   \n",
       "1997-03                 0.0078     -0.0021                -0.0012   \n",
       "1997-04                 0.0086     -0.0170                 0.0030   \n",
       "1997-05                 0.0156     -0.0015                 0.0233   \n",
       "\n",
       "         Emerging Markets  Equity Market Neutral  Event Driven  \\\n",
       "date                                                             \n",
       "1997-01            0.0791                 0.0189        0.0213   \n",
       "1997-02            0.0525                 0.0101        0.0084   \n",
       "1997-03           -0.0120                 0.0016       -0.0023   \n",
       "1997-04            0.0119                 0.0119       -0.0005   \n",
       "1997-05            0.0315                 0.0189        0.0346   \n",
       "\n",
       "         Fixed Income Arbitrage  Global Macro  Long/Short Equity  \\\n",
       "date                                                               \n",
       "1997-01                  0.0191        0.0573             0.0281   \n",
       "1997-02                  0.0122        0.0175            -0.0006   \n",
       "1997-03                  0.0109       -0.0119            -0.0084   \n",
       "1997-04                  0.0130        0.0172             0.0084   \n",
       "1997-05                  0.0118        0.0108             0.0394   \n",
       "\n",
       "         Merger Arbitrage  Relative Value  Short Selling  Funds Of Funds  \n",
       "date                                                                      \n",
       "1997-01            0.0150          0.0180        -0.0166          0.0317  \n",
       "1997-02            0.0034          0.0118         0.0426          0.0106  \n",
       "1997-03            0.0060          0.0010         0.0778         -0.0077  \n",
       "1997-04           -0.0001          0.0122        -0.0129          0.0009  \n",
       "1997-05            0.0197          0.0173        -0.0737          0.0275  "
      ]
     },
     "execution_count": 2,
     "metadata": {},
     "output_type": "execute_result"
    }
   ],
   "source": [
    "df_hfi = erk.get_hfi_returns(directory='../data/')\n",
    "df_hfi.head()"
   ]
  },
  {
   "cell_type": "code",
   "execution_count": 3,
   "id": "b3a88dd5",
   "metadata": {
    "ExecuteTime": {
     "end_time": "2021-08-27T12:13:11.021158Z",
     "start_time": "2021-08-27T12:13:10.998699Z"
    }
   },
   "outputs": [
    {
     "data": {
      "text/html": [
       "<div>\n",
       "<style scoped>\n",
       "    .dataframe tbody tr th:only-of-type {\n",
       "        vertical-align: middle;\n",
       "    }\n",
       "\n",
       "    .dataframe tbody tr th {\n",
       "        vertical-align: top;\n",
       "    }\n",
       "\n",
       "    .dataframe thead th {\n",
       "        text-align: right;\n",
       "    }\n",
       "</style>\n",
       "<table border=\"1\" class=\"dataframe\">\n",
       "  <thead>\n",
       "    <tr style=\"text-align: right;\">\n",
       "      <th></th>\n",
       "      <th>SmallCap</th>\n",
       "      <th>LargeCap</th>\n",
       "    </tr>\n",
       "  </thead>\n",
       "  <tbody>\n",
       "    <tr>\n",
       "      <th>1926-07</th>\n",
       "      <td>-0.0057</td>\n",
       "      <td>0.0333</td>\n",
       "    </tr>\n",
       "    <tr>\n",
       "      <th>1926-08</th>\n",
       "      <td>0.0384</td>\n",
       "      <td>0.0233</td>\n",
       "    </tr>\n",
       "    <tr>\n",
       "      <th>1926-09</th>\n",
       "      <td>-0.0048</td>\n",
       "      <td>-0.0009</td>\n",
       "    </tr>\n",
       "    <tr>\n",
       "      <th>1926-10</th>\n",
       "      <td>-0.0329</td>\n",
       "      <td>-0.0295</td>\n",
       "    </tr>\n",
       "    <tr>\n",
       "      <th>1926-11</th>\n",
       "      <td>-0.0055</td>\n",
       "      <td>0.0316</td>\n",
       "    </tr>\n",
       "  </tbody>\n",
       "</table>\n",
       "</div>"
      ],
      "text/plain": [
       "         SmallCap  LargeCap\n",
       "1926-07   -0.0057    0.0333\n",
       "1926-08    0.0384    0.0233\n",
       "1926-09   -0.0048   -0.0009\n",
       "1926-10   -0.0329   -0.0295\n",
       "1926-11   -0.0055    0.0316"
      ]
     },
     "execution_count": 3,
     "metadata": {},
     "output_type": "execute_result"
    }
   ],
   "source": [
    "df_ffme = erk.get_ffme_returns(directory='../data/')\n",
    "df_ffme.head()"
   ]
  },
  {
   "cell_type": "markdown",
   "id": "c7dab167",
   "metadata": {},
   "source": [
    "### Semi-Desviación"
   ]
  },
  {
   "cell_type": "code",
   "execution_count": 4,
   "id": "6ebf4172",
   "metadata": {
    "ExecuteTime": {
     "end_time": "2021-08-27T12:13:11.038505Z",
     "start_time": "2021-08-27T12:13:11.023833Z"
    }
   },
   "outputs": [],
   "source": [
    "def negative_semideviation(r):\n",
    "    \"\"\"\n",
    "    Devuelve la semidesviación en la semidesviación negativa de r\n",
    "    \n",
    "    Args:\n",
    "    ------\n",
    "    r [{pd.Series or pd.DataFrame}] -- Serie(s) temporal de retornos.\n",
    "    \n",
    "    Returns:\n",
    "    ----------\n",
    "    semideviation {[float or pd.Series]} -- Semidesviación negativa de los retornos\n",
    "    \"\"\"\n",
    "    is_negative = r < 0\n",
    "    ns = r[is_negative].std(ddof=0)\n",
    "    return ns"
   ]
  },
  {
   "cell_type": "code",
   "execution_count": 5,
   "id": "aa80fb53",
   "metadata": {
    "ExecuteTime": {
     "end_time": "2021-08-27T12:13:11.057263Z",
     "start_time": "2021-08-27T12:13:11.040015Z"
    }
   },
   "outputs": [
    {
     "data": {
      "text/plain": [
       "Global Macro              0.006579\n",
       "Merger Arbitrage          0.008875\n",
       "Equity Market Neutral     0.009566\n",
       "Funds Of Funds            0.012122\n",
       "Relative Value            0.012244\n",
       "CTA Global                0.012443\n",
       "Long/Short Equity         0.014051\n",
       "Distressed Securities     0.015185\n",
       "Event Driven              0.015429\n",
       "Fixed Income Arbitrage    0.017763\n",
       "Convertible Arbitrage     0.019540\n",
       "Short Selling             0.027283\n",
       "Emerging Markets          0.028039\n",
       "dtype: float64"
      ]
     },
     "execution_count": 5,
     "metadata": {},
     "output_type": "execute_result"
    }
   ],
   "source": [
    "# Método 1 - Función propia\n",
    "erk.negative_semideviation(df_hfi).sort_values()"
   ]
  },
  {
   "cell_type": "code",
   "execution_count": 6,
   "id": "b210fae4",
   "metadata": {
    "ExecuteTime": {
     "end_time": "2021-08-27T12:13:11.076661Z",
     "start_time": "2021-08-27T12:13:11.058779Z"
    }
   },
   "outputs": [
    {
     "data": {
      "text/plain": [
       "Global Macro              0.006579\n",
       "Merger Arbitrage          0.008875\n",
       "Equity Market Neutral     0.009566\n",
       "Funds Of Funds            0.012122\n",
       "Relative Value            0.012244\n",
       "CTA Global                0.012443\n",
       "Long/Short Equity         0.014051\n",
       "Distressed Securities     0.015185\n",
       "Event Driven              0.015429\n",
       "Fixed Income Arbitrage    0.017763\n",
       "Convertible Arbitrage     0.019540\n",
       "Short Selling             0.027283\n",
       "Emerging Markets          0.028039\n",
       "dtype: float64"
      ]
     },
     "execution_count": 6,
     "metadata": {},
     "output_type": "execute_result"
    }
   ],
   "source": [
    "# Método 2 - numpy\n",
    "df_hfi[df_hfi<0].std(ddof=0).sort_values()"
   ]
  },
  {
   "cell_type": "code",
   "execution_count": 7,
   "id": "daead8e1",
   "metadata": {
    "ExecuteTime": {
     "end_time": "2021-08-27T12:13:11.094982Z",
     "start_time": "2021-08-27T12:13:11.078433Z"
    }
   },
   "outputs": [
    {
     "data": {
      "text/plain": [
       "LargeCap    0.041823\n",
       "SmallCap    0.052554\n",
       "dtype: float64"
      ]
     },
     "execution_count": 7,
     "metadata": {},
     "output_type": "execute_result"
    }
   ],
   "source": [
    "erk.negative_semideviation(df_ffme).sort_values()"
   ]
  },
  {
   "cell_type": "markdown",
   "id": "f6fedce9",
   "metadata": {},
   "source": [
    "### VaR\n",
    "\n",
    "A efectos de información, es habitual invertir el signo del valor del VaR, de modo que se indica un número positivo para representar la __pérdida/loss__, es decir, la cantidad que está en riesgo."
   ]
  },
  {
   "cell_type": "markdown",
   "id": "259ed90c",
   "metadata": {},
   "source": [
    "#### Historic VaR"
   ]
  },
  {
   "cell_type": "code",
   "execution_count": 8,
   "id": "9a8a0a46",
   "metadata": {
    "ExecuteTime": {
     "end_time": "2021-08-27T12:13:11.113577Z",
     "start_time": "2021-08-27T12:13:11.098311Z"
    }
   },
   "outputs": [],
   "source": [
    "# Método 1 - VaR histórico\n",
    "def var_historic(r, level=5):\n",
    "    \"\"\"\n",
    "    Devuelve el Valor en Riesgo utilizando el método de histórico en un nivel \n",
    "    especificado, es decir, devuelve el número tal que el porcentaje de \n",
    "    \"nivel\" de los rendimientos se sitúan por debajo de ese número, y \n",
    "    el porcentaje (de nivel 100) está por encima.\n",
    "    \n",
    "    Args:\n",
    "    r [{pd.Series or pd.DataFrame}] -- Serie(s) temporal de retornos.\n",
    "    level [{float}] -- Nivel de riesgo\n",
    "    \n",
    "    Returns:\n",
    "    ----------\n",
    "    var {[float or pd.Series]} -- VaR calculado con el método de históricos.\n",
    "    \"\"\"\n",
    "    \n",
    "    if isinstance(r, pd.DataFrame):\n",
    "        return r.aggregate(var_historic, level=level)\n",
    "    \n",
    "    elif isinstance(r, pd.Series):\n",
    "        return -np.percentile(r, level)\n",
    "    \n",
    "    else:\n",
    "        raise TypeError('El tipado de la serie temporal de rendimientos debe ser pandas.Series o pandas.DataFrame')"
   ]
  },
  {
   "cell_type": "code",
   "execution_count": 9,
   "id": "05b6e93c",
   "metadata": {
    "ExecuteTime": {
     "end_time": "2021-08-27T12:13:11.134646Z",
     "start_time": "2021-08-27T12:13:11.115460Z"
    }
   },
   "outputs": [
    {
     "data": {
      "text/plain": [
       "array([-0.031776, -0.049542, -0.046654, -0.088466, -0.018   , -0.048612,\n",
       "       -0.041672, -0.024316, -0.049558, -0.025336, -0.02666 , -0.113576,\n",
       "       -0.039664])"
      ]
     },
     "execution_count": 9,
     "metadata": {},
     "output_type": "execute_result"
    }
   ],
   "source": [
    "# Método percentil de numpy\n",
    "np.percentile(df_hfi, 1, axis=0)"
   ]
  },
  {
   "cell_type": "code",
   "execution_count": 10,
   "id": "cacb7105",
   "metadata": {
    "ExecuteTime": {
     "end_time": "2021-08-27T12:13:11.154763Z",
     "start_time": "2021-08-27T12:13:11.136442Z"
    }
   },
   "outputs": [
    {
     "data": {
      "text/plain": [
       "Equity Market Neutral     0.018000\n",
       "Global Macro              0.024316\n",
       "Merger Arbitrage          0.025336\n",
       "Relative Value            0.026660\n",
       "Convertible Arbitrage     0.031776\n",
       "Funds Of Funds            0.039664\n",
       "Fixed Income Arbitrage    0.041672\n",
       "Distressed Securities     0.046654\n",
       "Event Driven              0.048612\n",
       "CTA Global                0.049542\n",
       "Long/Short Equity         0.049558\n",
       "Emerging Markets          0.088466\n",
       "Short Selling             0.113576\n",
       "dtype: float64"
      ]
     },
     "execution_count": 10,
     "metadata": {},
     "output_type": "execute_result"
    }
   ],
   "source": [
    "var_historic(df_hfi, level=1).sort_values()"
   ]
  },
  {
   "cell_type": "markdown",
   "id": "833697d8",
   "metadata": {},
   "source": [
    "#### Parametric Gaussian VaR\n",
    "\n",
    "La idea que subyace es muy sencilla. Si un conjunto de rendimientos se distribuye normalmente, sabemos, por ejemplo, que el 50% de los rendimientos están por debajo de la media y el 50% por encima.\n",
    "\n",
    "También sabemos que aproximadamente dos tercios (66%) de los rendimientos están dentro de una desviación estándar. Esto significa que un tercio (33%) se encuentra más allá de una desviación estándar de la media. Dado que la distribución normal es simétrica, aproximadamente una sexta parte (aproximadamente el 16%) se encuentra por debajo de una desviación estándar de la media. Por lo tanto, si conocemos la media y la desviación estándar y suponemos que los rendimientos se distribuyen normalmente, el 16% del VaR sería la media menos una desviación estándar.\n",
    "\n",
    "En general, siempre podemos convertir un punto percentil en una puntuación z (z score, número de desviaciones estándar de la media que tiene). Por lo tanto, si podemos convertir el nivel de VaR (como el 1% o el 5%) en una puntuación z, podemos calcular el nivel de rendimiento en el que ese porcentaje de rendimientos se encuentra por debajo.\n",
    "\n",
    "scipy.stat.norm contiene una función ppf() que hace exactamente eso. Toma un percentil como 0.05 o 0.01 y proporciona la puntuación z correspondiente a eso en la distribución normal.\n",
    "\n",
    "Por lo tanto, z-score es el número de desviaciones estándar de la media de un punto de información. También se conoce como puntuación estándar y puede muy bien ser puesto en una curva de dispersión ordinaria. Los puntajes Z se extienden desde -3 desviaciones estándar (que se desplomarían a la izquierda más lejana de la curva) hasta +3 desviaciones estándar (que se desplomarían a la derecha más lejana de la curva de dispersión). Para utilizar un z-score, hay que conocer la media μ y además la desviación estándar de la población σ.\n",
    "\n",
    "\n",
    "__Formulación z-score.__\n",
    "\n",
    "\\begin{align}\n",
    "z_{score} = \\frac{(x – μ)}{σ}\n",
    "\\end{align}\n",
    "\n",
    "\n",
    "__Interpretación.__\n",
    "<img src=\"images/z_score.png\" width=\"400\" height=\"400\">\n",
    "\n"
   ]
  },
  {
   "cell_type": "code",
   "execution_count": 11,
   "id": "e302abc8",
   "metadata": {
    "ExecuteTime": {
     "end_time": "2021-08-27T12:13:11.171395Z",
     "start_time": "2021-08-27T12:13:11.156562Z"
    }
   },
   "outputs": [
    {
     "data": {
      "text/plain": [
       "0.0"
      ]
     },
     "execution_count": 11,
     "metadata": {},
     "output_type": "execute_result"
    }
   ],
   "source": [
    "from scipy.stats import norm\n",
    "norm.ppf(0.5)"
   ]
  },
  {
   "cell_type": "code",
   "execution_count": 12,
   "id": "65a47688",
   "metadata": {
    "ExecuteTime": {
     "end_time": "2021-08-27T12:13:11.188995Z",
     "start_time": "2021-08-27T12:13:11.173128Z"
    }
   },
   "outputs": [
    {
     "data": {
      "text/plain": [
       "-0.994457883209753"
      ]
     },
     "execution_count": 12,
     "metadata": {},
     "output_type": "execute_result"
    }
   ],
   "source": [
    "norm.ppf(.16)"
   ]
  },
  {
   "cell_type": "markdown",
   "id": "3039118e",
   "metadata": {
    "ExecuteTime": {
     "end_time": "2021-08-25T12:01:20.095756Z",
     "start_time": "2021-08-25T12:01:20.064643Z"
    }
   },
   "source": [
    "Por lo tanto, todo lo que tenemos que hacer para estimar el VaR utilizando este método es encontrar la puntuación z correspondiente al nivel percentil, y luego añadir esa cantidad de desviaciones estándar a la media, para obtener el VaR."
   ]
  },
  {
   "cell_type": "code",
   "execution_count": 13,
   "id": "0cb8de21",
   "metadata": {
    "ExecuteTime": {
     "end_time": "2021-08-27T12:13:11.204881Z",
     "start_time": "2021-08-27T12:13:11.190740Z"
    }
   },
   "outputs": [],
   "source": [
    "def var_gaussian(r, level=5):\n",
    "    \"\"\"\n",
    "    Returns the Parametric Gauusian VaR of a Series or DataFrame\n",
    "    \"\"\"\n",
    "    # compute the Z score assuming it was Gaussian\n",
    "    z = norm.ppf(level/100)\n",
    "    z_score =  -(r.mean() + z*r.std(ddof=0))\n",
    "    return z_score"
   ]
  },
  {
   "cell_type": "code",
   "execution_count": 14,
   "id": "c9861fda",
   "metadata": {
    "ExecuteTime": {
     "end_time": "2021-08-27T12:13:11.222527Z",
     "start_time": "2021-08-27T12:13:11.206214Z"
    }
   },
   "outputs": [
    {
     "data": {
      "text/plain": [
       "Equity Market Neutral     0.008850\n",
       "Merger Arbitrage          0.010435\n",
       "Relative Value            0.013061\n",
       "Fixed Income Arbitrage    0.014579\n",
       "Global Macro              0.018766\n",
       "Distressed Securities     0.021032\n",
       "Event Driven              0.021144\n",
       "Funds Of Funds            0.021292\n",
       "Convertible Arbitrage     0.021691\n",
       "Long/Short Equity         0.026397\n",
       "CTA Global                0.034235\n",
       "Emerging Markets          0.047164\n",
       "Short Selling             0.080086\n",
       "dtype: float64"
      ]
     },
     "execution_count": 14,
     "metadata": {},
     "output_type": "execute_result"
    }
   ],
   "source": [
    "erk.var_gaussian(df_hfi, level=5).sort_values()"
   ]
  },
  {
   "cell_type": "markdown",
   "id": "137cf583",
   "metadata": {},
   "source": [
    "#### Cornish-Fisher Modification\n",
    "\n",
    "La modificación de Cornish-Fisher es un ajuste elegante y sencillo.\n",
    "\n",
    "El z-score nos dice cuántas desviaciones estándar de la media tenemos que ir para encontrar el VaR. Si los rendimientos no son normales, sabemos que la puntuación z nos dará un número inexacto. La idea básica es que, dado que observando la asimetría y la curtosis de los datos, podemos ajustar la puntuación z hacia arriba o hacia abajo para obtener una puntuación z modificada. Por ejemplo, intuitivamente, en igualdad de condiciones, si la asimetría es negativa, reduciremos la puntuación z hacia abajo, y si la asimetría es positiva, la aumentaremos.\n",
    "\n"
   ]
  },
  {
   "cell_type": "code",
   "execution_count": 15,
   "id": "4416b897",
   "metadata": {
    "ExecuteTime": {
     "end_time": "2021-08-27T12:13:11.237783Z",
     "start_time": "2021-08-27T12:13:11.223593Z"
    }
   },
   "outputs": [],
   "source": [
    "def var_cornish_fisher(r, level=5):\n",
    "    \"\"\"\n",
    "    Returns the Parametric Gauusian VaR of a Series or DataFrame\n",
    "    If \"modified\" is True, then the modified VaR is returned,\n",
    "    using the Cornish-Fisher modification\n",
    "    \"\"\"\n",
    "    # compute the Z score assuming it was Gaussian\n",
    "    z = norm.ppf(level/100)\n",
    "    # modify the Z score based on observed skewness and kurtosis\n",
    "    s = erk.skewness(r)\n",
    "    k = erk.kurtosis(r)\n",
    "    z = (z +\n",
    "            (z**2 - 1)*s/6 +\n",
    "            (z**3 -3*z)*(k-3)/24 -\n",
    "            (2*z**3 - 5*z)*(s**2)/36\n",
    "        )\n",
    "    z_cf = -(r.mean() + z*r.std(ddof=0))\n",
    "\n",
    "    return z_cf"
   ]
  },
  {
   "cell_type": "code",
   "execution_count": 16,
   "id": "d97a76e8",
   "metadata": {
    "ExecuteTime": {
     "end_time": "2021-08-27T12:13:11.257587Z",
     "start_time": "2021-08-27T12:13:11.239097Z"
    }
   },
   "outputs": [
    {
     "data": {
      "text/plain": [
       "Global Macro              0.022236\n",
       "Merger Arbitrage          0.032882\n",
       "Equity Market Neutral     0.040248\n",
       "Relative Value            0.046398\n",
       "CTA Global                0.046612\n",
       "Funds Of Funds            0.050031\n",
       "Long/Short Equity         0.051614\n",
       "Event Driven              0.057035\n",
       "Distressed Securities     0.057506\n",
       "Fixed Income Arbitrage    0.060776\n",
       "Convertible Arbitrage     0.100100\n",
       "Short Selling             0.109810\n",
       "Emerging Markets          0.127977\n",
       "dtype: float64"
      ]
     },
     "execution_count": 16,
     "metadata": {},
     "output_type": "execute_result"
    }
   ],
   "source": [
    "erk.var_cornish_fisher(df_hfi, level=1).sort_values()"
   ]
  },
  {
   "cell_type": "markdown",
   "id": "21754807",
   "metadata": {},
   "source": [
    "#### Comparativa"
   ]
  },
  {
   "cell_type": "code",
   "execution_count": 17,
   "id": "2bcfd5d0",
   "metadata": {
    "ExecuteTime": {
     "end_time": "2021-08-27T12:13:11.282601Z",
     "start_time": "2021-08-27T12:13:11.264957Z"
    }
   },
   "outputs": [],
   "source": [
    "df_hfi_results = pd.DataFrame(index=df_hfi.columns)"
   ]
  },
  {
   "cell_type": "code",
   "execution_count": 18,
   "id": "2cb14a07",
   "metadata": {
    "ExecuteTime": {
     "end_time": "2021-08-27T12:13:11.301510Z",
     "start_time": "2021-08-27T12:13:11.284120Z"
    }
   },
   "outputs": [],
   "source": [
    "# Var Historic\n",
    "hfi_var_historic = erk.var_historic(df_hfi, level=5).sort_values()\n",
    "df_hfi_var_historic = pd.DataFrame(hfi_var_historic)\n",
    "df_hfi_var_historic.columns= ['Historic']\n",
    "df_hfi_results = df_hfi_results.join(df_hfi_var_historic)"
   ]
  },
  {
   "cell_type": "code",
   "execution_count": 19,
   "id": "1b32ee57",
   "metadata": {
    "ExecuteTime": {
     "end_time": "2021-08-27T12:13:11.317632Z",
     "start_time": "2021-08-27T12:13:11.302477Z"
    }
   },
   "outputs": [],
   "source": [
    "# Var Gaussian\n",
    "hfi_var_gaussian = erk.var_gaussian(df_hfi, level=5).sort_values()\n",
    "df_hfi_var_gaussian = pd.DataFrame(hfi_var_gaussian)\n",
    "df_hfi_var_gaussian.columns= ['Gaussian']\n",
    "df_hfi_results = df_hfi_results.join(df_hfi_var_gaussian)"
   ]
  },
  {
   "cell_type": "code",
   "execution_count": 20,
   "id": "67b90c8e",
   "metadata": {
    "ExecuteTime": {
     "end_time": "2021-08-27T12:13:11.335851Z",
     "start_time": "2021-08-27T12:13:11.318666Z"
    }
   },
   "outputs": [],
   "source": [
    "# Var Cornish-Fisher\n",
    "hfi_var_cornish_fisher = erk.var_cornish_fisher(df_hfi, level=5).sort_values()\n",
    "df_hfi_var_cornish_fisher = pd.DataFrame(hfi_var_cornish_fisher)\n",
    "df_hfi_var_cornish_fisher.columns= ['Cornish-Fisher']\n",
    "df_hfi_results = df_hfi_results.join(df_hfi_var_cornish_fisher)"
   ]
  },
  {
   "cell_type": "code",
   "execution_count": 21,
   "id": "a7809b2d",
   "metadata": {
    "ExecuteTime": {
     "end_time": "2021-08-27T12:13:11.352978Z",
     "start_time": "2021-08-27T12:13:11.336701Z"
    }
   },
   "outputs": [
    {
     "data": {
      "text/html": [
       "<div>\n",
       "<style scoped>\n",
       "    .dataframe tbody tr th:only-of-type {\n",
       "        vertical-align: middle;\n",
       "    }\n",
       "\n",
       "    .dataframe tbody tr th {\n",
       "        vertical-align: top;\n",
       "    }\n",
       "\n",
       "    .dataframe thead th {\n",
       "        text-align: right;\n",
       "    }\n",
       "</style>\n",
       "<table border=\"1\" class=\"dataframe\">\n",
       "  <thead>\n",
       "    <tr style=\"text-align: right;\">\n",
       "      <th></th>\n",
       "      <th>Historic</th>\n",
       "      <th>Gaussian</th>\n",
       "      <th>Cornish-Fisher</th>\n",
       "    </tr>\n",
       "  </thead>\n",
       "  <tbody>\n",
       "    <tr>\n",
       "      <th>Convertible Arbitrage</th>\n",
       "      <td>0.01576</td>\n",
       "      <td>0.021691</td>\n",
       "      <td>0.025166</td>\n",
       "    </tr>\n",
       "    <tr>\n",
       "      <th>CTA Global</th>\n",
       "      <td>0.03169</td>\n",
       "      <td>0.034235</td>\n",
       "      <td>0.033094</td>\n",
       "    </tr>\n",
       "    <tr>\n",
       "      <th>Distressed Securities</th>\n",
       "      <td>0.01966</td>\n",
       "      <td>0.021032</td>\n",
       "      <td>0.025102</td>\n",
       "    </tr>\n",
       "    <tr>\n",
       "      <th>Emerging Markets</th>\n",
       "      <td>0.04247</td>\n",
       "      <td>0.047164</td>\n",
       "      <td>0.053011</td>\n",
       "    </tr>\n",
       "    <tr>\n",
       "      <th>Equity Market Neutral</th>\n",
       "      <td>0.00814</td>\n",
       "      <td>0.008850</td>\n",
       "      <td>0.010734</td>\n",
       "    </tr>\n",
       "    <tr>\n",
       "      <th>Event Driven</th>\n",
       "      <td>0.02535</td>\n",
       "      <td>0.021144</td>\n",
       "      <td>0.025516</td>\n",
       "    </tr>\n",
       "    <tr>\n",
       "      <th>Fixed Income Arbitrage</th>\n",
       "      <td>0.00787</td>\n",
       "      <td>0.014579</td>\n",
       "      <td>0.017881</td>\n",
       "    </tr>\n",
       "    <tr>\n",
       "      <th>Global Macro</th>\n",
       "      <td>0.01499</td>\n",
       "      <td>0.018766</td>\n",
       "      <td>0.013581</td>\n",
       "    </tr>\n",
       "    <tr>\n",
       "      <th>Long/Short Equity</th>\n",
       "      <td>0.02598</td>\n",
       "      <td>0.026397</td>\n",
       "      <td>0.027935</td>\n",
       "    </tr>\n",
       "    <tr>\n",
       "      <th>Merger Arbitrage</th>\n",
       "      <td>0.01047</td>\n",
       "      <td>0.010435</td>\n",
       "      <td>0.012612</td>\n",
       "    </tr>\n",
       "    <tr>\n",
       "      <th>Relative Value</th>\n",
       "      <td>0.01174</td>\n",
       "      <td>0.013061</td>\n",
       "      <td>0.016157</td>\n",
       "    </tr>\n",
       "    <tr>\n",
       "      <th>Short Selling</th>\n",
       "      <td>0.06783</td>\n",
       "      <td>0.080086</td>\n",
       "      <td>0.066157</td>\n",
       "    </tr>\n",
       "    <tr>\n",
       "      <th>Funds Of Funds</th>\n",
       "      <td>0.02047</td>\n",
       "      <td>0.021292</td>\n",
       "      <td>0.021576</td>\n",
       "    </tr>\n",
       "  </tbody>\n",
       "</table>\n",
       "</div>"
      ],
      "text/plain": [
       "                        Historic  Gaussian  Cornish-Fisher\n",
       "Convertible Arbitrage    0.01576  0.021691        0.025166\n",
       "CTA Global               0.03169  0.034235        0.033094\n",
       "Distressed Securities    0.01966  0.021032        0.025102\n",
       "Emerging Markets         0.04247  0.047164        0.053011\n",
       "Equity Market Neutral    0.00814  0.008850        0.010734\n",
       "Event Driven             0.02535  0.021144        0.025516\n",
       "Fixed Income Arbitrage   0.00787  0.014579        0.017881\n",
       "Global Macro             0.01499  0.018766        0.013581\n",
       "Long/Short Equity        0.02598  0.026397        0.027935\n",
       "Merger Arbitrage         0.01047  0.010435        0.012612\n",
       "Relative Value           0.01174  0.013061        0.016157\n",
       "Short Selling            0.06783  0.080086        0.066157\n",
       "Funds Of Funds           0.02047  0.021292        0.021576"
      ]
     },
     "execution_count": 21,
     "metadata": {},
     "output_type": "execute_result"
    }
   ],
   "source": [
    "df_hfi_results"
   ]
  },
  {
   "cell_type": "code",
   "execution_count": 22,
   "id": "d40ce578",
   "metadata": {
    "ExecuteTime": {
     "end_time": "2021-08-27T12:13:11.568706Z",
     "start_time": "2021-08-27T12:13:11.354028Z"
    }
   },
   "outputs": [
    {
     "data": {
      "image/png": "[encoded data removed]",
      "text/plain": [
       "<Figure size 864x432 with 1 Axes>"
      ]
     },
     "metadata": {
      "needs_background": "light"
     },
     "output_type": "display_data"
    }
   ],
   "source": [
    "_ = df_hfi_results.plot.bar(title=\"Hedge Fund Indices: VaR at 5%\", figsize=(12,6), ylabel='VaR')"
   ]
  },
  {
   "cell_type": "markdown",
   "id": "43446cd5",
   "metadata": {},
   "source": [
    "Como se observa, en algunos casos, el VaR de Cornish-Fisher es inferior, es decir, estima una pérdida menor que la que se obtendría con una hipótesis gaussiana pura. Esto puede ocurrir si la asimetría observada es positiva (\"Short Selling\" and \"Global Macro\")"
   ]
  },
  {
   "cell_type": "code",
   "execution_count": 23,
   "id": "722f5c1c",
   "metadata": {
    "ExecuteTime": {
     "end_time": "2021-08-27T12:13:11.588933Z",
     "start_time": "2021-08-27T12:13:11.573026Z"
    }
   },
   "outputs": [
    {
     "data": {
      "text/plain": [
       "Global Macro              0.982922\n",
       "Short Selling             0.767975\n",
       "CTA Global                0.173699\n",
       "Funds Of Funds           -0.361783\n",
       "Long/Short Equity        -0.390227\n",
       "Emerging Markets         -1.167067\n",
       "Distressed Securities    -1.300842\n",
       "Merger Arbitrage         -1.320083\n",
       "Event Driven             -1.409154\n",
       "Relative Value           -1.815470\n",
       "Equity Market Neutral    -2.124435\n",
       "Convertible Arbitrage    -2.639592\n",
       "Fixed Income Arbitrage   -3.940320\n",
       "dtype: float64"
      ]
     },
     "execution_count": 23,
     "metadata": {},
     "output_type": "execute_result"
    }
   ],
   "source": [
    "erk.skewness(df_hfi).sort_values(ascending=False)"
   ]
  },
  {
   "cell_type": "markdown",
   "id": "91bfd6a0",
   "metadata": {},
   "source": [
    "### CVaR\n",
    "\n",
    "Valor promedio de pérdidas sobre una probabilidad determinada"
   ]
  },
  {
   "cell_type": "code",
   "execution_count": 24,
   "id": "8e4efc18",
   "metadata": {
    "ExecuteTime": {
     "end_time": "2021-08-27T12:13:11.606778Z",
     "start_time": "2021-08-27T12:13:11.592525Z"
    }
   },
   "outputs": [],
   "source": [
    "def cvar_historic(r, level=5):\n",
    "    \"\"\"\n",
    "    Computes the Conditional VaR of Series or DataFrame\n",
    "    \"\"\"\n",
    "    if isinstance(r, pd.Series):\n",
    "        is_beyond = r <= -var_historic(r, level=level)\n",
    "        return -r[is_beyond].mean()\n",
    "    elif isinstance(r, pd.DataFrame):\n",
    "        return r.aggregate(cvar_historic, level=level)\n",
    "    else:\n",
    "        raise TypeError(\"Expected r to be a Series or DataFrame\")"
   ]
  },
  {
   "cell_type": "code",
   "execution_count": 25,
   "id": "946ac73a",
   "metadata": {
    "ExecuteTime": {
     "end_time": "2021-08-27T12:13:11.622350Z",
     "start_time": "2021-08-27T12:13:11.607706Z"
    }
   },
   "outputs": [],
   "source": [
    "def cvar_gaussian(r, level=5):\n",
    "    \"\"\"\n",
    "    Computes the Conditional VaR of Series or DataFrame\n",
    "    \"\"\"     \n",
    "        \n",
    "    if isinstance(r, pd.Series):\n",
    "        is_beyond = r <= -var_gaussian(r, level=level)\n",
    "        return -r[is_beyond].mean()\n",
    "    \n",
    "    \n",
    "    elif isinstance(r, pd.DataFrame):\n",
    "        return r.aggregate(cvar_gaussian, level=level)\n",
    "    else:\n",
    "        raise TypeError(\"Expected r to be a Series or DataFrame\")"
   ]
  },
  {
   "cell_type": "code",
   "execution_count": 26,
   "id": "21838066",
   "metadata": {
    "ExecuteTime": {
     "end_time": "2021-08-27T12:13:11.637219Z",
     "start_time": "2021-08-27T12:13:11.623311Z"
    }
   },
   "outputs": [],
   "source": [
    "def cvar_cornish_fisher(r, level=5):\n",
    "    \"\"\"\n",
    "    Computes the Conditional VaR of Series or DataFrame\n",
    "    \"\"\"     \n",
    "        \n",
    "    if isinstance(r, pd.Series):\n",
    "        is_beyond = r <= -var_cornish_fisher(r, level=level)\n",
    "        return -r[is_beyond].mean()\n",
    "    \n",
    "    \n",
    "    elif isinstance(r, pd.DataFrame):\n",
    "        return r.aggregate(cvar_cornish_fisher, level=level)\n",
    "    else:\n",
    "        raise TypeError(\"Expected r to be a Series or DataFrame\")"
   ]
  },
  {
   "cell_type": "code",
   "execution_count": 27,
   "id": "75dc42ce",
   "metadata": {
    "ExecuteTime": {
     "end_time": "2021-08-27T12:13:11.657259Z",
     "start_time": "2021-08-27T12:13:11.638164Z"
    }
   },
   "outputs": [
    {
     "data": {
      "text/plain": [
       "Global Macro              0.029333\n",
       "Equity Market Neutral     0.036100\n",
       "Merger Arbitrage          0.036233\n",
       "Relative Value            0.052367\n",
       "CTA Global                0.054767\n",
       "Funds Of Funds            0.061133\n",
       "Long/Short Equity         0.061867\n",
       "Distressed Securities     0.070967\n",
       "Event Driven              0.071267\n",
       "Fixed Income Arbitrage    0.072467\n",
       "Convertible Arbitrage     0.086100\n",
       "Short Selling             0.123867\n",
       "Emerging Markets          0.141167\n",
       "dtype: float64"
      ]
     },
     "execution_count": 27,
     "metadata": {},
     "output_type": "execute_result"
    }
   ],
   "source": [
    "# Método 1 - Datos históricos\n",
    "erk.cvar_historic(df_hfi, level=1).sort_values()"
   ]
  },
  {
   "cell_type": "code",
   "execution_count": 28,
   "id": "90a3c5fd",
   "metadata": {
    "ExecuteTime": {
     "end_time": "2021-08-27T12:13:11.678786Z",
     "start_time": "2021-08-27T12:13:11.658246Z"
    }
   },
   "outputs": [
    {
     "data": {
      "text/plain": [
       "Merger Arbitrage          0.027933\n",
       "Equity Market Neutral     0.028060\n",
       "Global Macro              0.030850\n",
       "Relative Value            0.040020\n",
       "Long/Short Equity         0.050571\n",
       "Fixed Income Arbitrage    0.052500\n",
       "CTA Global                0.054767\n",
       "Distressed Securities     0.055600\n",
       "Event Driven              0.057600\n",
       "Funds Of Funds            0.061133\n",
       "Convertible Arbitrage     0.113200\n",
       "Emerging Markets          0.115100\n",
       "Short Selling             0.121275\n",
       "dtype: float64"
      ]
     },
     "execution_count": 28,
     "metadata": {},
     "output_type": "execute_result"
    }
   ],
   "source": [
    "# Método 2 - Gaussian\n",
    "erk.cvar_gaussian(df_hfi, level=1).sort_values()"
   ]
  },
  {
   "cell_type": "code",
   "execution_count": 29,
   "id": "a2bd18da",
   "metadata": {
    "ExecuteTime": {
     "end_time": "2021-08-27T12:13:11.706922Z",
     "start_time": "2021-08-27T12:13:11.679816Z"
    }
   },
   "outputs": [
    {
     "data": {
      "text/plain": [
       "Global Macro              0.026680\n",
       "CTA Global                0.052900\n",
       "Merger Arbitrage          0.054400\n",
       "Equity Market Neutral     0.058700\n",
       "Funds Of Funds            0.061133\n",
       "Relative Value            0.061500\n",
       "Long/Short Equity         0.061867\n",
       "Event Driven              0.071267\n",
       "Distressed Securities     0.080550\n",
       "Fixed Income Arbitrage    0.083400\n",
       "Convertible Arbitrage     0.113200\n",
       "Short Selling             0.119160\n",
       "Emerging Markets          0.162650\n",
       "dtype: float64"
      ]
     },
     "execution_count": 29,
     "metadata": {},
     "output_type": "execute_result"
    }
   ],
   "source": [
    "# Método 2 - Gaussian\n",
    "erk.cvar_cornish_fisher(df_hfi, level=1).sort_values()"
   ]
  }
 ],
 "metadata": {
  "kernelspec": {
   "display_name": "Python 3.8.5 64-bit ('AITGG': conda)",
   "language": "python",
   "name": "python385jvsc74a57bd04592e64615f769e19d02d67efecdf24dbbde8900a22a54873431e68806567084"
  },
  "language_info": {
   "codemirror_mode": {
    "name": "ipython",
    "version": 3
   },
   "file_extension": ".py",
   "mimetype": "text/x-python",
   "name": "python",
   "nbconvert_exporter": "python",
   "pygments_lexer": "ipython3",
   "version": "3.8.5"
  },
  "nbTranslate": {
   "displayLangs": [
    "*"
   ],
   "hotkey": "alt-t",
   "langInMainMenu": true,
   "sourceLang": "en",
   "targetLang": "fr",
   "useGoogleTranslate": true
  },
  "toc": {
   "base_numbering": 1,
   "nav_menu": {},
   "number_sections": true,
   "sideBar": true,
   "skip_h1_title": true,
   "title_cell": "Table of Contents",
   "title_sidebar": "Contents",
   "toc_cell": true,
   "toc_position": {
    "height": "calc(100% - 180px)",
    "left": "10px",
    "top": "150px",
    "width": "288px"
   },
   "toc_section_display": true,
   "toc_window_display": true
  },
  "varInspector": {
   "cols": {
    "lenName": 16,
    "lenType": 16,
    "lenVar": 40
   },
   "kernels_config": {
    "python": {
     "delete_cmd_postfix": "",
     "delete_cmd_prefix": "del ",
     "library": "var_list.py",
     "varRefreshCmd": "print(var_dic_list())"
    },
    "r": {
     "delete_cmd_postfix": ") ",
     "delete_cmd_prefix": "rm(",
     "library": "var_list.r",
     "varRefreshCmd": "cat(var_dic_list()) "
    }
   },
   "types_to_exclude": [
    "module",
    "function",
    "builtin_function_or_method",
    "instance",
    "_Feature"
   ],
   "window_display": false
  }
 },
 "nbformat": 4,
 "nbformat_minor": 5
}
