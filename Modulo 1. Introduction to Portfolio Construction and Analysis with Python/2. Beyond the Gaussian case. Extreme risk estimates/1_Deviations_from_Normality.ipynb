{
 "cells": [
  {
   "cell_type": "markdown",
   "id": "a816b927",
   "metadata": {
    "toc": true
   },
   "source": [
    "<h1>Table of Contents<span class=\"tocSkip\"></span></h1>\n",
    "<div class=\"toc\"><ul class=\"toc-item\"><li><span><a href=\"#Teoría\" data-toc-modified-id=\"Teoría-1\"><span class=\"toc-item-num\">1&nbsp;&nbsp;</span>Teoría</a></span><ul class=\"toc-item\"><li><span><a href=\"#Desviación-de-la-normalidad\" data-toc-modified-id=\"Desviación-de-la-normalidad-1.1\"><span class=\"toc-item-num\">1.1&nbsp;&nbsp;</span>Desviación de la normalidad</a></span></li></ul></li><li><span><a href=\"#Tipo-Test\" data-toc-modified-id=\"Tipo-Test-2\"><span class=\"toc-item-num\">2&nbsp;&nbsp;</span>Tipo Test</a></span></li><li><span><a href=\"#Práctica\" data-toc-modified-id=\"Práctica-3\"><span class=\"toc-item-num\">3&nbsp;&nbsp;</span>Práctica</a></span><ul class=\"toc-item\"><li><span><a href=\"#Cargar-datos\" data-toc-modified-id=\"Cargar-datos-3.1\"><span class=\"toc-item-num\">3.1&nbsp;&nbsp;</span>Cargar datos</a></span></li><li><span><a href=\"#Asimetría---Skewness\" data-toc-modified-id=\"Asimetría---Skewness-3.2\"><span class=\"toc-item-num\">3.2&nbsp;&nbsp;</span>Asimetría - Skewness</a></span></li><li><span><a href=\"#Kurtosis\" data-toc-modified-id=\"Kurtosis-3.3\"><span class=\"toc-item-num\">3.3&nbsp;&nbsp;</span>Kurtosis</a></span></li><li><span><a href=\"#Test-de-Normalidad---Jarque-Bera\" data-toc-modified-id=\"Test-de-Normalidad---Jarque-Bera-3.4\"><span class=\"toc-item-num\">3.4&nbsp;&nbsp;</span>Test de Normalidad - Jarque-Bera</a></span></li><li><span><a href=\"#CRSP-SmallCap-and-Large-Cap-returns-for-Normality\" data-toc-modified-id=\"CRSP-SmallCap-and-Large-Cap-returns-for-Normality-3.5\"><span class=\"toc-item-num\">3.5&nbsp;&nbsp;</span>CRSP SmallCap and Large Cap returns for Normality</a></span></li></ul></li></ul></div>"
   ]
  },
  {
   "cell_type": "markdown",
   "id": "b62f3bad",
   "metadata": {},
   "source": [
    "## Teoría"
   ]
  },
  {
   "cell_type": "markdown",
   "id": "24b80f40",
   "metadata": {},
   "source": [
    "### Desviación de la normalidad\n",
    "\n",
    "Las desviaciones de la normalidad permiten argumentar que los rendimientos reales de las series temporales de diferentes clases de activos en realidad no se distribuyen normalmente de tal manera que una suposición normal es simplemente una suposición simplificadora. \n",
    "\n",
    "\n",
    "Por ejemplo, el siguiente ejemplo corresponde a los rendimientos obtenidos en un activo simulado. En este caso, estamos simulando devoluciones diarias de stock en el que se asume una distribución normal. Cuando asumimos una distribución normal, lo que vemos es que existe muy poca probabilidad de que los rendimientos de activos adquieran valores positivos muy grandes o valores negativos muy grandes. En este caso particular, sólo hay un 0.5 por ciento de probabilidad de obtener un rendimiento diario superior al 2% o un rendimiento diario por debajo del 2%. \n",
    "\n",
    "\n",
    "<img src=\"images/Stock_simulado.png\" width=\"400\" height=\"200\">\n",
    "\n",
    "\n",
    "El siguiente ejemplo representa la serie temporal de retornos reales de un determinado activo. En este caso, estamos viendo el retorno diario de stock y el retorno real de stock. Lo que encontramos es que obtienes beneficios mucho mayores en comparación con la suposición gaussiana. En particular, vemos en esta imagen que los retornos diarios pueden ser mayores al 10% o tan malos como menos 10%. También vemos que la probabilidad de obtener retornos por encima o por debajo del 2% es bastante alta. Esto es mucho más frecuente. \n",
    "\n",
    "\n",
    "<img src=\"images/Stock_Real.png\" width=\"400\" height=\"200\">\n",
    "\n",
    "\n",
    "En otras palabras, llegamos a la conclusión de que la hipótesis de distribución normal es una suposición simplificadora que subestiman la magnitud de los rendimientos extremos. Para hacer justicia a la forma real de la distribución de retorno, debemos ir más allá de la media y la varianza y, además, utilizar la asimetría y la kurtosis.\n",
    "\n",
    "- La asimetría es una medida de asimetría de la distribución. La distribución normal es una forma de campana simétrica. Por lo tanto, la probabilidad de obtener un resultado por debajo de la media es exactamente la misma que la probabilidad de obtener un resultado por encima de la media. \n",
    "\n",
    "<img src=\"images/asimetria.png\" width=\"400\" height=\"400\">\n",
    "\n",
    "    Para calcular la asimetría se utiliza la siguiente ecuación:\n",
    "\n",
    "\\begin{align}\n",
    "S(R) = \\frac{E[(R-E(R))^{3}]}{[Var(R)]^{3/2}}=\\frac{E[(R-E(R))^{3}]}{[\\sigma(R)]^{3}}\n",
    "\\end{align}\n",
    "\n",
    "    - Si la distribución tiene una asimetría negativa entonces, la probabilidad de obtener un resultado por debajo de la media es mayor que la probabilidad de obtener un resultado por encima de la media.\n",
    "    \n",
    "    - Si la distribución tiene una asimetría positiva entonces, la probabilidad de obtener un resultado por encima de la media es mayor que la probabilidad de obtener un resultado por debajo de la media.\n",
    "    \n",
    "- La kurtosis es una medida del grosor de la cola de la distribución, en otras palabras, mide cuán escarpada o achatada es una curva de distribución. La distribución gaussiana tiene colas muy delgadas ya que disminuye muy bruscamente a cero, lo que implica que precisamente, la probabilidad de obtener resultados negativos o positivos muy grandes tiende a ser muy pequeña. En rendimientos reales esos retornos de distribución como hemos visto tienden a tener colas más gruesas. \n",
    "\n",
    "<img src=\"images/kurtosis.png\" width=\"400\" height=\"400\">\n",
    "\n",
    "    Para calcular la kurtosis se utiliza la siguiente ecuación:\n",
    "\n",
    "\\begin{align}\n",
    "K(R) = \\frac{E[(R-E(R))^{4}]}{[Var(R)]^{2}}=\\frac{E[(R-E(R))^{3}]}{[\\sigma(R)]^{4}}\n",
    "\\end{align}  \n",
    "    \n",
    "Para la distribución gaussiana, la kurtosis es igual a tres y, por lo tanto, cualquier distribución de retorno que tenga una kurtosis superior a tres se denomina una __distribución de cola de gruesa__. \n",
    "\n",
    "    Para calcular el exceso de kurtosis se utiliza la siguiente ecuación:\n",
    "    \n",
    "\\begin{align}\n",
    "Exceso_K(R) = K(R) - 3\n",
    "\\end{align}  \n",
    "\n",
    "Para comprobar si una distribución es estadísticamente distinta a una distribución normal es posible utilizar o preparar diferentes test estadísticos como el test de Jarque-Bera (uno de los más utilizados). Para ello, se aplica la siguiente ecuación:\n",
    "\n",
    "\\begin{align}\n",
    "JB = \\frac{N}{6}(S^{2} + \\frac{ (K-3)^{2}}{4}) --> Chi-squared(2)\n",
    "\\end{align}  \n",
    "\n",
    "__Ejemplo 1.__\n",
    "\n",
    "La siguiente tabla de retornos de diferentes activos no se distribuyen normalmente. Si nos fijamos en los números de asimetría, hay muchos de ellos que son realmente negativos y también fuertemente negativos. Por lo tanto, la probabilidad de que los rendimientos se encuentren por debajo de la media es realmente mayor que la probabilidad de estar por encima de la media, lo que obviamente no es una buena noticia. \n",
    "\n",
    "<img src=\"images/evidence_non_normality.png\" width=\"400\" height=\"400\">\n",
    "\n",
    "\n",
    "Cuando miramos la kurtosis o el exceso de kurtosis, se obtienen números que son muy positivos, es decir, la mayoría de las veces, la kurtosis de la distribución del retorno es superior a tres. Además, en realidad es mucho más alto que tres en la mayoría de los casos llegando a exceder el valor de 10 y 20. Esto sugiere que los rendimientos de los fondos de cobertura están muy mal distribuidos. \n",
    "\n",
    "A continuación, es posible preparar una prueba estadística que nos indique si una distribución dada es o no estadísticamente diferente de la distribución normal utilizando el test de Jarque-Bera. \n",
    "\n",
    "En este test, bajo la hipótesis nula de un retorno normalmente distribuido, cuando la asimetría es cero, el exceso de Kurtosis es cero, y las estadísticas Jarque-Bera luego toma el valor igual a cero. Ahora, por supuesto, en una muestra dada, podríamos encontrar desviación de la normalidad.\n",
    "\n",
    "\n",
    "__Conclusiones__\n",
    "- La mayoría de los rendimientos de activos no se distribuyen normalmente. \n",
    "- Suponer que los rendimientos se distribuyen supone un gran costo ya que es una función simplificadora porque esas desviaciones de la normalidad, pueden ser bastante severas con mayor probabilidad que con la distribución normal. \n",
    "- Una vez ententido este concepto, se introducen las medidas de riesgo extremo que van más allá de la volatilidad y que van a hacer un trabajo mucho mejor en la medición de estos riesgos extremos a la baja (propio de la distribución normal)."
   ]
  },
  {
   "cell_type": "markdown",
   "id": "d6ce09ac",
   "metadata": {},
   "source": [
    "__NOTA__\n",
    "\n",
    "<div class=\"alert alert-info\">\n",
    "\n",
    "Anteriormente se ha afirmado que en el caso de que la distribución de rendimientos tenga asimetría negativa, la probabilidad de tener un rendimiento por debajo de la media es mayor que en el caso de asimetría cero.\n",
    "\n",
    "En realidad, esta afirmación es incorrecta. En una distribución con asimetría negativa, la media suele ser menor que la mediana porque los pocos resultados bajos tienden a desplazar la media hacia la izquierda. En consecuencia, si la media es inferior a la mediana, la probabilidad de un resultado superior a la media es mayor que la probabilidad de un resultado inferior a la media. \n",
    "\n",
    "El mensaje principal aquí es que el uso de la volatilidad como estimación del riesgo para una distribución con sesgo negativo puede llevar a subestimar el riesgo de cola asociado a los fuertes rendimientos negativos.\n",
    "</div>"
   ]
  },
  {
   "cell_type": "markdown",
   "id": "fe241d11",
   "metadata": {},
   "source": [
    "<hr style=\"height:5px;border-width:0;color:orange;background-color:orange\">\n"
   ]
  },
  {
   "cell_type": "markdown",
   "id": "39444197",
   "metadata": {},
   "source": [
    "## Tipo Test\n",
    "\n",
    "__Pregunta 1. Considere dos distribuciones de cartera con media = 0, volatilidad = 1 para ambas, un valor de asimetría = -0,75 y de curtosis = 6,06 para la azul, frente a 0 y 3, respectivamente, para la rosa. ¿Cuál prefieres?__\n",
    "\n",
    "La rosa es mejor distribución, ya que tiene una distribución gaussiana y una menor probabilidad de pérdidas graves en comparación con la azul\n",
    "\n",
    "\n",
    "__Pregunta 2. La rentabilidad mensual más baja registrada para el índice de fondos de cobertura Global Macro en el periodo 1997-2018 es del -3.1%, que resulta estar 2.5 desviaciones estándar por debajo de la media histórica. Este evento se produciría con una probabilidad del 0.63% si la distribución de la rentabilidad fuera normal. Por favor, indique cuántos meses de media habría que esperar para observar tal evento.__\n",
    "\n",
    "La respuesta viene dada por el 1/0.63%, que es de 158.73 meses, es decir, 13.23 años. "
   ]
  },
  {
   "cell_type": "markdown",
   "id": "4a10ad70",
   "metadata": {},
   "source": [
    "<hr style=\"height:5px;border-width:0;color:orange;background-color:orange\">"
   ]
  },
  {
   "cell_type": "markdown",
   "id": "c38f1c93",
   "metadata": {},
   "source": [
    "## Práctica"
   ]
  },
  {
   "cell_type": "code",
   "execution_count": 3,
   "id": "299a4ad8",
   "metadata": {
    "ExecuteTime": {
     "end_time": "2021-08-24T11:18:43.717168Z",
     "start_time": "2021-08-24T11:18:43.686059Z"
    }
   },
   "outputs": [
    {
     "name": "stdout",
     "output_type": "stream",
     "text": [
      "The autoreload extension is already loaded. To reload it, use:\n",
      "  %reload_ext autoreload\n"
     ]
    }
   ],
   "source": [
    "# Librerías\n",
    "import pandas as pd\n",
    "import scipy.stats # skewness and kurtosis\n",
    "import numpy as np\n",
    "from modules import edhec_risk_kit as erk\n",
    "\n",
    "# Modo desarrollo del módulo edhec_risk_kit\n",
    "%load_ext autoreload\n",
    "%autoreload 2"
   ]
  },
  {
   "cell_type": "markdown",
   "id": "3558f994",
   "metadata": {},
   "source": [
    "### Cargar datos"
   ]
  },
  {
   "cell_type": "code",
   "execution_count": 4,
   "id": "fa739d99",
   "metadata": {
    "ExecuteTime": {
     "end_time": "2021-08-24T11:18:46.507221Z",
     "start_time": "2021-08-24T11:18:46.477085Z"
    }
   },
   "outputs": [],
   "source": [
    "def get_hfi_returns(directory):\n",
    "    \"\"\"\n",
    "    Load and format the EDHEC Hedge Fund Index Returns\n",
    "    \"\"\"\n",
    "    filename = directory + 'edhec-hedgefundindices.csv'\n",
    "    hfi = pd.read_csv(filename,\n",
    "                      header=0, index_col=0, parse_dates=True)\n",
    "    hfi = hfi/100\n",
    "    hfi.index = hfi.index.to_period('M')\n",
    "\n",
    "    return hfi"
   ]
  },
  {
   "cell_type": "code",
   "execution_count": 6,
   "id": "0103e46c",
   "metadata": {
    "ExecuteTime": {
     "end_time": "2021-08-24T11:21:08.579209Z",
     "start_time": "2021-08-24T11:21:08.497547Z"
    }
   },
   "outputs": [
    {
     "data": {
      "text/html": [
       "<div>\n",
       "<style scoped>\n",
       "    .dataframe tbody tr th:only-of-type {\n",
       "        vertical-align: middle;\n",
       "    }\n",
       "\n",
       "    .dataframe tbody tr th {\n",
       "        vertical-align: top;\n",
       "    }\n",
       "\n",
       "    .dataframe thead th {\n",
       "        text-align: right;\n",
       "    }\n",
       "</style>\n",
       "<table border=\"1\" class=\"dataframe\">\n",
       "  <thead>\n",
       "    <tr style=\"text-align: right;\">\n",
       "      <th></th>\n",
       "      <th>Convertible Arbitrage</th>\n",
       "      <th>CTA Global</th>\n",
       "      <th>Distressed Securities</th>\n",
       "      <th>Emerging Markets</th>\n",
       "      <th>Equity Market Neutral</th>\n",
       "      <th>Event Driven</th>\n",
       "      <th>Fixed Income Arbitrage</th>\n",
       "      <th>Global Macro</th>\n",
       "      <th>Long/Short Equity</th>\n",
       "      <th>Merger Arbitrage</th>\n",
       "      <th>Relative Value</th>\n",
       "      <th>Short Selling</th>\n",
       "      <th>Funds Of Funds</th>\n",
       "    </tr>\n",
       "    <tr>\n",
       "      <th>date</th>\n",
       "      <th></th>\n",
       "      <th></th>\n",
       "      <th></th>\n",
       "      <th></th>\n",
       "      <th></th>\n",
       "      <th></th>\n",
       "      <th></th>\n",
       "      <th></th>\n",
       "      <th></th>\n",
       "      <th></th>\n",
       "      <th></th>\n",
       "      <th></th>\n",
       "      <th></th>\n",
       "    </tr>\n",
       "  </thead>\n",
       "  <tbody>\n",
       "    <tr>\n",
       "      <th>1997-01</th>\n",
       "      <td>0.0119</td>\n",
       "      <td>0.0393</td>\n",
       "      <td>0.0178</td>\n",
       "      <td>0.0791</td>\n",
       "      <td>0.0189</td>\n",
       "      <td>0.0213</td>\n",
       "      <td>0.0191</td>\n",
       "      <td>0.0573</td>\n",
       "      <td>0.0281</td>\n",
       "      <td>0.0150</td>\n",
       "      <td>0.0180</td>\n",
       "      <td>-0.0166</td>\n",
       "      <td>0.0317</td>\n",
       "    </tr>\n",
       "    <tr>\n",
       "      <th>1997-02</th>\n",
       "      <td>0.0123</td>\n",
       "      <td>0.0298</td>\n",
       "      <td>0.0122</td>\n",
       "      <td>0.0525</td>\n",
       "      <td>0.0101</td>\n",
       "      <td>0.0084</td>\n",
       "      <td>0.0122</td>\n",
       "      <td>0.0175</td>\n",
       "      <td>-0.0006</td>\n",
       "      <td>0.0034</td>\n",
       "      <td>0.0118</td>\n",
       "      <td>0.0426</td>\n",
       "      <td>0.0106</td>\n",
       "    </tr>\n",
       "    <tr>\n",
       "      <th>1997-03</th>\n",
       "      <td>0.0078</td>\n",
       "      <td>-0.0021</td>\n",
       "      <td>-0.0012</td>\n",
       "      <td>-0.0120</td>\n",
       "      <td>0.0016</td>\n",
       "      <td>-0.0023</td>\n",
       "      <td>0.0109</td>\n",
       "      <td>-0.0119</td>\n",
       "      <td>-0.0084</td>\n",
       "      <td>0.0060</td>\n",
       "      <td>0.0010</td>\n",
       "      <td>0.0778</td>\n",
       "      <td>-0.0077</td>\n",
       "    </tr>\n",
       "    <tr>\n",
       "      <th>1997-04</th>\n",
       "      <td>0.0086</td>\n",
       "      <td>-0.0170</td>\n",
       "      <td>0.0030</td>\n",
       "      <td>0.0119</td>\n",
       "      <td>0.0119</td>\n",
       "      <td>-0.0005</td>\n",
       "      <td>0.0130</td>\n",
       "      <td>0.0172</td>\n",
       "      <td>0.0084</td>\n",
       "      <td>-0.0001</td>\n",
       "      <td>0.0122</td>\n",
       "      <td>-0.0129</td>\n",
       "      <td>0.0009</td>\n",
       "    </tr>\n",
       "    <tr>\n",
       "      <th>1997-05</th>\n",
       "      <td>0.0156</td>\n",
       "      <td>-0.0015</td>\n",
       "      <td>0.0233</td>\n",
       "      <td>0.0315</td>\n",
       "      <td>0.0189</td>\n",
       "      <td>0.0346</td>\n",
       "      <td>0.0118</td>\n",
       "      <td>0.0108</td>\n",
       "      <td>0.0394</td>\n",
       "      <td>0.0197</td>\n",
       "      <td>0.0173</td>\n",
       "      <td>-0.0737</td>\n",
       "      <td>0.0275</td>\n",
       "    </tr>\n",
       "  </tbody>\n",
       "</table>\n",
       "</div>"
      ],
      "text/plain": [
       "         Convertible Arbitrage  CTA Global  Distressed Securities  \\\n",
       "date                                                                \n",
       "1997-01                 0.0119      0.0393                 0.0178   \n",
       "1997-02                 0.0123      0.0298                 0.0122   \n",
       "1997-03                 0.0078     -0.0021                -0.0012   \n",
       "1997-04                 0.0086     -0.0170                 0.0030   \n",
       "1997-05                 0.0156     -0.0015                 0.0233   \n",
       "\n",
       "         Emerging Markets  Equity Market Neutral  Event Driven  \\\n",
       "date                                                             \n",
       "1997-01            0.0791                 0.0189        0.0213   \n",
       "1997-02            0.0525                 0.0101        0.0084   \n",
       "1997-03           -0.0120                 0.0016       -0.0023   \n",
       "1997-04            0.0119                 0.0119       -0.0005   \n",
       "1997-05            0.0315                 0.0189        0.0346   \n",
       "\n",
       "         Fixed Income Arbitrage  Global Macro  Long/Short Equity  \\\n",
       "date                                                               \n",
       "1997-01                  0.0191        0.0573             0.0281   \n",
       "1997-02                  0.0122        0.0175            -0.0006   \n",
       "1997-03                  0.0109       -0.0119            -0.0084   \n",
       "1997-04                  0.0130        0.0172             0.0084   \n",
       "1997-05                  0.0118        0.0108             0.0394   \n",
       "\n",
       "         Merger Arbitrage  Relative Value  Short Selling  Funds Of Funds  \n",
       "date                                                                      \n",
       "1997-01            0.0150          0.0180        -0.0166          0.0317  \n",
       "1997-02            0.0034          0.0118         0.0426          0.0106  \n",
       "1997-03            0.0060          0.0010         0.0778         -0.0077  \n",
       "1997-04           -0.0001          0.0122        -0.0129          0.0009  \n",
       "1997-05            0.0197          0.0173        -0.0737          0.0275  "
      ]
     },
     "execution_count": 6,
     "metadata": {},
     "output_type": "execute_result"
    }
   ],
   "source": [
    "df_hfi = erk.get_hfi_returns(directory='../data/')\n",
    "df_hfi.head()"
   ]
  },
  {
   "cell_type": "markdown",
   "id": "0f11d91f",
   "metadata": {},
   "source": [
    "### Asimetría - Skewness\n",
    "\n",
    "__Ecuación.__\n",
    "\n",
    "$$ S(R) = \\frac{E[ (R-E(R))^3 ]}{\\sigma_R^3} $$\n",
    "\n",
    "\n",
    "Intuitivamente, una asimetría con valor negativo significa que se obtienen más rendimientos negativos de los que se habrían esperado si los rendimientos se distribuyeran como la distribución normal.\n",
    "\n",
    "Otra forma de pensar en ello es que si los rendimientos se distribuyen normalmente, la media y la mediana estarían muy cerca. Sin embargo, si están sesgados negativamente, el valor esperado, es decir, la media, es menor que la mediana. Si están sesgados positivamente, el valor esperado (de nuevo, la media) es mayor que la mediana."
   ]
  },
  {
   "cell_type": "code",
   "execution_count": 7,
   "id": "b4bebd06",
   "metadata": {
    "ExecuteTime": {
     "end_time": "2021-08-24T11:21:13.250618Z",
     "start_time": "2021-08-24T11:21:13.217655Z"
    }
   },
   "outputs": [
    {
     "data": {
      "text/html": [
       "<div>\n",
       "<style scoped>\n",
       "    .dataframe tbody tr th:only-of-type {\n",
       "        vertical-align: middle;\n",
       "    }\n",
       "\n",
       "    .dataframe tbody tr th {\n",
       "        vertical-align: top;\n",
       "    }\n",
       "\n",
       "    .dataframe thead th {\n",
       "        text-align: right;\n",
       "    }\n",
       "</style>\n",
       "<table border=\"1\" class=\"dataframe\">\n",
       "  <thead>\n",
       "    <tr style=\"text-align: right;\">\n",
       "      <th></th>\n",
       "      <th>Mean</th>\n",
       "      <th>Median</th>\n",
       "      <th>Mean&gt;Median</th>\n",
       "    </tr>\n",
       "  </thead>\n",
       "  <tbody>\n",
       "    <tr>\n",
       "      <th>Convertible Arbitrage</th>\n",
       "      <td>0.005508</td>\n",
       "      <td>0.0065</td>\n",
       "      <td>False</td>\n",
       "    </tr>\n",
       "    <tr>\n",
       "      <th>CTA Global</th>\n",
       "      <td>0.004074</td>\n",
       "      <td>0.0014</td>\n",
       "      <td>True</td>\n",
       "    </tr>\n",
       "    <tr>\n",
       "      <th>Distressed Securities</th>\n",
       "      <td>0.006946</td>\n",
       "      <td>0.0089</td>\n",
       "      <td>False</td>\n",
       "    </tr>\n",
       "    <tr>\n",
       "      <th>Emerging Markets</th>\n",
       "      <td>0.006253</td>\n",
       "      <td>0.0096</td>\n",
       "      <td>False</td>\n",
       "    </tr>\n",
       "    <tr>\n",
       "      <th>Equity Market Neutral</th>\n",
       "      <td>0.004498</td>\n",
       "      <td>0.0051</td>\n",
       "      <td>False</td>\n",
       "    </tr>\n",
       "    <tr>\n",
       "      <th>Event Driven</th>\n",
       "      <td>0.006344</td>\n",
       "      <td>0.0084</td>\n",
       "      <td>False</td>\n",
       "    </tr>\n",
       "    <tr>\n",
       "      <th>Fixed Income Arbitrage</th>\n",
       "      <td>0.004365</td>\n",
       "      <td>0.0055</td>\n",
       "      <td>False</td>\n",
       "    </tr>\n",
       "    <tr>\n",
       "      <th>Global Macro</th>\n",
       "      <td>0.005403</td>\n",
       "      <td>0.0038</td>\n",
       "      <td>True</td>\n",
       "    </tr>\n",
       "    <tr>\n",
       "      <th>Long/Short Equity</th>\n",
       "      <td>0.006331</td>\n",
       "      <td>0.0079</td>\n",
       "      <td>False</td>\n",
       "    </tr>\n",
       "    <tr>\n",
       "      <th>Merger Arbitrage</th>\n",
       "      <td>0.005356</td>\n",
       "      <td>0.0060</td>\n",
       "      <td>False</td>\n",
       "    </tr>\n",
       "    <tr>\n",
       "      <th>Relative Value</th>\n",
       "      <td>0.005792</td>\n",
       "      <td>0.0067</td>\n",
       "      <td>False</td>\n",
       "    </tr>\n",
       "    <tr>\n",
       "      <th>Short Selling</th>\n",
       "      <td>-0.001701</td>\n",
       "      <td>-0.0053</td>\n",
       "      <td>True</td>\n",
       "    </tr>\n",
       "    <tr>\n",
       "      <th>Funds Of Funds</th>\n",
       "      <td>0.004262</td>\n",
       "      <td>0.0052</td>\n",
       "      <td>False</td>\n",
       "    </tr>\n",
       "  </tbody>\n",
       "</table>\n",
       "</div>"
      ],
      "text/plain": [
       "                            Mean  Median  Mean>Median\n",
       "Convertible Arbitrage   0.005508  0.0065        False\n",
       "CTA Global              0.004074  0.0014         True\n",
       "Distressed Securities   0.006946  0.0089        False\n",
       "Emerging Markets        0.006253  0.0096        False\n",
       "Equity Market Neutral   0.004498  0.0051        False\n",
       "Event Driven            0.006344  0.0084        False\n",
       "Fixed Income Arbitrage  0.004365  0.0055        False\n",
       "Global Macro            0.005403  0.0038         True\n",
       "Long/Short Equity       0.006331  0.0079        False\n",
       "Merger Arbitrage        0.005356  0.0060        False\n",
       "Relative Value          0.005792  0.0067        False\n",
       "Short Selling          -0.001701 -0.0053         True\n",
       "Funds Of Funds          0.004262  0.0052        False"
      ]
     },
     "execution_count": 7,
     "metadata": {},
     "output_type": "execute_result"
    }
   ],
   "source": [
    "df_analisis = pd.concat([df_hfi.mean(), df_hfi.median(), df_hfi.mean()>df_hfi.median()], axis=1)\n",
    "df_analisis.columns = ['Mean', 'Median', 'Mean>Median']\n",
    "df_analisis"
   ]
  },
  {
   "cell_type": "code",
   "execution_count": 8,
   "id": "0279af77",
   "metadata": {
    "ExecuteTime": {
     "end_time": "2021-08-24T11:21:15.824473Z",
     "start_time": "2021-08-24T11:21:15.793733Z"
    }
   },
   "outputs": [],
   "source": [
    "def skewness(r):\n",
    "    \"\"\"\n",
    "    Alternativa a scipy.stats.skew()\n",
    "    \n",
    "    Calcula la asimetría de una serie temporal de rendimientos de entrada\n",
    "    \n",
    "    Args:\n",
    "    -----\n",
    "    r {[pandas.Series or pandas.DataFrame]} -- Serie temporal de rendimientos\n",
    "    \n",
    "    \n",
    "    Returns:\n",
    "    -----\n",
    "    skewness {[float or Series]} -- Valor de asimetría\n",
    "    \"\"\"\n",
    "    demeaned_r = r - r.mean()\n",
    "    sigma_r = r.std(ddof=0) # population standard deviation (ddof=0)\n",
    "    exp_demeaned_r = (demeaned_r**3).mean()\n",
    "    skewness = exp_demeaned_r/sigma_r**3\n",
    "    return skewness"
   ]
  },
  {
   "cell_type": "code",
   "execution_count": 9,
   "id": "152b3870",
   "metadata": {
    "ExecuteTime": {
     "end_time": "2021-08-24T11:21:19.915228Z",
     "start_time": "2021-08-24T11:21:19.874891Z"
    }
   },
   "outputs": [
    {
     "data": {
      "text/html": [
       "<div>\n",
       "<style scoped>\n",
       "    .dataframe tbody tr th:only-of-type {\n",
       "        vertical-align: middle;\n",
       "    }\n",
       "\n",
       "    .dataframe tbody tr th {\n",
       "        vertical-align: top;\n",
       "    }\n",
       "\n",
       "    .dataframe thead th {\n",
       "        text-align: right;\n",
       "    }\n",
       "</style>\n",
       "<table border=\"1\" class=\"dataframe\">\n",
       "  <thead>\n",
       "    <tr style=\"text-align: right;\">\n",
       "      <th></th>\n",
       "      <th>Mean</th>\n",
       "      <th>Median</th>\n",
       "      <th>Mean&gt;Median</th>\n",
       "      <th>skewness</th>\n",
       "    </tr>\n",
       "  </thead>\n",
       "  <tbody>\n",
       "    <tr>\n",
       "      <th>Convertible Arbitrage</th>\n",
       "      <td>0.005508</td>\n",
       "      <td>0.0065</td>\n",
       "      <td>False</td>\n",
       "      <td>-2.639592</td>\n",
       "    </tr>\n",
       "    <tr>\n",
       "      <th>CTA Global</th>\n",
       "      <td>0.004074</td>\n",
       "      <td>0.0014</td>\n",
       "      <td>True</td>\n",
       "      <td>0.173699</td>\n",
       "    </tr>\n",
       "    <tr>\n",
       "      <th>Distressed Securities</th>\n",
       "      <td>0.006946</td>\n",
       "      <td>0.0089</td>\n",
       "      <td>False</td>\n",
       "      <td>-1.300842</td>\n",
       "    </tr>\n",
       "    <tr>\n",
       "      <th>Emerging Markets</th>\n",
       "      <td>0.006253</td>\n",
       "      <td>0.0096</td>\n",
       "      <td>False</td>\n",
       "      <td>-1.167067</td>\n",
       "    </tr>\n",
       "    <tr>\n",
       "      <th>Equity Market Neutral</th>\n",
       "      <td>0.004498</td>\n",
       "      <td>0.0051</td>\n",
       "      <td>False</td>\n",
       "      <td>-2.124435</td>\n",
       "    </tr>\n",
       "    <tr>\n",
       "      <th>Event Driven</th>\n",
       "      <td>0.006344</td>\n",
       "      <td>0.0084</td>\n",
       "      <td>False</td>\n",
       "      <td>-1.409154</td>\n",
       "    </tr>\n",
       "    <tr>\n",
       "      <th>Fixed Income Arbitrage</th>\n",
       "      <td>0.004365</td>\n",
       "      <td>0.0055</td>\n",
       "      <td>False</td>\n",
       "      <td>-3.940320</td>\n",
       "    </tr>\n",
       "    <tr>\n",
       "      <th>Global Macro</th>\n",
       "      <td>0.005403</td>\n",
       "      <td>0.0038</td>\n",
       "      <td>True</td>\n",
       "      <td>0.982922</td>\n",
       "    </tr>\n",
       "    <tr>\n",
       "      <th>Long/Short Equity</th>\n",
       "      <td>0.006331</td>\n",
       "      <td>0.0079</td>\n",
       "      <td>False</td>\n",
       "      <td>-0.390227</td>\n",
       "    </tr>\n",
       "    <tr>\n",
       "      <th>Merger Arbitrage</th>\n",
       "      <td>0.005356</td>\n",
       "      <td>0.0060</td>\n",
       "      <td>False</td>\n",
       "      <td>-1.320083</td>\n",
       "    </tr>\n",
       "    <tr>\n",
       "      <th>Relative Value</th>\n",
       "      <td>0.005792</td>\n",
       "      <td>0.0067</td>\n",
       "      <td>False</td>\n",
       "      <td>-1.815470</td>\n",
       "    </tr>\n",
       "    <tr>\n",
       "      <th>Short Selling</th>\n",
       "      <td>-0.001701</td>\n",
       "      <td>-0.0053</td>\n",
       "      <td>True</td>\n",
       "      <td>0.767975</td>\n",
       "    </tr>\n",
       "    <tr>\n",
       "      <th>Funds Of Funds</th>\n",
       "      <td>0.004262</td>\n",
       "      <td>0.0052</td>\n",
       "      <td>False</td>\n",
       "      <td>-0.361783</td>\n",
       "    </tr>\n",
       "  </tbody>\n",
       "</table>\n",
       "</div>"
      ],
      "text/plain": [
       "                            Mean  Median  Mean>Median  skewness\n",
       "Convertible Arbitrage   0.005508  0.0065        False -2.639592\n",
       "CTA Global              0.004074  0.0014         True  0.173699\n",
       "Distressed Securities   0.006946  0.0089        False -1.300842\n",
       "Emerging Markets        0.006253  0.0096        False -1.167067\n",
       "Equity Market Neutral   0.004498  0.0051        False -2.124435\n",
       "Event Driven            0.006344  0.0084        False -1.409154\n",
       "Fixed Income Arbitrage  0.004365  0.0055        False -3.940320\n",
       "Global Macro            0.005403  0.0038         True  0.982922\n",
       "Long/Short Equity       0.006331  0.0079        False -0.390227\n",
       "Merger Arbitrage        0.005356  0.0060        False -1.320083\n",
       "Relative Value          0.005792  0.0067        False -1.815470\n",
       "Short Selling          -0.001701 -0.0053         True  0.767975\n",
       "Funds Of Funds          0.004262  0.0052        False -0.361783"
      ]
     },
     "execution_count": 9,
     "metadata": {},
     "output_type": "execute_result"
    }
   ],
   "source": [
    "# Método 1 - Cálculo manual\n",
    "df_analisis['skewness'] = erk.skewness(df_hfi)\n",
    "df_analisis"
   ]
  },
  {
   "cell_type": "code",
   "execution_count": 10,
   "id": "532af517",
   "metadata": {
    "ExecuteTime": {
     "end_time": "2021-08-24T11:21:23.009273Z",
     "start_time": "2021-08-24T11:21:22.975433Z"
    }
   },
   "outputs": [],
   "source": [
    "# Método 2 - scipy.stats\n",
    "df_analisis['skewness_scipy'] = scipy.stats.skew(df_hfi)"
   ]
  },
  {
   "cell_type": "code",
   "execution_count": 11,
   "id": "a61c985b",
   "metadata": {
    "ExecuteTime": {
     "end_time": "2021-08-24T11:21:24.051894Z",
     "start_time": "2021-08-24T11:21:24.011132Z"
    }
   },
   "outputs": [
    {
     "data": {
      "text/html": [
       "<div>\n",
       "<style scoped>\n",
       "    .dataframe tbody tr th:only-of-type {\n",
       "        vertical-align: middle;\n",
       "    }\n",
       "\n",
       "    .dataframe tbody tr th {\n",
       "        vertical-align: top;\n",
       "    }\n",
       "\n",
       "    .dataframe thead th {\n",
       "        text-align: right;\n",
       "    }\n",
       "</style>\n",
       "<table border=\"1\" class=\"dataframe\">\n",
       "  <thead>\n",
       "    <tr style=\"text-align: right;\">\n",
       "      <th></th>\n",
       "      <th>Mean</th>\n",
       "      <th>Median</th>\n",
       "      <th>Mean&gt;Median</th>\n",
       "      <th>skewness</th>\n",
       "      <th>skewness_scipy</th>\n",
       "    </tr>\n",
       "  </thead>\n",
       "  <tbody>\n",
       "    <tr>\n",
       "      <th>Fixed Income Arbitrage</th>\n",
       "      <td>0.004365</td>\n",
       "      <td>0.0055</td>\n",
       "      <td>False</td>\n",
       "      <td>-3.940320</td>\n",
       "      <td>-3.940320</td>\n",
       "    </tr>\n",
       "    <tr>\n",
       "      <th>Convertible Arbitrage</th>\n",
       "      <td>0.005508</td>\n",
       "      <td>0.0065</td>\n",
       "      <td>False</td>\n",
       "      <td>-2.639592</td>\n",
       "      <td>-2.639592</td>\n",
       "    </tr>\n",
       "    <tr>\n",
       "      <th>Equity Market Neutral</th>\n",
       "      <td>0.004498</td>\n",
       "      <td>0.0051</td>\n",
       "      <td>False</td>\n",
       "      <td>-2.124435</td>\n",
       "      <td>-2.124435</td>\n",
       "    </tr>\n",
       "    <tr>\n",
       "      <th>Relative Value</th>\n",
       "      <td>0.005792</td>\n",
       "      <td>0.0067</td>\n",
       "      <td>False</td>\n",
       "      <td>-1.815470</td>\n",
       "      <td>-1.815470</td>\n",
       "    </tr>\n",
       "    <tr>\n",
       "      <th>Event Driven</th>\n",
       "      <td>0.006344</td>\n",
       "      <td>0.0084</td>\n",
       "      <td>False</td>\n",
       "      <td>-1.409154</td>\n",
       "      <td>-1.409154</td>\n",
       "    </tr>\n",
       "    <tr>\n",
       "      <th>Merger Arbitrage</th>\n",
       "      <td>0.005356</td>\n",
       "      <td>0.0060</td>\n",
       "      <td>False</td>\n",
       "      <td>-1.320083</td>\n",
       "      <td>-1.320083</td>\n",
       "    </tr>\n",
       "    <tr>\n",
       "      <th>Distressed Securities</th>\n",
       "      <td>0.006946</td>\n",
       "      <td>0.0089</td>\n",
       "      <td>False</td>\n",
       "      <td>-1.300842</td>\n",
       "      <td>-1.300842</td>\n",
       "    </tr>\n",
       "    <tr>\n",
       "      <th>Emerging Markets</th>\n",
       "      <td>0.006253</td>\n",
       "      <td>0.0096</td>\n",
       "      <td>False</td>\n",
       "      <td>-1.167067</td>\n",
       "      <td>-1.167067</td>\n",
       "    </tr>\n",
       "    <tr>\n",
       "      <th>Long/Short Equity</th>\n",
       "      <td>0.006331</td>\n",
       "      <td>0.0079</td>\n",
       "      <td>False</td>\n",
       "      <td>-0.390227</td>\n",
       "      <td>-0.390227</td>\n",
       "    </tr>\n",
       "    <tr>\n",
       "      <th>Funds Of Funds</th>\n",
       "      <td>0.004262</td>\n",
       "      <td>0.0052</td>\n",
       "      <td>False</td>\n",
       "      <td>-0.361783</td>\n",
       "      <td>-0.361783</td>\n",
       "    </tr>\n",
       "    <tr>\n",
       "      <th>CTA Global</th>\n",
       "      <td>0.004074</td>\n",
       "      <td>0.0014</td>\n",
       "      <td>True</td>\n",
       "      <td>0.173699</td>\n",
       "      <td>0.173699</td>\n",
       "    </tr>\n",
       "    <tr>\n",
       "      <th>Short Selling</th>\n",
       "      <td>-0.001701</td>\n",
       "      <td>-0.0053</td>\n",
       "      <td>True</td>\n",
       "      <td>0.767975</td>\n",
       "      <td>0.767975</td>\n",
       "    </tr>\n",
       "    <tr>\n",
       "      <th>Global Macro</th>\n",
       "      <td>0.005403</td>\n",
       "      <td>0.0038</td>\n",
       "      <td>True</td>\n",
       "      <td>0.982922</td>\n",
       "      <td>0.982922</td>\n",
       "    </tr>\n",
       "  </tbody>\n",
       "</table>\n",
       "</div>"
      ],
      "text/plain": [
       "                            Mean  Median  Mean>Median  skewness  \\\n",
       "Fixed Income Arbitrage  0.004365  0.0055        False -3.940320   \n",
       "Convertible Arbitrage   0.005508  0.0065        False -2.639592   \n",
       "Equity Market Neutral   0.004498  0.0051        False -2.124435   \n",
       "Relative Value          0.005792  0.0067        False -1.815470   \n",
       "Event Driven            0.006344  0.0084        False -1.409154   \n",
       "Merger Arbitrage        0.005356  0.0060        False -1.320083   \n",
       "Distressed Securities   0.006946  0.0089        False -1.300842   \n",
       "Emerging Markets        0.006253  0.0096        False -1.167067   \n",
       "Long/Short Equity       0.006331  0.0079        False -0.390227   \n",
       "Funds Of Funds          0.004262  0.0052        False -0.361783   \n",
       "CTA Global              0.004074  0.0014         True  0.173699   \n",
       "Short Selling          -0.001701 -0.0053         True  0.767975   \n",
       "Global Macro            0.005403  0.0038         True  0.982922   \n",
       "\n",
       "                        skewness_scipy  \n",
       "Fixed Income Arbitrage       -3.940320  \n",
       "Convertible Arbitrage        -2.639592  \n",
       "Equity Market Neutral        -2.124435  \n",
       "Relative Value               -1.815470  \n",
       "Event Driven                 -1.409154  \n",
       "Merger Arbitrage             -1.320083  \n",
       "Distressed Securities        -1.300842  \n",
       "Emerging Markets             -1.167067  \n",
       "Long/Short Equity            -0.390227  \n",
       "Funds Of Funds               -0.361783  \n",
       "CTA Global                    0.173699  \n",
       "Short Selling                 0.767975  \n",
       "Global Macro                  0.982922  "
      ]
     },
     "execution_count": 11,
     "metadata": {},
     "output_type": "execute_result"
    }
   ],
   "source": [
    "df_analisis.sort_values('skewness', ascending=True)"
   ]
  },
  {
   "cell_type": "markdown",
   "id": "7b9440b5",
   "metadata": {},
   "source": [
    "Por último, se calcula la asimetría que esperada de una secuencia de rendimientos verdaderamente aleatoria. Utilicemos el generador normal aleatorio de Numpy"
   ]
  },
  {
   "cell_type": "code",
   "execution_count": 12,
   "id": "1e736121",
   "metadata": {
    "ExecuteTime": {
     "end_time": "2021-08-24T11:21:27.814708Z",
     "start_time": "2021-08-24T11:21:27.783225Z"
    }
   },
   "outputs": [
    {
     "data": {
      "text/plain": [
       "(263, 13)"
      ]
     },
     "execution_count": 12,
     "metadata": {},
     "output_type": "execute_result"
    }
   ],
   "source": [
    "df_hfi.shape"
   ]
  },
  {
   "cell_type": "code",
   "execution_count": 13,
   "id": "264e3428",
   "metadata": {
    "ExecuteTime": {
     "end_time": "2021-08-24T11:21:53.292114Z",
     "start_time": "2021-08-24T11:21:53.103560Z"
    }
   },
   "outputs": [
    {
     "name": "stdout",
     "output_type": "stream",
     "text": [
      "Mean: -0.006512688603972982. Std: 0.14054603017300576\n",
      "Skewness: -0.1469353232356966\n"
     ]
    },
    {
     "data": {
      "image/png": "[encoded data removed]",
      "text/plain": [
       "<Figure size 432x288 with 1 Axes>"
      ]
     },
     "metadata": {
      "needs_background": "light"
     },
     "output_type": "display_data"
    }
   ],
   "source": [
    "df_sim = pd.DataFrame(index=[x for x in range(0,df_hfi.shape[0])])\n",
    "df_sim['normal_rets'] = pd.Series(np.random.normal(0, 0.15, (263,)))\n",
    "_ = df_sim.plot(kind='hist', title='Normal Distribution')\n",
    "print(f\"Mean: {df_sim['normal_rets'].mean()}. Std: {df_sim['normal_rets'].std()}\")\n",
    "print(f\"Skewness: {erk.skewness(df_sim['normal_rets'])}\")"
   ]
  },
  {
   "cell_type": "markdown",
   "id": "4ebe8ac3",
   "metadata": {},
   "source": [
    "### Kurtosis"
   ]
  },
  {
   "cell_type": "markdown",
   "id": "f72b69c8",
   "metadata": {},
   "source": [
    "Intuitivamente, la curtosis mide el \"grosor\" de las colas de la distribución. La distribución normal tiene una curtosis de 3 y, por tanto, si la curtosis de sus rendimientos es inferior a 3, tiende a tener colas más finas, y si la curtosis es superior a 3, la distribución tiene colas más gruesas.\n",
    "\n",
    "__Ecuación.__\n",
    "$$ K(R) = \\frac{E[ (R-E(R))^4 ]}{\\sigma_R^4} $$\n"
   ]
  },
  {
   "cell_type": "code",
   "execution_count": 14,
   "id": "dd207934",
   "metadata": {
    "ExecuteTime": {
     "end_time": "2021-08-24T11:21:59.915262Z",
     "start_time": "2021-08-24T11:21:59.885159Z"
    }
   },
   "outputs": [],
   "source": [
    "def kurtosis(r):\n",
    "    \"\"\"\n",
    "    Alternativa a scipy.stats.skew()\n",
    "    \n",
    "    Calcula la kurtosis de una serie temporal de rendimientos de entrada\n",
    "    \n",
    "    Args:\n",
    "    -----\n",
    "    r {[pandas.Series or pandas.DataFrame]} -- Serie temporal de rendimientos\n",
    "    \n",
    "    \n",
    "    Returns:\n",
    "    -----\n",
    "    kurtosis {[float or Series]} -- Valor de kurtosis\n",
    "    \"\"\"\n",
    "    demeaned_r = r - r.mean()\n",
    "    sigma_r = r.std(ddof=0) # population standard deviation (ddof=0)\n",
    "    exp_demeaned_r = (demeaned_r**4).mean()\n",
    "    kurtosis = exp_demeaned_r/sigma_r**4\n",
    "    return kurtosis"
   ]
  },
  {
   "cell_type": "code",
   "execution_count": 16,
   "id": "32b12de9",
   "metadata": {
    "ExecuteTime": {
     "end_time": "2021-08-24T11:22:13.623422Z",
     "start_time": "2021-08-24T11:22:13.581068Z"
    }
   },
   "outputs": [
    {
     "data": {
      "text/html": [
       "<div>\n",
       "<style scoped>\n",
       "    .dataframe tbody tr th:only-of-type {\n",
       "        vertical-align: middle;\n",
       "    }\n",
       "\n",
       "    .dataframe tbody tr th {\n",
       "        vertical-align: top;\n",
       "    }\n",
       "\n",
       "    .dataframe thead th {\n",
       "        text-align: right;\n",
       "    }\n",
       "</style>\n",
       "<table border=\"1\" class=\"dataframe\">\n",
       "  <thead>\n",
       "    <tr style=\"text-align: right;\">\n",
       "      <th></th>\n",
       "      <th>Mean</th>\n",
       "      <th>Median</th>\n",
       "      <th>Mean&gt;Median</th>\n",
       "      <th>skewness</th>\n",
       "      <th>skewness_scipy</th>\n",
       "      <th>kurtosis</th>\n",
       "      <th>kurtosis_scipy</th>\n",
       "      <th>diff_scipy</th>\n",
       "    </tr>\n",
       "  </thead>\n",
       "  <tbody>\n",
       "    <tr>\n",
       "      <th>Convertible Arbitrage</th>\n",
       "      <td>0.005508</td>\n",
       "      <td>0.0065</td>\n",
       "      <td>False</td>\n",
       "      <td>-2.639592</td>\n",
       "      <td>-2.639592</td>\n",
       "      <td>23.280834</td>\n",
       "      <td>20.280834</td>\n",
       "      <td>3.0</td>\n",
       "    </tr>\n",
       "    <tr>\n",
       "      <th>CTA Global</th>\n",
       "      <td>0.004074</td>\n",
       "      <td>0.0014</td>\n",
       "      <td>True</td>\n",
       "      <td>0.173699</td>\n",
       "      <td>0.173699</td>\n",
       "      <td>2.952960</td>\n",
       "      <td>-0.047040</td>\n",
       "      <td>3.0</td>\n",
       "    </tr>\n",
       "    <tr>\n",
       "      <th>Distressed Securities</th>\n",
       "      <td>0.006946</td>\n",
       "      <td>0.0089</td>\n",
       "      <td>False</td>\n",
       "      <td>-1.300842</td>\n",
       "      <td>-1.300842</td>\n",
       "      <td>7.889983</td>\n",
       "      <td>4.889983</td>\n",
       "      <td>3.0</td>\n",
       "    </tr>\n",
       "    <tr>\n",
       "      <th>Emerging Markets</th>\n",
       "      <td>0.006253</td>\n",
       "      <td>0.0096</td>\n",
       "      <td>False</td>\n",
       "      <td>-1.167067</td>\n",
       "      <td>-1.167067</td>\n",
       "      <td>9.250788</td>\n",
       "      <td>6.250788</td>\n",
       "      <td>3.0</td>\n",
       "    </tr>\n",
       "    <tr>\n",
       "      <th>Equity Market Neutral</th>\n",
       "      <td>0.004498</td>\n",
       "      <td>0.0051</td>\n",
       "      <td>False</td>\n",
       "      <td>-2.124435</td>\n",
       "      <td>-2.124435</td>\n",
       "      <td>17.218555</td>\n",
       "      <td>14.218555</td>\n",
       "      <td>3.0</td>\n",
       "    </tr>\n",
       "    <tr>\n",
       "      <th>Event Driven</th>\n",
       "      <td>0.006344</td>\n",
       "      <td>0.0084</td>\n",
       "      <td>False</td>\n",
       "      <td>-1.409154</td>\n",
       "      <td>-1.409154</td>\n",
       "      <td>8.035828</td>\n",
       "      <td>5.035828</td>\n",
       "      <td>3.0</td>\n",
       "    </tr>\n",
       "    <tr>\n",
       "      <th>Fixed Income Arbitrage</th>\n",
       "      <td>0.004365</td>\n",
       "      <td>0.0055</td>\n",
       "      <td>False</td>\n",
       "      <td>-3.940320</td>\n",
       "      <td>-3.940320</td>\n",
       "      <td>29.842199</td>\n",
       "      <td>26.842199</td>\n",
       "      <td>3.0</td>\n",
       "    </tr>\n",
       "    <tr>\n",
       "      <th>Global Macro</th>\n",
       "      <td>0.005403</td>\n",
       "      <td>0.0038</td>\n",
       "      <td>True</td>\n",
       "      <td>0.982922</td>\n",
       "      <td>0.982922</td>\n",
       "      <td>5.741679</td>\n",
       "      <td>2.741679</td>\n",
       "      <td>3.0</td>\n",
       "    </tr>\n",
       "    <tr>\n",
       "      <th>Long/Short Equity</th>\n",
       "      <td>0.006331</td>\n",
       "      <td>0.0079</td>\n",
       "      <td>False</td>\n",
       "      <td>-0.390227</td>\n",
       "      <td>-0.390227</td>\n",
       "      <td>4.523893</td>\n",
       "      <td>1.523893</td>\n",
       "      <td>3.0</td>\n",
       "    </tr>\n",
       "    <tr>\n",
       "      <th>Merger Arbitrage</th>\n",
       "      <td>0.005356</td>\n",
       "      <td>0.0060</td>\n",
       "      <td>False</td>\n",
       "      <td>-1.320083</td>\n",
       "      <td>-1.320083</td>\n",
       "      <td>8.738950</td>\n",
       "      <td>5.738950</td>\n",
       "      <td>3.0</td>\n",
       "    </tr>\n",
       "    <tr>\n",
       "      <th>Relative Value</th>\n",
       "      <td>0.005792</td>\n",
       "      <td>0.0067</td>\n",
       "      <td>False</td>\n",
       "      <td>-1.815470</td>\n",
       "      <td>-1.815470</td>\n",
       "      <td>12.121208</td>\n",
       "      <td>9.121208</td>\n",
       "      <td>3.0</td>\n",
       "    </tr>\n",
       "    <tr>\n",
       "      <th>Short Selling</th>\n",
       "      <td>-0.001701</td>\n",
       "      <td>-0.0053</td>\n",
       "      <td>True</td>\n",
       "      <td>0.767975</td>\n",
       "      <td>0.767975</td>\n",
       "      <td>6.117772</td>\n",
       "      <td>3.117772</td>\n",
       "      <td>3.0</td>\n",
       "    </tr>\n",
       "    <tr>\n",
       "      <th>Funds Of Funds</th>\n",
       "      <td>0.004262</td>\n",
       "      <td>0.0052</td>\n",
       "      <td>False</td>\n",
       "      <td>-0.361783</td>\n",
       "      <td>-0.361783</td>\n",
       "      <td>7.070153</td>\n",
       "      <td>4.070153</td>\n",
       "      <td>3.0</td>\n",
       "    </tr>\n",
       "  </tbody>\n",
       "</table>\n",
       "</div>"
      ],
      "text/plain": [
       "                            Mean  Median  Mean>Median  skewness  \\\n",
       "Convertible Arbitrage   0.005508  0.0065        False -2.639592   \n",
       "CTA Global              0.004074  0.0014         True  0.173699   \n",
       "Distressed Securities   0.006946  0.0089        False -1.300842   \n",
       "Emerging Markets        0.006253  0.0096        False -1.167067   \n",
       "Equity Market Neutral   0.004498  0.0051        False -2.124435   \n",
       "Event Driven            0.006344  0.0084        False -1.409154   \n",
       "Fixed Income Arbitrage  0.004365  0.0055        False -3.940320   \n",
       "Global Macro            0.005403  0.0038         True  0.982922   \n",
       "Long/Short Equity       0.006331  0.0079        False -0.390227   \n",
       "Merger Arbitrage        0.005356  0.0060        False -1.320083   \n",
       "Relative Value          0.005792  0.0067        False -1.815470   \n",
       "Short Selling          -0.001701 -0.0053         True  0.767975   \n",
       "Funds Of Funds          0.004262  0.0052        False -0.361783   \n",
       "\n",
       "                        skewness_scipy   kurtosis  kurtosis_scipy  diff_scipy  \n",
       "Convertible Arbitrage        -2.639592  23.280834       20.280834         3.0  \n",
       "CTA Global                    0.173699   2.952960       -0.047040         3.0  \n",
       "Distressed Securities        -1.300842   7.889983        4.889983         3.0  \n",
       "Emerging Markets             -1.167067   9.250788        6.250788         3.0  \n",
       "Equity Market Neutral        -2.124435  17.218555       14.218555         3.0  \n",
       "Event Driven                 -1.409154   8.035828        5.035828         3.0  \n",
       "Fixed Income Arbitrage       -3.940320  29.842199       26.842199         3.0  \n",
       "Global Macro                  0.982922   5.741679        2.741679         3.0  \n",
       "Long/Short Equity            -0.390227   4.523893        1.523893         3.0  \n",
       "Merger Arbitrage             -1.320083   8.738950        5.738950         3.0  \n",
       "Relative Value               -1.815470  12.121208        9.121208         3.0  \n",
       "Short Selling                 0.767975   6.117772        3.117772         3.0  \n",
       "Funds Of Funds               -0.361783   7.070153        4.070153         3.0  "
      ]
     },
     "execution_count": 16,
     "metadata": {},
     "output_type": "execute_result"
    }
   ],
   "source": [
    "df_analisis['kurtosis'] = erk.kurtosis(df_hfi)\n",
    "df_analisis['kurtosis_scipy'] = scipy.stats.kurtosis(df_hfi)\n",
    "df_analisis['diff_scipy'] = df_analisis['kurtosis'] - df_analisis['kurtosis_scipy']\n",
    "df_analisis"
   ]
  },
  {
   "cell_type": "markdown",
   "id": "d4c4c077",
   "metadata": {
    "ExecuteTime": {
     "end_time": "2021-08-24T10:52:42.757159Z",
     "start_time": "2021-08-24T10:52:42.738402Z"
    }
   },
   "source": [
    "Obsérvese que todos los valores calculados con scipy son inferiores en 3 al número calculado manualmente. Esto se debe a que la curtosis esperada de una serie de números con distribución normal es 3, y scipy.stats está devolviendo el exceso de curtosis. "
   ]
  },
  {
   "cell_type": "code",
   "execution_count": 18,
   "id": "49cd45bf",
   "metadata": {
    "ExecuteTime": {
     "end_time": "2021-08-24T11:23:07.097398Z",
     "start_time": "2021-08-24T11:23:07.057256Z"
    }
   },
   "outputs": [
    {
     "data": {
      "text/html": [
       "<div>\n",
       "<style scoped>\n",
       "    .dataframe tbody tr th:only-of-type {\n",
       "        vertical-align: middle;\n",
       "    }\n",
       "\n",
       "    .dataframe tbody tr th {\n",
       "        vertical-align: top;\n",
       "    }\n",
       "\n",
       "    .dataframe thead th {\n",
       "        text-align: right;\n",
       "    }\n",
       "</style>\n",
       "<table border=\"1\" class=\"dataframe\">\n",
       "  <thead>\n",
       "    <tr style=\"text-align: right;\">\n",
       "      <th></th>\n",
       "      <th>normal_rets</th>\n",
       "      <th>exceso_kurtosis</th>\n",
       "      <th>kurtosis</th>\n",
       "    </tr>\n",
       "  </thead>\n",
       "  <tbody>\n",
       "    <tr>\n",
       "      <th>0</th>\n",
       "      <td>-0.107950</td>\n",
       "      <td>-0.147589</td>\n",
       "      <td>2.852411</td>\n",
       "    </tr>\n",
       "    <tr>\n",
       "      <th>1</th>\n",
       "      <td>-0.187560</td>\n",
       "      <td>-0.147589</td>\n",
       "      <td>2.852411</td>\n",
       "    </tr>\n",
       "    <tr>\n",
       "      <th>2</th>\n",
       "      <td>-0.102451</td>\n",
       "      <td>-0.147589</td>\n",
       "      <td>2.852411</td>\n",
       "    </tr>\n",
       "    <tr>\n",
       "      <th>3</th>\n",
       "      <td>-0.131585</td>\n",
       "      <td>-0.147589</td>\n",
       "      <td>2.852411</td>\n",
       "    </tr>\n",
       "    <tr>\n",
       "      <th>4</th>\n",
       "      <td>0.173194</td>\n",
       "      <td>-0.147589</td>\n",
       "      <td>2.852411</td>\n",
       "    </tr>\n",
       "    <tr>\n",
       "      <th>...</th>\n",
       "      <td>...</td>\n",
       "      <td>...</td>\n",
       "      <td>...</td>\n",
       "    </tr>\n",
       "    <tr>\n",
       "      <th>258</th>\n",
       "      <td>-0.011228</td>\n",
       "      <td>-0.147589</td>\n",
       "      <td>2.852411</td>\n",
       "    </tr>\n",
       "    <tr>\n",
       "      <th>259</th>\n",
       "      <td>0.143031</td>\n",
       "      <td>-0.147589</td>\n",
       "      <td>2.852411</td>\n",
       "    </tr>\n",
       "    <tr>\n",
       "      <th>260</th>\n",
       "      <td>0.012146</td>\n",
       "      <td>-0.147589</td>\n",
       "      <td>2.852411</td>\n",
       "    </tr>\n",
       "    <tr>\n",
       "      <th>261</th>\n",
       "      <td>0.146450</td>\n",
       "      <td>-0.147589</td>\n",
       "      <td>2.852411</td>\n",
       "    </tr>\n",
       "    <tr>\n",
       "      <th>262</th>\n",
       "      <td>-0.082804</td>\n",
       "      <td>-0.147589</td>\n",
       "      <td>2.852411</td>\n",
       "    </tr>\n",
       "  </tbody>\n",
       "</table>\n",
       "<p>263 rows × 3 columns</p>\n",
       "</div>"
      ],
      "text/plain": [
       "     normal_rets  exceso_kurtosis  kurtosis\n",
       "0      -0.107950        -0.147589  2.852411\n",
       "1      -0.187560        -0.147589  2.852411\n",
       "2      -0.102451        -0.147589  2.852411\n",
       "3      -0.131585        -0.147589  2.852411\n",
       "4       0.173194        -0.147589  2.852411\n",
       "..           ...              ...       ...\n",
       "258    -0.011228        -0.147589  2.852411\n",
       "259     0.143031        -0.147589  2.852411\n",
       "260     0.012146        -0.147589  2.852411\n",
       "261     0.146450        -0.147589  2.852411\n",
       "262    -0.082804        -0.147589  2.852411\n",
       "\n",
       "[263 rows x 3 columns]"
      ]
     },
     "execution_count": 18,
     "metadata": {},
     "output_type": "execute_result"
    }
   ],
   "source": [
    "df_sim['exceso_kurtosis'] = scipy.stats.kurtosis(df_sim['normal_rets'])\n",
    "df_sim['kurtosis'] = erk.kurtosis(df_sim['normal_rets'])\n",
    "df_sim"
   ]
  },
  {
   "cell_type": "markdown",
   "id": "84f588e5",
   "metadata": {},
   "source": [
    "### Test de Normalidad - Jarque-Bera\n",
    "\n",
    "El módulo scipy.stats contiene una función que ejecuta la prueba de Jarque-Bera sobre una secuencia de números. \n",
    "\n",
    "Como resultado, el primer número es el estadístico de la prueba y el segundo número representa el valor p de la prueba de hipótesis. Por ejemplo, si queremos realizar la prueba a un nivel de significación del 1%, queremos que este número sea mayor que 0.01 para aceptar la hipótesis de que los datos se distribuyen normalmente, y si ese número es menor que 0.01 entonces debemos rechazar la hipótesis de normalidad."
   ]
  },
  {
   "cell_type": "code",
   "execution_count": 19,
   "id": "cab1f550",
   "metadata": {
    "ExecuteTime": {
     "end_time": "2021-08-24T11:23:11.800756Z",
     "start_time": "2021-08-24T11:23:11.770139Z"
    }
   },
   "outputs": [],
   "source": [
    "def is_normal(r, level=0.01):\n",
    "    \"\"\"\n",
    "    Aplica el test de Jarque-Bera para determinar si una Serie es normal o no\n",
    "    \n",
    "    \n",
    "    Args:\n",
    "    ------\n",
    "    r {[pandas.Series]} -- Serie temporal de rendimientos\n",
    "    level {[float]} -- Nivel de confianza del test. La prueba se aplica por defecto al nivel del 1%\n",
    "\n",
    "\n",
    "    Returns:\n",
    "    ---------\n",
    "    aceptar_hipotesis {[bool]} -- Devuelve Verdadero si se acepta la hipótesis de normalidad, Falso en caso contrario\n",
    "    \"\"\"\n",
    "    if isinstance(r, pd.DataFrame):\n",
    "        return r.aggregate(is_normal)\n",
    "    else:\n",
    "        statistic, p_value = scipy.stats.jarque_bera(r)\n",
    "        return p_value > level\n",
    "    \n",
    "    return p_value > level"
   ]
  },
  {
   "cell_type": "code",
   "execution_count": 21,
   "id": "aaba6032",
   "metadata": {
    "ExecuteTime": {
     "end_time": "2021-08-24T11:23:39.323336Z",
     "start_time": "2021-08-24T11:23:39.280130Z"
    }
   },
   "outputs": [
    {
     "data": {
      "text/plain": [
       "True"
      ]
     },
     "execution_count": 21,
     "metadata": {},
     "output_type": "execute_result"
    }
   ],
   "source": [
    "erk.is_normal(df_sim['normal_rets'])"
   ]
  },
  {
   "cell_type": "code",
   "execution_count": 22,
   "id": "50693a0b",
   "metadata": {
    "ExecuteTime": {
     "end_time": "2021-08-24T11:23:41.874026Z",
     "start_time": "2021-08-24T11:23:41.836832Z"
    }
   },
   "outputs": [
    {
     "data": {
      "text/plain": [
       "Convertible Arbitrage     False\n",
       "CTA Global                 True\n",
       "Distressed Securities     False\n",
       "Emerging Markets          False\n",
       "Equity Market Neutral     False\n",
       "Event Driven              False\n",
       "Fixed Income Arbitrage    False\n",
       "Global Macro              False\n",
       "Long/Short Equity         False\n",
       "Merger Arbitrage          False\n",
       "Relative Value            False\n",
       "Short Selling             False\n",
       "Funds Of Funds            False\n",
       "dtype: bool"
      ]
     },
     "execution_count": 22,
     "metadata": {},
     "output_type": "execute_result"
    }
   ],
   "source": [
    "df_hfi.aggregate(is_normal)"
   ]
  },
  {
   "cell_type": "markdown",
   "id": "0a12f785",
   "metadata": {
    "ExecuteTime": {
     "end_time": "2021-08-24T11:13:40.604492Z",
     "start_time": "2021-08-24T11:13:40.599463Z"
    }
   },
   "source": [
    "### CRSP SmallCap and Large Cap returns for Normality"
   ]
  },
  {
   "cell_type": "code",
   "execution_count": 25,
   "id": "0f56599e",
   "metadata": {
    "ExecuteTime": {
     "end_time": "2021-08-24T11:23:57.463416Z",
     "start_time": "2021-08-24T11:23:57.416690Z"
    }
   },
   "outputs": [
    {
     "data": {
      "text/html": [
       "<div>\n",
       "<style scoped>\n",
       "    .dataframe tbody tr th:only-of-type {\n",
       "        vertical-align: middle;\n",
       "    }\n",
       "\n",
       "    .dataframe tbody tr th {\n",
       "        vertical-align: top;\n",
       "    }\n",
       "\n",
       "    .dataframe thead th {\n",
       "        text-align: right;\n",
       "    }\n",
       "</style>\n",
       "<table border=\"1\" class=\"dataframe\">\n",
       "  <thead>\n",
       "    <tr style=\"text-align: right;\">\n",
       "      <th></th>\n",
       "      <th>SmallCap</th>\n",
       "      <th>LargeCap</th>\n",
       "    </tr>\n",
       "  </thead>\n",
       "  <tbody>\n",
       "    <tr>\n",
       "      <th>1926-07-01</th>\n",
       "      <td>-0.0145</td>\n",
       "      <td>0.0329</td>\n",
       "    </tr>\n",
       "    <tr>\n",
       "      <th>1926-08-01</th>\n",
       "      <td>0.0512</td>\n",
       "      <td>0.0370</td>\n",
       "    </tr>\n",
       "    <tr>\n",
       "      <th>1926-09-01</th>\n",
       "      <td>0.0093</td>\n",
       "      <td>0.0067</td>\n",
       "    </tr>\n",
       "    <tr>\n",
       "      <th>1926-10-01</th>\n",
       "      <td>-0.0484</td>\n",
       "      <td>-0.0243</td>\n",
       "    </tr>\n",
       "    <tr>\n",
       "      <th>1926-11-01</th>\n",
       "      <td>-0.0078</td>\n",
       "      <td>0.0270</td>\n",
       "    </tr>\n",
       "    <tr>\n",
       "      <th>...</th>\n",
       "      <td>...</td>\n",
       "      <td>...</td>\n",
       "    </tr>\n",
       "    <tr>\n",
       "      <th>2018-08-01</th>\n",
       "      <td>0.0241</td>\n",
       "      <td>0.0234</td>\n",
       "    </tr>\n",
       "    <tr>\n",
       "      <th>2018-09-01</th>\n",
       "      <td>-0.0168</td>\n",
       "      <td>0.0087</td>\n",
       "    </tr>\n",
       "    <tr>\n",
       "      <th>2018-10-01</th>\n",
       "      <td>-0.1002</td>\n",
       "      <td>-0.0657</td>\n",
       "    </tr>\n",
       "    <tr>\n",
       "      <th>2018-11-01</th>\n",
       "      <td>-0.0365</td>\n",
       "      <td>0.0253</td>\n",
       "    </tr>\n",
       "    <tr>\n",
       "      <th>2018-12-01</th>\n",
       "      <td>-0.1531</td>\n",
       "      <td>-0.0890</td>\n",
       "    </tr>\n",
       "  </tbody>\n",
       "</table>\n",
       "<p>1110 rows × 2 columns</p>\n",
       "</div>"
      ],
      "text/plain": [
       "            SmallCap  LargeCap\n",
       "1926-07-01   -0.0145    0.0329\n",
       "1926-08-01    0.0512    0.0370\n",
       "1926-09-01    0.0093    0.0067\n",
       "1926-10-01   -0.0484   -0.0243\n",
       "1926-11-01   -0.0078    0.0270\n",
       "...              ...       ...\n",
       "2018-08-01    0.0241    0.0234\n",
       "2018-09-01   -0.0168    0.0087\n",
       "2018-10-01   -0.1002   -0.0657\n",
       "2018-11-01   -0.0365    0.0253\n",
       "2018-12-01   -0.1531   -0.0890\n",
       "\n",
       "[1110 rows x 2 columns]"
      ]
     },
     "execution_count": 25,
     "metadata": {},
     "output_type": "execute_result"
    }
   ],
   "source": [
    "df_ffme = erk.get_ffme_returns(directory=\"../data/\")\n",
    "df_ffme"
   ]
  },
  {
   "cell_type": "code",
   "execution_count": 26,
   "id": "b3823307",
   "metadata": {
    "ExecuteTime": {
     "end_time": "2021-08-24T11:23:57.940239Z",
     "start_time": "2021-08-24T11:23:57.908294Z"
    }
   },
   "outputs": [
    {
     "data": {
      "text/plain": [
       "SmallCap    4.410739\n",
       "LargeCap    0.233445\n",
       "dtype: float64"
      ]
     },
     "execution_count": 26,
     "metadata": {},
     "output_type": "execute_result"
    }
   ],
   "source": [
    "erk.skewness(df_ffme)"
   ]
  },
  {
   "cell_type": "code",
   "execution_count": 28,
   "id": "3edf6be7",
   "metadata": {
    "ExecuteTime": {
     "end_time": "2021-08-24T11:24:02.541574Z",
     "start_time": "2021-08-24T11:24:02.507901Z"
    }
   },
   "outputs": [
    {
     "data": {
      "text/plain": [
       "SmallCap    46.845008\n",
       "LargeCap    10.694654\n",
       "dtype: float64"
      ]
     },
     "execution_count": 28,
     "metadata": {},
     "output_type": "execute_result"
    }
   ],
   "source": [
    "erk.kurtosis(df_ffme)"
   ]
  },
  {
   "cell_type": "code",
   "execution_count": 29,
   "id": "22237646",
   "metadata": {
    "ExecuteTime": {
     "end_time": "2021-08-24T11:24:05.593396Z",
     "start_time": "2021-08-24T11:24:05.558989Z"
    }
   },
   "outputs": [
    {
     "data": {
      "text/plain": [
       "SmallCap    False\n",
       "LargeCap    False\n",
       "dtype: bool"
      ]
     },
     "execution_count": 29,
     "metadata": {},
     "output_type": "execute_result"
    }
   ],
   "source": [
    "erk.is_normal(df_ffme)"
   ]
  }
 ],
 "metadata": {
  "kernelspec": {
   "display_name": "Python 3.8.5 64-bit ('AITGG': conda)",
   "language": "python",
   "name": "python385jvsc74a57bd04592e64615f769e19d02d67efecdf24dbbde8900a22a54873431e68806567084"
  },
  "language_info": {
   "codemirror_mode": {
    "name": "ipython",
    "version": 3
   },
   "file_extension": ".py",
   "mimetype": "text/x-python",
   "name": "python",
   "nbconvert_exporter": "python",
   "pygments_lexer": "ipython3",
   "version": "3.8.5"
  },
  "nbTranslate": {
   "displayLangs": [
    "*"
   ],
   "hotkey": "alt-t",
   "langInMainMenu": true,
   "sourceLang": "en",
   "targetLang": "fr",
   "useGoogleTranslate": true
  },
  "toc": {
   "base_numbering": 1,
   "nav_menu": {},
   "number_sections": true,
   "sideBar": true,
   "skip_h1_title": true,
   "title_cell": "Table of Contents",
   "title_sidebar": "Contents",
   "toc_cell": true,
   "toc_position": {},
   "toc_section_display": true,
   "toc_window_display": true
  },
  "varInspector": {
   "cols": {
    "lenName": 16,
    "lenType": 16,
    "lenVar": 40
   },
   "kernels_config": {
    "python": {
     "delete_cmd_postfix": "",
     "delete_cmd_prefix": "del ",
     "library": "var_list.py",
     "varRefreshCmd": "print(var_dic_list())"
    },
    "r": {
     "delete_cmd_postfix": ") ",
     "delete_cmd_prefix": "rm(",
     "library": "var_list.r",
     "varRefreshCmd": "cat(var_dic_list()) "
    }
   },
   "types_to_exclude": [
    "module",
    "function",
    "builtin_function_or_method",
    "instance",
    "_Feature"
   ],
   "window_display": false
  }
 },
 "nbformat": 4,
 "nbformat_minor": 5
}
