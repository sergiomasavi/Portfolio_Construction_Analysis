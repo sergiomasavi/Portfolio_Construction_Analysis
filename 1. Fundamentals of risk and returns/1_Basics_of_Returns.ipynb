{
 "cells": [
  {
   "cell_type": "markdown",
   "id": "91f1fb02",
   "metadata": {
    "toc": true
   },
   "source": [
    "<h1>Table of Contents<span class=\"tocSkip\"></span></h1>\n",
    "<div class=\"toc\"><ul class=\"toc-item\"><li><span><a href=\"#Librerías\" data-toc-modified-id=\"Librerías-1\"><span class=\"toc-item-num\">1&nbsp;&nbsp;</span>Librerías</a></span></li><li><span><a href=\"#Cálculo-de-retornos\" data-toc-modified-id=\"Cálculo-de-retornos-2\"><span class=\"toc-item-num\">2&nbsp;&nbsp;</span>Cálculo de retornos</a></span><ul class=\"toc-item\"><li><span><a href=\"#Visualización-de-los-retornos-y-el-riesgo\" data-toc-modified-id=\"Visualización-de-los-retornos-y-el-riesgo-2.1\"><span class=\"toc-item-num\">2.1&nbsp;&nbsp;</span>Visualización de los retornos y el riesgo</a></span></li></ul></li><li><span><a href=\"#Rentabilidad-compuesta\" data-toc-modified-id=\"Rentabilidad-compuesta-3\"><span class=\"toc-item-num\">3&nbsp;&nbsp;</span>Rentabilidad compuesta</a></span></li><li><span><a href=\"#Anualización-de-los-rendimientos\" data-toc-modified-id=\"Anualización-de-los-rendimientos-4\"><span class=\"toc-item-num\">4&nbsp;&nbsp;</span>Anualización de los rendimientos</a></span></li></ul></div>"
   ]
  },
  {
   "cell_type": "markdown",
   "id": "bb23d5af",
   "metadata": {},
   "source": [
    "## Librerías"
   ]
  },
  {
   "cell_type": "code",
   "execution_count": 139,
   "id": "e0636aae",
   "metadata": {
    "ExecuteTime": {
     "end_time": "2021-08-20T21:59:23.470638Z",
     "start_time": "2021-08-20T21:59:23.467139Z"
    }
   },
   "outputs": [],
   "source": [
    "import empyrical as em\n",
    "import pandas as pd\n",
    "import numpy as np\n",
    "from matplotlib import pyplot as plt"
   ]
  },
  {
   "cell_type": "markdown",
   "id": "21344f9c",
   "metadata": {},
   "source": [
    "## Cálculo de retornos\n",
    "\n",
    "Los rendimientos o retornos para un tiempo $t$ to time ${t+1}$ vienen dados por la siguiente ecuación:\n",
    "\n",
    "\\begin{align}\n",
    "R_{t,t+1} = \\frac{P_{t+1}-P_{t}}{P_{t}} = \\frac{P_{t+1}}{P_{t}} - 1\n",
    "\\end{align}\n",
    "\n",
    "__Formulation__\n",
    "<img src=\"images/multi_period_returns.png\" width=\"400\" height=\"200\">\n",
    "\n",
    "__Example__\n",
    "<img src=\"images/multi_period_returns_example.png\" width=\"400\" height=\"200\">"
   ]
  },
  {
   "cell_type": "code",
   "execution_count": 12,
   "id": "1e74cfa7",
   "metadata": {
    "ExecuteTime": {
     "end_time": "2021-08-20T21:05:41.598843Z",
     "start_time": "2021-08-20T21:05:41.591719Z"
    }
   },
   "outputs": [
    {
     "name": "stdout",
     "output_type": "stream",
     "text": [
      "Prices = [8.7  8.91 8.71]\n",
      "Returns = [ 0.02413793 -0.02244669]\n"
     ]
    }
   ],
   "source": [
    "# Método 1 - numpy\n",
    "prices_a = np.array([8.70, 8.91, 8.71])\n",
    "print(f'Prices = {prices_a}')\n",
    "\n",
    "np_returns = prices_a[1:]/prices_a[:-1] - 1\n",
    "print(f'Returns = {np_returns}')"
   ]
  },
  {
   "cell_type": "code",
   "execution_count": 23,
   "id": "f8dd61d6",
   "metadata": {
    "ExecuteTime": {
     "end_time": "2021-08-20T21:09:54.058152Z",
     "start_time": "2021-08-20T21:09:54.031333Z"
    }
   },
   "outputs": [
    {
     "name": "stdout",
     "output_type": "stream",
     "text": [
      "Prices\n",
      "   BLUE  ORANGE\n",
      "0  8.70   10.66\n",
      "1  8.91   11.08\n",
      "2  8.71   10.71\n",
      "3  8.43   11.59\n",
      "4  8.73   12.11\n",
      "\n",
      "\n",
      "\n",
      "Returns\n",
      "       BLUE    ORANGE\n",
      "0  0.024138  0.039400\n",
      "1 -0.022447 -0.033394\n",
      "2 -0.032147  0.082166\n",
      "3  0.035587  0.044866\n",
      "\n",
      "\n",
      "\n",
      "Returns\n",
      "       BLUE    ORANGE\n",
      "1  0.024138  0.039400\n",
      "2 -0.022447 -0.033394\n",
      "3 -0.032147  0.082166\n",
      "4  0.035587  0.044866\n",
      "\n",
      "\n",
      "\n",
      "Returns\n",
      "       BLUE    ORANGE\n",
      "0       NaN       NaN\n",
      "1  0.024138  0.039400\n",
      "2 -0.022447 -0.033394\n",
      "3 -0.032147  0.082166\n",
      "4  0.035587  0.044866\n",
      "\n",
      "\n",
      "\n",
      "Returns\n",
      "       BLUE    ORANGE\n",
      "0       NaN       NaN\n",
      "1  0.024138  0.039400\n",
      "2 -0.022447 -0.033394\n",
      "3 -0.032147  0.082166\n",
      "4  0.035587  0.044866\n"
     ]
    }
   ],
   "source": [
    "# Método 2 - pandas\n",
    "df_prices = pd.DataFrame({\n",
    "    'BLUE': [8.70, 8.91, 8.71, 8.43, 8.73],\n",
    "    'ORANGE': [10.66, 11.08, 10.71, 11.59, 12.11]\n",
    "})\n",
    "print('Prices',df_prices,sep='\\n')\n",
    "print(2*'\\n')\n",
    "\n",
    "# Método 2.1 - Slicing en pandas\n",
    "df_returns = df_prices.iloc[1:].values/df_prices.iloc[:-1] - 1\n",
    "print('Returns',df_returns,sep='\\n')\n",
    "print(2*'\\n')\n",
    "\n",
    "\n",
    "df_returns = df_prices.iloc[1:]/df_prices.iloc[:-1].values - 1\n",
    "print('Returns',df_returns,sep='\\n')\n",
    "print(2*'\\n')\n",
    "\n",
    "# Método 2.2 - shift()\n",
    "df_returns = df_prices/df_prices.shift(1) - 1\n",
    "print('Returns',df_returns,sep='\\n')\n",
    "print(2*'\\n')\n",
    "\n",
    "# Método 2.3 - pct_change()\n",
    "df_returns = df_prices.pct_change()\n",
    "print('Returns',df_returns,sep='\\n')"
   ]
  },
  {
   "cell_type": "markdown",
   "id": "75b7833d",
   "metadata": {},
   "source": [
    "__Exercise.__\n",
    "\n",
    "You buy a stock at the closing price on Monday. On Tuesday, the stock closes at 10% above Monday's closing price. On Wednesday, it falls and closes at 10% below Tuesday’s closing price and you sell it at that closing price. DId you have a negative, positive or zero return?"
   ]
  },
  {
   "cell_type": "code",
   "execution_count": 140,
   "id": "110e2c99",
   "metadata": {
    "ExecuteTime": {
     "end_time": "2021-08-20T21:59:27.300142Z",
     "start_time": "2021-08-20T21:59:27.291783Z"
    }
   },
   "outputs": [
    {
     "data": {
      "text/plain": [
       "0    0.10\n",
       "1   -0.01\n",
       "dtype: float64"
      ]
     },
     "execution_count": 140,
     "metadata": {},
     "output_type": "execute_result"
    }
   ],
   "source": [
    "pct_change = pd.Series([.10, -.10])\n",
    "em.cum_returns(pct_change)"
   ]
  },
  {
   "cell_type": "markdown",
   "id": "bb153718",
   "metadata": {
    "ExecuteTime": {
     "end_time": "2021-08-20T21:05:10.030868Z",
     "start_time": "2021-08-20T21:05:09.994201Z"
    }
   },
   "source": [
    "### Visualización de los retornos y el riesgo"
   ]
  },
  {
   "cell_type": "code",
   "execution_count": 26,
   "id": "e3a80b0d",
   "metadata": {
    "ExecuteTime": {
     "end_time": "2021-08-20T21:10:48.965451Z",
     "start_time": "2021-08-20T21:10:48.950558Z"
    }
   },
   "outputs": [
    {
     "data": {
      "text/html": [
       "<div>\n",
       "<style scoped>\n",
       "    .dataframe tbody tr th:only-of-type {\n",
       "        vertical-align: middle;\n",
       "    }\n",
       "\n",
       "    .dataframe tbody tr th {\n",
       "        vertical-align: top;\n",
       "    }\n",
       "\n",
       "    .dataframe thead th {\n",
       "        text-align: right;\n",
       "    }\n",
       "</style>\n",
       "<table border=\"1\" class=\"dataframe\">\n",
       "  <thead>\n",
       "    <tr style=\"text-align: right;\">\n",
       "      <th></th>\n",
       "      <th>BLUE</th>\n",
       "      <th>ORANGE</th>\n",
       "    </tr>\n",
       "  </thead>\n",
       "  <tbody>\n",
       "    <tr>\n",
       "      <th>0</th>\n",
       "      <td>8.7000</td>\n",
       "      <td>10.6600</td>\n",
       "    </tr>\n",
       "    <tr>\n",
       "      <th>1</th>\n",
       "      <td>8.9055</td>\n",
       "      <td>11.0828</td>\n",
       "    </tr>\n",
       "    <tr>\n",
       "      <th>2</th>\n",
       "      <td>8.7113</td>\n",
       "      <td>10.7100</td>\n",
       "    </tr>\n",
       "    <tr>\n",
       "      <th>3</th>\n",
       "      <td>8.4346</td>\n",
       "      <td>11.5907</td>\n",
       "    </tr>\n",
       "    <tr>\n",
       "      <th>4</th>\n",
       "      <td>8.7254</td>\n",
       "      <td>12.1070</td>\n",
       "    </tr>\n",
       "    <tr>\n",
       "      <th>5</th>\n",
       "      <td>9.0551</td>\n",
       "      <td>11.7876</td>\n",
       "    </tr>\n",
       "    <tr>\n",
       "      <th>6</th>\n",
       "      <td>8.9514</td>\n",
       "      <td>11.2078</td>\n",
       "    </tr>\n",
       "    <tr>\n",
       "      <th>7</th>\n",
       "      <td>9.2439</td>\n",
       "      <td>12.5192</td>\n",
       "    </tr>\n",
       "    <tr>\n",
       "      <th>8</th>\n",
       "      <td>9.1276</td>\n",
       "      <td>13.3624</td>\n",
       "    </tr>\n",
       "    <tr>\n",
       "      <th>9</th>\n",
       "      <td>9.3976</td>\n",
       "      <td>14.4080</td>\n",
       "    </tr>\n",
       "    <tr>\n",
       "      <th>10</th>\n",
       "      <td>9.4554</td>\n",
       "      <td>11.9837</td>\n",
       "    </tr>\n",
       "    <tr>\n",
       "      <th>11</th>\n",
       "      <td>9.5704</td>\n",
       "      <td>12.2718</td>\n",
       "    </tr>\n",
       "    <tr>\n",
       "      <th>12</th>\n",
       "      <td>9.7728</td>\n",
       "      <td>11.5892</td>\n",
       "    </tr>\n",
       "  </tbody>\n",
       "</table>\n",
       "</div>"
      ],
      "text/plain": [
       "      BLUE   ORANGE\n",
       "0   8.7000  10.6600\n",
       "1   8.9055  11.0828\n",
       "2   8.7113  10.7100\n",
       "3   8.4346  11.5907\n",
       "4   8.7254  12.1070\n",
       "5   9.0551  11.7876\n",
       "6   8.9514  11.2078\n",
       "7   9.2439  12.5192\n",
       "8   9.1276  13.3624\n",
       "9   9.3976  14.4080\n",
       "10  9.4554  11.9837\n",
       "11  9.5704  12.2718\n",
       "12  9.7728  11.5892"
      ]
     },
     "execution_count": 26,
     "metadata": {},
     "output_type": "execute_result"
    }
   ],
   "source": [
    "df_prices = pd.read_csv('data/sample_prices.csv')\n",
    "df_prices"
   ]
  },
  {
   "cell_type": "code",
   "execution_count": 27,
   "id": "e3706820",
   "metadata": {
    "ExecuteTime": {
     "end_time": "2021-08-20T21:10:53.748064Z",
     "start_time": "2021-08-20T21:10:53.733551Z"
    }
   },
   "outputs": [
    {
     "name": "stdout",
     "output_type": "stream",
     "text": [
      "<class 'pandas.core.frame.DataFrame'>\n",
      "RangeIndex: 13 entries, 0 to 12\n",
      "Data columns (total 2 columns):\n",
      " #   Column  Non-Null Count  Dtype  \n",
      "---  ------  --------------  -----  \n",
      " 0   BLUE    13 non-null     float64\n",
      " 1   ORANGE  13 non-null     float64\n",
      "dtypes: float64(2)\n",
      "memory usage: 336.0 bytes\n"
     ]
    }
   ],
   "source": [
    "df_prices.info()"
   ]
  },
  {
   "cell_type": "code",
   "execution_count": 76,
   "id": "a52ad4f1",
   "metadata": {
    "ExecuteTime": {
     "end_time": "2021-08-20T21:25:51.636645Z",
     "start_time": "2021-08-20T21:25:51.625051Z"
    }
   },
   "outputs": [],
   "source": [
    "# Calcular retornos con cualquiera de los métodos vistos\n",
    "df_returns = df_prices.pct_change()\n",
    "df_line = pd.DataFrame(index=df_returns.index)\n",
    "df_line['line'] = 0"
   ]
  },
  {
   "cell_type": "code",
   "execution_count": 82,
   "id": "47a0c980",
   "metadata": {
    "ExecuteTime": {
     "end_time": "2021-08-20T21:26:35.383091Z",
     "start_time": "2021-08-20T21:26:35.372030Z"
    }
   },
   "outputs": [
    {
     "data": {
      "text/html": [
       "<div>\n",
       "<style scoped>\n",
       "    .dataframe tbody tr th:only-of-type {\n",
       "        vertical-align: middle;\n",
       "    }\n",
       "\n",
       "    .dataframe tbody tr th {\n",
       "        vertical-align: top;\n",
       "    }\n",
       "\n",
       "    .dataframe thead th {\n",
       "        text-align: right;\n",
       "    }\n",
       "</style>\n",
       "<table border=\"1\" class=\"dataframe\">\n",
       "  <thead>\n",
       "    <tr style=\"text-align: right;\">\n",
       "      <th></th>\n",
       "      <th>BLUE</th>\n",
       "      <th>ORANGE</th>\n",
       "    </tr>\n",
       "  </thead>\n",
       "  <tbody>\n",
       "    <tr>\n",
       "      <th>0</th>\n",
       "      <td>NaN</td>\n",
       "      <td>NaN</td>\n",
       "    </tr>\n",
       "    <tr>\n",
       "      <th>1</th>\n",
       "      <td>0.023621</td>\n",
       "      <td>0.039662</td>\n",
       "    </tr>\n",
       "    <tr>\n",
       "      <th>2</th>\n",
       "      <td>-0.021807</td>\n",
       "      <td>-0.033638</td>\n",
       "    </tr>\n",
       "    <tr>\n",
       "      <th>3</th>\n",
       "      <td>-0.031763</td>\n",
       "      <td>0.082232</td>\n",
       "    </tr>\n",
       "    <tr>\n",
       "      <th>4</th>\n",
       "      <td>0.034477</td>\n",
       "      <td>0.044544</td>\n",
       "    </tr>\n",
       "    <tr>\n",
       "      <th>5</th>\n",
       "      <td>0.037786</td>\n",
       "      <td>-0.026381</td>\n",
       "    </tr>\n",
       "    <tr>\n",
       "      <th>6</th>\n",
       "      <td>-0.011452</td>\n",
       "      <td>-0.049187</td>\n",
       "    </tr>\n",
       "    <tr>\n",
       "      <th>7</th>\n",
       "      <td>0.032676</td>\n",
       "      <td>0.117008</td>\n",
       "    </tr>\n",
       "    <tr>\n",
       "      <th>8</th>\n",
       "      <td>-0.012581</td>\n",
       "      <td>0.067353</td>\n",
       "    </tr>\n",
       "    <tr>\n",
       "      <th>9</th>\n",
       "      <td>0.029581</td>\n",
       "      <td>0.078249</td>\n",
       "    </tr>\n",
       "    <tr>\n",
       "      <th>10</th>\n",
       "      <td>0.006151</td>\n",
       "      <td>-0.168261</td>\n",
       "    </tr>\n",
       "    <tr>\n",
       "      <th>11</th>\n",
       "      <td>0.012162</td>\n",
       "      <td>0.024041</td>\n",
       "    </tr>\n",
       "    <tr>\n",
       "      <th>12</th>\n",
       "      <td>0.021149</td>\n",
       "      <td>-0.055623</td>\n",
       "    </tr>\n",
       "  </tbody>\n",
       "</table>\n",
       "</div>"
      ],
      "text/plain": [
       "        BLUE    ORANGE\n",
       "0        NaN       NaN\n",
       "1   0.023621  0.039662\n",
       "2  -0.021807 -0.033638\n",
       "3  -0.031763  0.082232\n",
       "4   0.034477  0.044544\n",
       "5   0.037786 -0.026381\n",
       "6  -0.011452 -0.049187\n",
       "7   0.032676  0.117008\n",
       "8  -0.012581  0.067353\n",
       "9   0.029581  0.078249\n",
       "10  0.006151 -0.168261\n",
       "11  0.012162  0.024041\n",
       "12  0.021149 -0.055623"
      ]
     },
     "execution_count": 82,
     "metadata": {},
     "output_type": "execute_result"
    }
   ],
   "source": [
    "df_returns"
   ]
  },
  {
   "cell_type": "code",
   "execution_count": 111,
   "id": "f1e2c63f",
   "metadata": {
    "ExecuteTime": {
     "end_time": "2021-08-20T21:35:22.111402Z",
     "start_time": "2021-08-20T21:35:22.104893Z"
    }
   },
   "outputs": [
    {
     "data": {
      "text/plain": [
       "BLUE      0.01\n",
       "ORANGE    0.01\n",
       "dtype: float64"
      ]
     },
     "execution_count": 111,
     "metadata": {},
     "output_type": "execute_result"
    }
   ],
   "source": [
    "s_mean = df_returns.mean()\n",
    "s_mean"
   ]
  },
  {
   "cell_type": "code",
   "execution_count": 109,
   "id": "73c26914",
   "metadata": {
    "ExecuteTime": {
     "end_time": "2021-08-20T21:35:15.004828Z",
     "start_time": "2021-08-20T21:35:14.997897Z"
    }
   },
   "outputs": [
    {
     "data": {
      "text/plain": [
       "BLUE      0.023977\n",
       "ORANGE    0.079601\n",
       "dtype: float64"
      ]
     },
     "execution_count": 109,
     "metadata": {},
     "output_type": "execute_result"
    }
   ],
   "source": [
    "s_std = df_returns.std()\n",
    "s_std"
   ]
  },
  {
   "cell_type": "code",
   "execution_count": 142,
   "id": "396c5615",
   "metadata": {
    "ExecuteTime": {
     "end_time": "2021-08-20T22:52:22.705056Z",
     "start_time": "2021-08-20T22:52:22.535070Z"
    }
   },
   "outputs": [
    {
     "data": {
      "image/png": "[encoded data removed]",
      "text/plain": [
       "<Figure size 864x432 with 1 Axes>"
      ]
     },
     "metadata": {
      "needs_background": "light"
     },
     "output_type": "display_data"
    }
   ],
   "source": [
    "fig, ax = plt.subplots(figsize=(12,6))\n",
    "\n",
    "w = 0.2\n",
    "name_blue   = 'BLUE; Mean={:.2f}%; Vol={:.2f}%'.format(s_mean['BLUE']*100, s_std['BLUE']*100)\n",
    "name_orange = 'ORANGE; Mean={:.2f}%; Vol={:.2f}%'.format(s_mean['ORANGE']*100, s_std['ORANGE']*100)\n",
    "\n",
    "ax.bar(df_returns.index-w, height=df_returns['ORANGE'], width=w+.15, align='center',color='orange', label=name_orange,edgecolor ='black')\n",
    "ax.bar(df_returns.index+w, height=df_returns['BLUE'],   width=w+.15, align='center',color='BLUE', label=name_blue,edgecolor ='black')\n",
    "ax.plot(df_line.index, df_line['line'], color='black', label='')\n",
    "\n",
    "_ = ax.set_title('Return and Risk')\n",
    "_ = ax.set_xlim(0,df_returns.shape[0]-1)\n",
    "_ = ax.legend()\n",
    "_ = ax.set_xlabel('Period')\n",
    "_ = ax.set_ylabel('Returns')\n",
    "_ = ax.grid(color='gray', linestyle='dashed')\n",
    "_ = plt.xticks(np.arange(min(df_line.index), max(df_line.index), 1.0))"
   ]
  },
  {
   "cell_type": "markdown",
   "id": "a77af5f6",
   "metadata": {},
   "source": [
    "__¿Qué es exactamente un rendimiento, y cómo caracterizamos los rendimientos?__\n",
    "\n",
    "El gráfico superior muestra un conjunto de 12 rendimientos mensuales de dos activos. \n",
    "- Activo azul.\n",
    "- Activo naranja. \n",
    "\n",
    "El activo azul es mucho menos volátil, y se puede ver que tiende a tener menos variación mientras que el activo naranja es mucho más volátil. Pero lo interesante es que ambos activos tienen exactamente el mismo rendimiento mensual del 1%, así que estamos viendo 12 rendimientos, es decir, 12 meses, y el 1% es el rendimiento medio de estos dos activos pero claramente no se están comportando igual. \n",
    "\n",
    "Por lo tanto, los rendimientos medios no son una buena manera de ver cómo se comporta un activo ya que la rentabilidad media puede ser bastante engañosa. \n",
    "\n",
    "\n",
    "Una forma de tratar de entender la diferencia entre ellos es observando lo que sucedería si se invirtiera en estos dos activos. Al observar el gráfico inferior, si se ubiese invertido con 1.000 dólares en estos dos activos al comienzo del año, muestra que el activo azul se mueve y lo hace bastante bien, y el activo naranja está por todas partes y no terminan en el mismo punto.\n",
    "\n",
    "Por lo tanto, aunque la rentabilidad media mensual sea la misma, no significa que se vaya a terminar con la misma cantidad de dinero ya que al final del mes 12, tienes valores diferentes. "
   ]
  },
  {
   "cell_type": "code",
   "execution_count": 136,
   "id": "fee7f40d",
   "metadata": {
    "ExecuteTime": {
     "end_time": "2021-08-20T21:57:22.160923Z",
     "start_time": "2021-08-20T21:57:22.041765Z"
    }
   },
   "outputs": [
    {
     "data": {
      "image/png": "[encoded data removed]",
      "text/plain": [
       "<Figure size 864x432 with 1 Axes>"
      ]
     },
     "metadata": {
      "needs_background": "light"
     },
     "output_type": "display_data"
    }
   ],
   "source": [
    "_ = df_prices.plot(figsize=(12,6))"
   ]
  },
  {
   "cell_type": "markdown",
   "id": "7ba4f478",
   "metadata": {},
   "source": [
    "##  Rentabilidad compuesta\n",
    "\n",
    "Ahora que tenemos una serie de 12 rentabilidades mensuales, podemos producir la rentabilidad compuesta multiplicando las rentabilidades de cada periodo, siempre que las rentabilidades se expresen como tasas de crecimiento (formato \"1+R\").\n",
    "\n",
    "Para componer los rendimientos, todo lo que tenemos que hacer es añadir 1 a cada rendimiento y luego multiplicarlos. El resultado está a su vez en formato \"1+R\", por lo que tenemos que restar 1.\n"
   ]
  },
  {
   "cell_type": "code",
   "execution_count": 121,
   "id": "c2b45cb4",
   "metadata": {
    "ExecuteTime": {
     "end_time": "2021-08-20T21:40:41.905669Z",
     "start_time": "2021-08-20T21:40:41.893834Z"
    }
   },
   "outputs": [
    {
     "data": {
      "text/html": [
       "<div>\n",
       "<style scoped>\n",
       "    .dataframe tbody tr th:only-of-type {\n",
       "        vertical-align: middle;\n",
       "    }\n",
       "\n",
       "    .dataframe tbody tr th {\n",
       "        vertical-align: top;\n",
       "    }\n",
       "\n",
       "    .dataframe thead th {\n",
       "        text-align: right;\n",
       "    }\n",
       "</style>\n",
       "<table border=\"1\" class=\"dataframe\">\n",
       "  <thead>\n",
       "    <tr style=\"text-align: right;\">\n",
       "      <th></th>\n",
       "      <th>BLUE</th>\n",
       "      <th>ORANGE</th>\n",
       "    </tr>\n",
       "  </thead>\n",
       "  <tbody>\n",
       "    <tr>\n",
       "      <th>0</th>\n",
       "      <td>NaN</td>\n",
       "      <td>NaN</td>\n",
       "    </tr>\n",
       "    <tr>\n",
       "      <th>1</th>\n",
       "      <td>1.023621</td>\n",
       "      <td>1.039662</td>\n",
       "    </tr>\n",
       "    <tr>\n",
       "      <th>2</th>\n",
       "      <td>0.978193</td>\n",
       "      <td>0.966362</td>\n",
       "    </tr>\n",
       "    <tr>\n",
       "      <th>3</th>\n",
       "      <td>0.968237</td>\n",
       "      <td>1.082232</td>\n",
       "    </tr>\n",
       "    <tr>\n",
       "      <th>4</th>\n",
       "      <td>1.034477</td>\n",
       "      <td>1.044544</td>\n",
       "    </tr>\n",
       "    <tr>\n",
       "      <th>5</th>\n",
       "      <td>1.037786</td>\n",
       "      <td>0.973619</td>\n",
       "    </tr>\n",
       "    <tr>\n",
       "      <th>6</th>\n",
       "      <td>0.988548</td>\n",
       "      <td>0.950813</td>\n",
       "    </tr>\n",
       "    <tr>\n",
       "      <th>7</th>\n",
       "      <td>1.032676</td>\n",
       "      <td>1.117008</td>\n",
       "    </tr>\n",
       "    <tr>\n",
       "      <th>8</th>\n",
       "      <td>0.987419</td>\n",
       "      <td>1.067353</td>\n",
       "    </tr>\n",
       "    <tr>\n",
       "      <th>9</th>\n",
       "      <td>1.029581</td>\n",
       "      <td>1.078249</td>\n",
       "    </tr>\n",
       "    <tr>\n",
       "      <th>10</th>\n",
       "      <td>1.006151</td>\n",
       "      <td>0.831739</td>\n",
       "    </tr>\n",
       "    <tr>\n",
       "      <th>11</th>\n",
       "      <td>1.012162</td>\n",
       "      <td>1.024041</td>\n",
       "    </tr>\n",
       "    <tr>\n",
       "      <th>12</th>\n",
       "      <td>1.021149</td>\n",
       "      <td>0.944377</td>\n",
       "    </tr>\n",
       "  </tbody>\n",
       "</table>\n",
       "</div>"
      ],
      "text/plain": [
       "        BLUE    ORANGE\n",
       "0        NaN       NaN\n",
       "1   1.023621  1.039662\n",
       "2   0.978193  0.966362\n",
       "3   0.968237  1.082232\n",
       "4   1.034477  1.044544\n",
       "5   1.037786  0.973619\n",
       "6   0.988548  0.950813\n",
       "7   1.032676  1.117008\n",
       "8   0.987419  1.067353\n",
       "9   1.029581  1.078249\n",
       "10  1.006151  0.831739\n",
       "11  1.012162  1.024041\n",
       "12  1.021149  0.944377"
      ]
     },
     "execution_count": 121,
     "metadata": {},
     "output_type": "execute_result"
    }
   ],
   "source": [
    "df_returns + 1"
   ]
  },
  {
   "cell_type": "code",
   "execution_count": 129,
   "id": "4441848b",
   "metadata": {
    "ExecuteTime": {
     "end_time": "2021-08-20T21:44:06.675902Z",
     "start_time": "2021-08-20T21:44:06.658522Z"
    }
   },
   "outputs": [
    {
     "name": "stdout",
     "output_type": "stream",
     "text": [
      "Rendimientos compuestos (formato 1+R)\n",
      "BLUE      1.123310\n",
      "ORANGE    1.087167\n",
      "dtype: float64\n",
      "\n",
      "\n",
      "\n",
      "Rendimientos compuestos (formato 1+R)\n",
      "BLUE      1.123310\n",
      "ORANGE    1.087167\n",
      "dtype: float64\n",
      "\n",
      "\n",
      "\n",
      "Rendimientos compuestos\n",
      "BLUE      0.123310\n",
      "ORANGE    0.087167\n",
      "dtype: float64\n",
      "\n",
      "\n",
      "\n",
      "Rendimientos compuestos\n",
      "BLUE      12.33\n",
      "ORANGE     8.72\n",
      "dtype: float64\n"
     ]
    }
   ],
   "source": [
    "# Método 1 - numpy. Formato 1+R\n",
    "rend_comp = np.prod(df_returns+1)\n",
    "print('Rendimientos compuestos (formato 1+R)',rend_comp,sep='\\n')\n",
    "print(2*'\\n')\n",
    "\n",
    "# Método 2 - pandas. Formato 1+R\n",
    "rend_comp = (df_returns+1).prod()\n",
    "print('Rendimientos compuestos (formato 1+R)',rend_comp,sep='\\n')\n",
    "print(2*'\\n')\n",
    "\n",
    "# Formato R\n",
    "rend_comp = (df_returns+1).prod()-1\n",
    "print('Rendimientos compuestos',rend_comp,sep='\\n')\n",
    "print(2*'\\n')\n",
    "\n",
    "# Formato R\n",
    "rend_comp = (((df_returns+1).prod()-1)*100).round(2)\n",
    "print('Rendimientos compuestos',rend_comp,sep='\\n')"
   ]
  },
  {
   "cell_type": "markdown",
   "id": "5d7b4014",
   "metadata": {},
   "source": [
    "## Anualización de los rendimientos\n",
    "\n",
    "Para anualizar la rentabilidad de un periodo, se compone la rentabilidad tantas veces como periodos tenga el año. \n",
    "\n",
    "__Example.__\n",
    "\n",
    "<img src=\"images/annualizing returns.png\" width=\"400\" height=\"200\">\n",
    "\n",
    "__Ejemplos.__\n",
    "- Para anualizar una rentabilidad mensual se compone esa rentabilidad 12 veces. La fórmula para anualizar una rentabilidad mensual 𝑅𝑚 es:\n",
    "\n",
    "\\begin{align}\n",
    "(1+R_{m})^{12} - 1\n",
    "\\end{align}\n",
    "\n",
    "- Para anualizar una rentabilidad trimestral 𝑅𝑞 la formula es:\n",
    "\n",
    "\\begin{align}\n",
    "(1+R_{m})^{4} - 1\n",
    "\\end{align}\n",
    "\n",
    "- Para anualizar una rentabilidad diaria 𝑅𝑑 la formula es:\n",
    "\n",
    "\\begin{align}\n",
    "(1+R_{m})^{252} - 1\n",
    "\\end{align}\n"
   ]
  },
  {
   "cell_type": "code",
   "execution_count": 132,
   "id": "13bf7719",
   "metadata": {
    "ExecuteTime": {
     "end_time": "2021-08-20T21:49:05.114498Z",
     "start_time": "2021-08-20T21:49:05.110003Z"
    }
   },
   "outputs": [
    {
     "name": "stdout",
     "output_type": "stream",
     "text": [
      "Rentabilidad anual con 1% mensual: 12.68%\n"
     ]
    }
   ],
   "source": [
    "rm = 0.01\n",
    "\n",
    "rent_ann = (1+rm)**12 - 1\n",
    "print('Rentabilidad anual con {:.0f}% mensual: {:.2f}%'.format(rm*100, rent_ann*100))"
   ]
  },
  {
   "cell_type": "code",
   "execution_count": 134,
   "id": "59ecf85a",
   "metadata": {
    "ExecuteTime": {
     "end_time": "2021-08-20T21:49:22.026517Z",
     "start_time": "2021-08-20T21:49:22.022181Z"
    }
   },
   "outputs": [
    {
     "name": "stdout",
     "output_type": "stream",
     "text": [
      "Rentabilidad anual con 1% trimestral: 4.06%\n"
     ]
    }
   ],
   "source": [
    "rm = 0.01\n",
    "\n",
    "rent_ann = (1+rm)**4 - 1\n",
    "print('Rentabilidad anual con {:.0f}% trimestral: {:.2f}%'.format(rm*100, rent_ann*100))"
   ]
  },
  {
   "cell_type": "markdown",
   "id": "b7e663f7",
   "metadata": {},
   "source": [
    "__Exercise.__\n",
    "\n",
    "A stock gains 1% over a quarter (i.e. a 3 month period). What is it’s annualized return?\n"
   ]
  },
  {
   "cell_type": "code",
   "execution_count": 137,
   "id": "c83f31e2",
   "metadata": {
    "ExecuteTime": {
     "end_time": "2021-08-20T21:58:17.101686Z",
     "start_time": "2021-08-20T21:58:17.096792Z"
    }
   },
   "outputs": [
    {
     "name": "stdout",
     "output_type": "stream",
     "text": [
      "Annualized return is 4.06%\n"
     ]
    }
   ],
   "source": [
    "periodos_anuales = 12/3\n",
    "rm = 0.01\n",
    "annualized_return = (pow((1+rm),periodos_anuales)-1)\n",
    "print('Annualized return is {:.2f}%'.format(annualized_return*100))"
   ]
  }
 ],
 "metadata": {
  "kernelspec": {
   "display_name": "Python [conda env:AITGG]",
   "language": "python",
   "name": "conda-env-AITGG-py"
  },
  "language_info": {
   "codemirror_mode": {
    "name": "ipython",
    "version": 3
   },
   "file_extension": ".py",
   "mimetype": "text/x-python",
   "name": "python",
   "nbconvert_exporter": "python",
   "pygments_lexer": "ipython3",
   "version": "3.8.5"
  },
  "nbTranslate": {
   "displayLangs": [
    "*"
   ],
   "hotkey": "alt-t",
   "langInMainMenu": true,
   "sourceLang": "en",
   "targetLang": "fr",
   "useGoogleTranslate": true
  },
  "toc": {
   "base_numbering": 1,
   "nav_menu": {},
   "number_sections": true,
   "sideBar": true,
   "skip_h1_title": true,
   "title_cell": "Table of Contents",
   "title_sidebar": "Contents",
   "toc_cell": true,
   "toc_position": {},
   "toc_section_display": true,
   "toc_window_display": false
  },
  "varInspector": {
   "cols": {
    "lenName": 16,
    "lenType": 16,
    "lenVar": 40
   },
   "kernels_config": {
    "python": {
     "delete_cmd_postfix": "",
     "delete_cmd_prefix": "del ",
     "library": "var_list.py",
     "varRefreshCmd": "print(var_dic_list())"
    },
    "r": {
     "delete_cmd_postfix": ") ",
     "delete_cmd_prefix": "rm(",
     "library": "var_list.r",
     "varRefreshCmd": "cat(var_dic_list()) "
    }
   },
   "types_to_exclude": [
    "module",
    "function",
    "builtin_function_or_method",
    "instance",
    "_Feature"
   ],
   "window_display": false
  }
 },
 "nbformat": 4,
 "nbformat_minor": 5
}
