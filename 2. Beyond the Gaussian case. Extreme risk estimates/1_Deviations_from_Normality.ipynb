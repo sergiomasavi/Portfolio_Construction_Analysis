{
 "cells": [
  {
   "cell_type": "markdown",
   "id": "a816b927",
   "metadata": {
    "toc": true
   },
   "source": [
    "<h1>Table of Contents<span class=\"tocSkip\"></span></h1>\n",
    "<div class=\"toc\"><ul class=\"toc-item\"><li><span><a href=\"#Teoría\" data-toc-modified-id=\"Teoría-1\"><span class=\"toc-item-num\">1&nbsp;&nbsp;</span>Teoría</a></span><ul class=\"toc-item\"><li><span><a href=\"#Desviación-de-la-normalidad\" data-toc-modified-id=\"Desviación-de-la-normalidad-1.1\"><span class=\"toc-item-num\">1.1&nbsp;&nbsp;</span>Desviación de la normalidad</a></span></li></ul></li><li><span><a href=\"#Tipo-Test\" data-toc-modified-id=\"Tipo-Test-2\"><span class=\"toc-item-num\">2&nbsp;&nbsp;</span>Tipo Test</a></span></li></ul></div>"
   ]
  },
  {
   "cell_type": "markdown",
   "id": "b62f3bad",
   "metadata": {},
   "source": [
    "## Teoría"
   ]
  },
  {
   "cell_type": "markdown",
   "id": "24b80f40",
   "metadata": {},
   "source": [
    "### Desviación de la normalidad\n",
    "\n",
    "Las desviaciones de la normalidad permiten argumentar que los rendimientos reales de las series temporales de diferentes clases de activos en realidad no se distribuyen normalmente de tal manera que una suposición normal es simplemente una suposición simplificadora. \n",
    "\n",
    "\n",
    "Por ejemplo, el siguiente ejemplo corresponde a los rendimientos obtenidos en un activo simulado. En este caso, estamos simulando devoluciones diarias de stock en el que se asume una distribución normal. Cuando asumimos una distribución normal, lo que vemos es que existe muy poca probabilidad de que los rendimientos de activos adquieran valores positivos muy grandes o valores negativos muy grandes. En este caso particular, sólo hay un 0.5 por ciento de probabilidad de obtener un rendimiento diario superior al 2% o un rendimiento diario por debajo del 2%. \n",
    "\n",
    "\n",
    "<img src=\"images/Stock_simulado.png\" width=\"400\" height=\"200\">\n",
    "\n",
    "\n",
    "El siguiente ejemplo representa la serie temporal de retornos reales de un determinado activo. En este caso, estamos viendo el retorno diario de stock y el retorno real de stock. Lo que encontramos es que obtienes beneficios mucho mayores en comparación con la suposición gaussiana. En particular, vemos en esta imagen que los retornos diarios pueden ser mayores al 10% o tan malos como menos 10%. También vemos que la probabilidad de obtener retornos por encima o por debajo del 2% es bastante alta. Esto es mucho más frecuente. \n",
    "\n",
    "\n",
    "<img src=\"images/Stock_Real.png\" width=\"400\" height=\"200\">\n",
    "\n",
    "\n",
    "En otras palabras, llegamos a la conclusión de que la hipótesis de distribución normal es una suposición simplificadora que subestiman la magnitud de los rendimientos extremos. Para hacer justicia a la forma real de la distribución de retorno, debemos ir más allá de la media y la varianza y, además, utilizar la asimetría y la kurtosis.\n",
    "\n",
    "- La asimetría es una medida de asimetría de la distribución. La distribución normal es una forma de campana simétrica. Por lo tanto, la probabilidad de obtener un resultado por debajo de la media es exactamente la misma que la probabilidad de obtener un resultado por encima de la media. \n",
    "\n",
    "<img src=\"images/asimetria.png\" width=\"400\" height=\"400\">\n",
    "\n",
    "    Para calcular la asimetría se utiliza la siguiente ecuación:\n",
    "\n",
    "\\begin{align}\n",
    "S(R) = \\frac{E[(R-E(R))^{3}]}{[Var(R)]^{3/2}}=\\frac{E[(R-E(R))^{3}]}{[\\sigma(R)]^{3}}\n",
    "\\end{align}\n",
    "\n",
    "    - Si la distribución tiene una asimetría negativa entonces, la probabilidad de obtener un resultado por debajo de la media es mayor que la probabilidad de obtener un resultado por encima de la media.\n",
    "    \n",
    "    - Si la distribución tiene una asimetría positiva entonces, la probabilidad de obtener un resultado por encima de la media es mayor que la probabilidad de obtener un resultado por debajo de la media.\n",
    "    \n",
    "- La kurtosis es una medida del grosor de la cola de la distribución, en otras palabras, mide cuán escarpada o achatada es una curva de distribución. La distribución gaussiana tiene colas muy delgadas ya que disminuye muy bruscamente a cero, lo que implica que precisamente, la probabilidad de obtener resultados negativos o positivos muy grandes tiende a ser muy pequeña. En rendimientos reales esos retornos de distribución como hemos visto tienden a tener colas más gruesas. \n",
    "\n",
    "<img src=\"images/kurtosis.png\" width=\"400\" height=\"400\">\n",
    "\n",
    "    Para calcular la kurtosis se utiliza la siguiente ecuación:\n",
    "\n",
    "\\begin{align}\n",
    "K(R) = \\frac{E[(R-E(R))^{4}]}{[Var(R)]^{2}}=\\frac{E[(R-E(R))^{3}]}{[\\sigma(R)]^{4}}\n",
    "\\end{align}  \n",
    "    \n",
    "Para la distribución gaussiana, la kurtosis es igual a tres y, por lo tanto, cualquier distribución de retorno que tenga una kurtosis superior a tres se denomina una __distribución de cola de gruesa__. \n",
    "\n",
    "    Para calcular el exceso de kurtosis se utiliza la siguiente ecuación:\n",
    "    \n",
    "\\begin{align}\n",
    "Exceso_K(R) = K(R) - 3\n",
    "\\end{align}  \n",
    "\n",
    "Para comprobar si una distribución es estadísticamente distinta a una distribución normal es posible utilizar o preparar diferentes test estadísticos como el test de Jarque-Bera (uno de los más utilizados). Para ello, se aplica la siguiente ecuación:\n",
    "\n",
    "\\begin{align}\n",
    "JB = \\frac{N}{6}(S^{2} + \\frac{ (K-3)^{2}}{4}) --> Chi-squared(2)\n",
    "\\end{align}  \n",
    "\n",
    "__Ejemplo 1.__\n",
    "\n",
    "La siguiente tabla de retornos de diferentes activos no se distribuyen normalmente. Si nos fijamos en los números de asimetría, hay muchos de ellos que son realmente negativos y también fuertemente negativos. Por lo tanto, la probabilidad de que los rendimientos se encuentren por debajo de la media es realmente mayor que la probabilidad de estar por encima de la media, lo que obviamente no es una buena noticia. \n",
    "\n",
    "<img src=\"images/evidence_non_normality.png\" width=\"400\" height=\"400\">\n",
    "\n",
    "\n",
    "Cuando miramos la kurtosis o el exceso de kurtosis, se obtienen números que son muy positivos, es decir, la mayoría de las veces, la kurtosis de la distribución del retorno es superior a tres. Además, en realidad es mucho más alto que tres en la mayoría de los casos llegando a exceder el valor de 10 y 20. Esto sugiere que los rendimientos de los fondos de cobertura están muy mal distribuidos. \n",
    "\n",
    "A continuación, es posible preparar una prueba estadística que nos indique si una distribución dada es o no estadísticamente diferente de la distribución normal utilizando el test de Jarque-Bera. \n",
    "\n",
    "En este test, bajo la hipótesis nula de un retorno normalmente distribuido, cuando la asimetría es cero, el exceso de Kurtosis es cero, y las estadísticas Jarque-Bera luego toma el valor igual a cero. Ahora, por supuesto, en una muestra dada, podríamos encontrar desviación de la normalidad.\n",
    "\n",
    "\n",
    "__Conclusiones__\n",
    "- La mayoría de los rendimientos de activos no se distribuyen normalmente. \n",
    "- Suponer que los rendimientos se distribuyen supone un gran costo ya que es una función simplificadora porque esas desviaciones de la normalidad, pueden ser bastante severas con mayor probabilidad que con la distribución normal. \n",
    "- Una vez ententido este concepto, se introducen las medidas de riesgo extremo que van más allá de la volatilidad y que van a hacer un trabajo mucho mejor en la medición de estos riesgos extremos a la baja (propio de la distribución normal)."
   ]
  },
  {
   "cell_type": "markdown",
   "id": "d6ce09ac",
   "metadata": {},
   "source": [
    "__NOTA__\n",
    "\n",
    "<div class=\"alert alert-info\">\n",
    "\n",
    "Anteriormente se ha afirmado que en el caso de que la distribución de rendimientos tenga asimetría negativa, la probabilidad de tener un rendimiento por debajo de la media es mayor que en el caso de asimetría cero.\n",
    "\n",
    "En realidad, esta afirmación es incorrecta. En una distribución con asimetría negativa, la media suele ser menor que la mediana porque los pocos resultados bajos tienden a desplazar la media hacia la izquierda. En consecuencia, si la media es inferior a la mediana, la probabilidad de un resultado superior a la media es mayor que la probabilidad de un resultado inferior a la media. \n",
    "\n",
    "El mensaje principal aquí es que el uso de la volatilidad como estimación del riesgo para una distribución con sesgo negativo puede llevar a subestimar el riesgo de cola asociado a los fuertes rendimientos negativos.\n",
    "</div>"
   ]
  },
  {
   "cell_type": "markdown",
   "id": "39444197",
   "metadata": {},
   "source": [
    "## Tipo Test\n",
    "\n",
    "__Pregunta 1. Considere dos distribuciones de cartera con media = 0, volatilidad = 1 para ambas, un valor de asimetría = -0,75 y de curtosis = 6,06 para la azul, frente a 0 y 3, respectivamente, para la rosa. ¿Cuál prefieres?__\n",
    "\n",
    "La rosa es mejor distribución, ya que tiene una distribución gaussiana y una menor probabilidad de pérdidas graves en comparación con la azul\n",
    "\n",
    "\n",
    "__Pregunta 2. La rentabilidad mensual más baja registrada para el índice de fondos de cobertura Global Macro en el periodo 1997-2018 es del -3.1%, que resulta estar 2.5 desviaciones estándar por debajo de la media histórica. Este evento se produciría con una probabilidad del 0.63% si la distribución de la rentabilidad fuera normal. Por favor, indique cuántos meses de media habría que esperar para observar tal evento.__\n",
    "\n",
    "La respuesta viene dada por el 1/0.63%, que es de 158.73 meses, es decir, 13.23 años. "
   ]
  }
 ],
 "metadata": {
  "kernelspec": {
   "display_name": "Python 3.8.5 64-bit ('AITGG': conda)",
   "language": "python",
   "name": "python385jvsc74a57bd04592e64615f769e19d02d67efecdf24dbbde8900a22a54873431e68806567084"
  },
  "language_info": {
   "codemirror_mode": {
    "name": "ipython",
    "version": 3
   },
   "file_extension": ".py",
   "mimetype": "text/x-python",
   "name": "python",
   "nbconvert_exporter": "python",
   "pygments_lexer": "ipython3",
   "version": "3.8.5"
  },
  "nbTranslate": {
   "displayLangs": [
    "*"
   ],
   "hotkey": "alt-t",
   "langInMainMenu": true,
   "sourceLang": "en",
   "targetLang": "fr",
   "useGoogleTranslate": true
  },
  "toc": {
   "base_numbering": 1,
   "nav_menu": {},
   "number_sections": true,
   "sideBar": true,
   "skip_h1_title": true,
   "title_cell": "Table of Contents",
   "title_sidebar": "Contents",
   "toc_cell": true,
   "toc_position": {},
   "toc_section_display": true,
   "toc_window_display": false
  },
  "varInspector": {
   "cols": {
    "lenName": 16,
    "lenType": 16,
    "lenVar": 40
   },
   "kernels_config": {
    "python": {
     "delete_cmd_postfix": "",
     "delete_cmd_prefix": "del ",
     "library": "var_list.py",
     "varRefreshCmd": "print(var_dic_list())"
    },
    "r": {
     "delete_cmd_postfix": ") ",
     "delete_cmd_prefix": "rm(",
     "library": "var_list.r",
     "varRefreshCmd": "cat(var_dic_list()) "
    }
   },
   "types_to_exclude": [
    "module",
    "function",
    "builtin_function_or_method",
    "instance",
    "_Feature"
   ],
   "window_display": false
  }
 },
 "nbformat": 4,
 "nbformat_minor": 5
}
